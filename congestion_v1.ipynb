{
  "nbformat": 4,
  "nbformat_minor": 0,
  "metadata": {
    "colab": {
      "provenance": [],
      "toc_visible": true,
      "authorship_tag": "ABX9TyNIykuwDMzdDef3fmO5/SD4",
      "include_colab_link": true
    },
    "kernelspec": {
      "name": "python3",
      "display_name": "Python 3"
    },
    "language_info": {
      "name": "python"
    }
  },
  "cells": [
    {
      "cell_type": "markdown",
      "metadata": {
        "id": "view-in-github",
        "colab_type": "text"
      },
      "source": [
        "<a href=\"https://colab.research.google.com/github/fabriziobasso/kaggle/blob/main/congestion_v1.ipynb\" target=\"_parent\"><img src=\"https://colab.research.google.com/assets/colab-badge.svg\" alt=\"Open In Colab\"/></a>"
      ]
    },
    {
      "cell_type": "markdown",
      "source": [
        "# Time Series Studies: Tabular Playground Series - Mar 2022\n",
        "\n",
        "[Link](https://www.kaggle.com/competitions/tabular-playground-series-mar-2022/data)\n",
        "\n",
        "Based on the following Notebooks:\n",
        "1. [TFT Model](https://www.kaggle.com/code/abdulravoofshaik/private-lb-top-2-google-s-tft)\n",
        "2. [Competition Winner](https://www.kaggle.com/competitions/tabular-playground-series-mar-2022/discussion/316271)\n",
        "\n",
        "### Dataset Description\n",
        "In this competition, you'll forecast twelve-hours of traffic flow in a major U.S. metropolitan area. Time, space, and directional features give you the chance to model interactions across a network of roadways.\n",
        "\n",
        "\n",
        "Files and Field Descriptions\n",
        "\n",
        "* **train.csv** - the training set, comprising measurements of traffic congestion across 65 roadways from April through September of 1991.\n",
        "  * row_id - a unique identifier for this instance\n",
        "  * time - the 20-minute period in which each measurement was taken\n",
        "  * x - the east-west midpoint coordinate of the roadway\n",
        "  * y - the north-south midpoint coordinate of the roadway\n",
        "  * direction - the direction of travel of the roadway. EB indicates \"eastbound\" travel, for example, while SW indicates a \"southwest\" direction of travel.\n",
        "congestion - congestion levels for the roadway during each hour; the target. The congestion measurements have been normalized to the range 0 to 100.\n",
        "\n",
        "* **test.csv** - the test set; you will make hourly predictions for roadways identified by a coordinate location and a direction of travel on the day of 1991-09-30.\n",
        "* **sample_submission.csv** - a sample submission file in the correct format"
      ],
      "metadata": {
        "id": "WH9iM0pLB4rq"
      }
    },
    {
      "cell_type": "markdown",
      "metadata": {
        "id": "y7wvddu4riye"
      },
      "source": [
        "## 1.0 Install Packages:"
      ]
    },
    {
      "cell_type": "code",
      "execution_count": 1,
      "metadata": {
        "id": "NssaJaAQngVv"
      },
      "outputs": [],
      "source": [
        "%%capture\n",
        "!pip install tensorflow-addons\n",
        "#!pip install shap\n",
        "#!pip install eli5\n",
        "#!pip install tf-nightly\n",
        "#!pip install -U scikit-learn==1.2.0\n",
        "#!pip install catboost\n",
        "#!pip install haversine\n",
        "!pip install umap-learn\n",
        "#!pip install reverse_geocoder\n",
        "#!pip install --upgrade protobuf\n",
        "!pip install colorama\n",
        "!pip install imbalanced-learn\n",
        "!pip install optuna\n",
        "!pip install optuna-integration\n",
        "#!pip install pygam\n",
        "!pip install keras-tuner --upgrade\n",
        "#!pip install pycaret"
      ]
    },
    {
      "cell_type": "markdown",
      "metadata": {
        "id": "-aEn1w28Dxbh"
      },
      "source": [
        "## **2.0 Packages**"
      ]
    },
    {
      "cell_type": "code",
      "execution_count": 2,
      "metadata": {
        "colab": {
          "base_uri": "https://localhost:8080/",
          "height": 69
        },
        "id": "remwXrYBDxbh",
        "outputId": "6b6bb3c9-6306-4c0d-c7ee-e5ee6868d166"
      },
      "outputs": [
        {
          "output_type": "stream",
          "name": "stdout",
          "text": [
            "Importing started...\n",
            "Done, All the required modules are imported. Time elapsed: 5.596449613571167 sec\n"
          ]
        },
        {
          "output_type": "display_data",
          "data": {
            "text/plain": [
              "<Figure size 640x480 with 0 Axes>"
            ]
          },
          "metadata": {}
        }
      ],
      "source": [
        "#importing modules\n",
        "\n",
        "import warnings\n",
        "warnings.filterwarnings('ignore')\n",
        "import time\n",
        "t = time.time()\n",
        "\n",
        "print('Importing started...')\n",
        "\n",
        "# basic moduele\n",
        "import os\n",
        "import numpy as np\n",
        "import pandas as pd\n",
        "import re\n",
        "#from scipy import stats\n",
        "from random import randint\n",
        "import random\n",
        "import math\n",
        "import os\n",
        "import gc\n",
        "import pickle\n",
        "from glob import glob\n",
        "from IPython import display as ipd\n",
        "from tqdm import tqdm\n",
        "from datetime import datetime\n",
        "from joblib import dump, load\n",
        "import sklearn as sk\n",
        "from imblearn.over_sampling import SMOTE, RandomOverSampler\n",
        "from functools import partial\n",
        "import itertools\n",
        "from itertools import combinations\n",
        "import IPython\n",
        "import IPython.display\n",
        "\n",
        "# visualization moduels\n",
        "import matplotlib.pyplot as plt\n",
        "import matplotlib as mpl\n",
        "import matplotlib.gridspec as gridspec\n",
        "import matplotlib.patches as mpatches\n",
        "from matplotlib_venn import venn2_unweighted\n",
        "import seaborn as sns\n",
        "import missingno as msno\n",
        "import imblearn\n",
        "\n",
        "# Palette Setup\n",
        "colors = ['#FB5B68','#FFEB48','#2676A1','#FFBDB0',]\n",
        "colormap_0 = mpl.colors.LinearSegmentedColormap.from_list(\"\",colors)\n",
        "palette_1 = sns.color_palette(\"coolwarm\", as_cmap=True)\n",
        "palette_2 = sns.color_palette(\"YlOrBr\", as_cmap=True)\n",
        "palette_3 = sns.light_palette(\"red\", as_cmap=True)\n",
        "palette_4 = sns.color_palette(\"viridis\", as_cmap=True)\n",
        "palette_5 = sns.color_palette(\"rocket\", as_cmap=True)\n",
        "palette_6 = sns.color_palette(\"GnBu\", as_cmap=True)\n",
        "palette_7 = sns.color_palette(\"tab20c\", as_cmap=False)\n",
        "palette_8 = sns.color_palette(\"Set2\", as_cmap=False)\n",
        "\n",
        "palette_custom = ['#fbb4ae','#b3cde3','#ccebc5','#decbe4','#fed9a6','#ffffcc','#e5d8bd','#fddaec','#f2f2f2']\n",
        "palette_9 = sns.color_palette(palette_custom, as_cmap=False)\n",
        "\n",
        "sns.set_style(\"whitegrid\",{\"grid.linestyle\":\"--\", 'grid.linewidth':0.2, 'grid.alpha':0.5})\n",
        "sns.despine(left=True, bottom=True, top=False, right=False)\n",
        "\n",
        "mpl.rcParams['axes.spines.left'] = True\n",
        "mpl.rcParams['axes.spines.right'] = False\n",
        "mpl.rcParams['axes.spines.top'] = False\n",
        "mpl.rcParams['axes.spines.bottom'] = True\n",
        "\n",
        "# Style Import\n",
        "from colorama import Style, Fore\n",
        "red = Style.BRIGHT + Fore.RED\n",
        "blu = Style.BRIGHT + Fore.BLUE\n",
        "mgt = Style.BRIGHT + Fore.MAGENTA\n",
        "gld = Style.BRIGHT + Fore.YELLOW\n",
        "res = Style.RESET_ALL\n",
        "\n",
        "# preprocessing modules\n",
        "from sklearn.model_selection import (train_test_split,\n",
        "                                     KFold,\n",
        "                                     StratifiedKFold,\n",
        "                                     cross_val_score,\n",
        "                                     GroupKFold,\n",
        "                                     GridSearchCV,\n",
        "                                     RepeatedStratifiedKFold)\n",
        "\n",
        "from sklearn.preprocessing import (LabelEncoder,\n",
        "                                   StandardScaler,\n",
        "                                   MinMaxScaler,\n",
        "                                   OrdinalEncoder,\n",
        "                                   RobustScaler,\n",
        "                                   PowerTransformer,\n",
        "                                   OneHotEncoder,\n",
        "                                   LabelEncoder,\n",
        "                                   OrdinalEncoder,\n",
        "                                   PolynomialFeatures)\n",
        "\n",
        "from sklearn.decomposition import PCA\n",
        "from sklearn.compose import ColumnTransformer\n",
        "\n",
        "from sklearn.feature_selection import SelectFromModel\n",
        "\n",
        "\n",
        "# metrics\n",
        "from sklearn.metrics import (mean_squared_error,\n",
        "                             r2_score,\n",
        "                             mean_absolute_error,\n",
        "                             mean_absolute_percentage_error,\n",
        "                             classification_report,\n",
        "                             confusion_matrix,\n",
        "                             ConfusionMatrixDisplay,\n",
        "                             multilabel_confusion_matrix,\n",
        "                             accuracy_score,\n",
        "                             roc_auc_score,\n",
        "                             auc,\n",
        "                             roc_curve,\n",
        "                             log_loss)\n",
        "\n",
        "\n",
        "# modeling algos\n",
        "from sklearn.linear_model import (LogisticRegression,\n",
        "                                  Lasso,\n",
        "                                  ridge_regression,\n",
        "                                  LinearRegression,\n",
        "                                  Ridge,\n",
        "                                  RidgeCV,\n",
        "                                  ElasticNet,\n",
        "                                  BayesianRidge,\n",
        "                                  TweedieRegressor,\n",
        "                                  ARDRegression,\n",
        "                                  PoissonRegressor,\n",
        "                                  GammaRegressor)\n",
        "\n",
        "from sklearn.neighbors import KNeighborsRegressor\n",
        "\n",
        "from sklearn.tree import DecisionTreeRegressor\n",
        "from sklearn.isotonic import IsotonicRegression\n",
        "\n",
        "from sklearn.ensemble import (AdaBoostRegressor,\n",
        "                              RandomForestRegressor,\n",
        "                              RandomForestClassifier,\n",
        "                              VotingRegressor,\n",
        "                              GradientBoostingRegressor,\n",
        "                              StackingRegressor,\n",
        "                              HistGradientBoostingClassifier,\n",
        "                              ExtraTreesClassifier)\n",
        "\n",
        "from sklearn.base import BaseEstimator, TransformerMixin\n",
        "\n",
        "# Other Models\n",
        "#from pygam import LogisticGAM, s, te\n",
        "import xgboost as xgb\n",
        "from xgboost import XGBRegressor, XGBClassifier\n",
        "import lightgbm as lgb\n",
        "from lightgbm import (LGBMRegressor,\n",
        "                      LGBMClassifier,\n",
        "                      early_stopping,\n",
        "                      record_evaluation,\n",
        "                      log_evaluation)\n",
        "\n",
        "#import catboost as cat\n",
        "#from catboost import CatBoost, CatBoostRegressor\n",
        "#from catboost import CatBoostClassifier\n",
        "\n",
        "#from catboost.utils import get_roc_curve\n",
        "\n",
        "from lightgbm import early_stopping\n",
        "# check installed version\n",
        "#import pycaret\n",
        "\n",
        "from sklearn.base import clone ## sklearn base models for stacked ensemble model\n",
        "from sklearn.calibration import CalibratedClassifierCV, CalibrationDisplay\n",
        "\n",
        "#Interpretiability of the model\n",
        "#import shap\n",
        "#import eli5\n",
        "#from eli5.sklearn import PermutationImportance\n",
        "\n",
        "\n",
        "## miss\n",
        "from sklearn.pipeline import (make_pipeline,\n",
        "                              Pipeline)\n",
        "\n",
        "\n",
        "import tensorflow as tf\n",
        "from tensorflow import keras\n",
        "from tensorflow.keras import layers\n",
        "import tensorflow.keras.backend as K\n",
        "import tensorflow_addons as tfa\n",
        "from keras.utils import FeatureSpace\n",
        "\n",
        "# Import libraries for Hypertuning\n",
        "import kerastuner as kt\n",
        "from kerastuner.tuners import RandomSearch, GridSearch, BayesianOptimization\n",
        "# Model Tuning tools:\n",
        "import optuna\n",
        "from optuna.integration import TFKerasPruningCallback\n",
        "from optuna.trial import TrialState\n",
        "from optuna.visualization import plot_intermediate_values\n",
        "from optuna.visualization import plot_optimization_history\n",
        "from optuna.visualization import plot_param_importances\n",
        "from optuna.visualization import plot_contour\n",
        "%matplotlib inline\n",
        "SEED = 1984\n",
        "N_SPLITS = 10\n",
        "\n",
        "print('Done, All the required modules are imported. Time elapsed: {} sec'.format(time.time()-t))"
      ]
    },
    {
      "cell_type": "code",
      "execution_count": 3,
      "metadata": {
        "colab": {
          "base_uri": "https://localhost:8080/"
        },
        "id": "OAB1kcdZDxbi",
        "outputId": "368cfdf5-19b1-4613-fffd-9e70cc4acf92"
      },
      "outputs": [
        {
          "output_type": "stream",
          "name": "stdout",
          "text": [
            "CHECK VERSIONS:\n",
            "sns: 0.12.2\n",
            "mpl: 3.7.1\n",
            "tensorflow: 2.12.0\n",
            "pandas: 1.5.3\n",
            "numpy: 1.23.5\n",
            "scikit-learn: 1.2.2\n",
            "missingno: 0.5.2\n",
            "Inbalance_Learning: 0.10.1\n",
            "XGBoost: 1.7.6\n"
          ]
        }
      ],
      "source": [
        "# Check Versions:\n",
        "print(\"CHECK VERSIONS:\")\n",
        "print(f\"sns: {sns.__version__}\")\n",
        "print(f\"mpl: {mpl.__version__}\")\n",
        "print(f\"tensorflow: {tf.__version__}\")\n",
        "print(f\"pandas: {pd.__version__}\")\n",
        "print(f\"numpy: {np.__version__}\")\n",
        "print(f\"scikit-learn: {sk.__version__}\")\n",
        "#print(f\"statsmodels: {stm.__version__}\")\n",
        "print(f\"missingno: {msno.__version__}\")\n",
        "#print(f\"TF-addon: {tfa.__version__}\")\n",
        "print(f\"Inbalance_Learning: {imblearn.__version__}\")\n",
        "print(f\"XGBoost: {xgb.__version__}\")\n",
        "#print(f\"CatBoost: {cat.__version__}\")\n",
        "#print(f\"PyCaret: {pycaret.__version__}\")"
      ]
    },
    {
      "cell_type": "markdown",
      "metadata": {
        "id": "hFAGryGDDxbi"
      },
      "source": [
        "**Settings:**"
      ]
    },
    {
      "cell_type": "code",
      "execution_count": 4,
      "metadata": {
        "id": "3Yv_lYmRDxbi"
      },
      "outputs": [],
      "source": [
        "tf.random.set_seed(0)\n",
        "np.random.seed(0)\n",
        "random.seed(42)\n",
        "\n",
        "SEED = 42\n",
        "def seed_everything(seed=42):\n",
        "    random.seed(seed)\n",
        "    os.environ['PYTHONHASHSEED'] = str(seed)\n",
        "    np.random.seed(seed)\n",
        "    tf.random.set_seed(seed)\n",
        "    tf.compat.v1.set_random_seed(seed)\n",
        "    session_conf = tf.compat.v1.ConfigProto(intra_op_parallelism_threads=1, inter_op_parallelism_threads=1)\n",
        "    sess = tf.compat.v1.Session(graph=tf.compat.v1.get_default_graph(), config=session_conf)\n",
        "    tf.compat.v1.keras.backend.set_session(sess)\n",
        "\n",
        "seed_everything(SEED)"
      ]
    },
    {
      "cell_type": "code",
      "execution_count": 5,
      "metadata": {
        "id": "iq6efrlWTWc5"
      },
      "outputs": [],
      "source": [
        "input_seq_length = 48\n",
        "output_seq_length = 24\n",
        "\n",
        "lr = 0.001\n",
        "num_epochs = 100\n",
        "batch_size = 128\n",
        "hidden_size = 32\n",
        "num_gru_layers = 1\n",
        "grad_clip = 1.0\n",
        "scheduled_sampling_decay = 10\n",
        "dropout = 0.25"
      ]
    },
    {
      "cell_type": "markdown",
      "metadata": {
        "id": "STsF4sfaDxbj"
      },
      "source": [
        "### **2.1 Connect Drives**"
      ]
    },
    {
      "cell_type": "markdown",
      "metadata": {
        "id": "0D_HgNN1Dxbj"
      },
      "source": [
        "Verify System:"
      ]
    },
    {
      "cell_type": "code",
      "execution_count": 6,
      "metadata": {
        "colab": {
          "base_uri": "https://localhost:8080/"
        },
        "id": "6nucekKRDxbj",
        "outputId": "38111f1b-a74b-49d1-b35b-70178c7df574"
      },
      "outputs": [
        {
          "output_type": "stream",
          "name": "stdout",
          "text": [
            "/bin/bash: line 1: nvidia-smi: command not found\n"
          ]
        }
      ],
      "source": [
        "gpu_info = !nvidia-smi\n",
        "gpu_info = '\\n'.join(gpu_info)\n",
        "if gpu_info.find('failed') >= 0:\n",
        "  print('Not connected to a GPU')\n",
        "else:\n",
        "  print(gpu_info)"
      ]
    },
    {
      "cell_type": "markdown",
      "metadata": {
        "id": "2xwI9dKRDxbj"
      },
      "source": [
        "Connect to Google Drive:"
      ]
    },
    {
      "cell_type": "code",
      "execution_count": 7,
      "metadata": {
        "id": "XnZHOmpDDxbj"
      },
      "outputs": [],
      "source": [
        "%%capture\n",
        "# Connect to Colab:\n",
        "from google.colab import drive\n",
        "drive.mount('/content/drive')"
      ]
    },
    {
      "cell_type": "code",
      "execution_count": 8,
      "metadata": {
        "colab": {
          "base_uri": "https://localhost:8080/"
        },
        "id": "tcufbAJ7JLTp",
        "outputId": "30b0d58b-2b3c-4115-f518-f3325575ff4f"
      },
      "outputs": [
        {
          "output_type": "stream",
          "name": "stdout",
          "text": [
            "/content/drive/MyDrive/Exercises/Time_Series_Studies/Data/congestion_data already exists\n",
            "/content/drive/MyDrive/Exercises/Time_Series_Studies/Data/congestion_data/train_valid_data already exists\n",
            "/content/drive/MyDrive/Exercises/Time_Series_Studies/Models/congestion_data/TS_Study_0 already exists\n",
            "/content/drive/MyDrive/Exercises/Time_Series_Studies/Models/TS_Study_0/congestion_data/neural_networks/ already exists\n"
          ]
        }
      ],
      "source": [
        "folder_data = \"/content/drive/MyDrive/Exercises/Time_Series_Studies/Data/congestion_data\"\n",
        "folder_train_valid = \"/content/drive/MyDrive/Exercises/Time_Series_Studies/Data/congestion_data/train_valid_data\"\n",
        "models_folders = \"/content/drive/MyDrive/Exercises/Time_Series_Studies/Models/congestion_data/TS_Study_0\"\n",
        "folders_nn = \"/content/drive/MyDrive/Exercises/Time_Series_Studies/Models/TS_Study_0/congestion_data/neural_networks/\"\n",
        "\n",
        "list_directories = [folder_data,folder_train_valid,models_folders,folders_nn]\n",
        "\n",
        "for path in list_directories:\n",
        "  try:\n",
        "      os.mkdir(path)\n",
        "  except OSError as error:\n",
        "      print(f\"{path} already exists\")\n",
        "\n",
        "\n",
        "os.chdir(folder_data)"
      ]
    },
    {
      "cell_type": "markdown",
      "source": [
        "### 2.2 Utility Functions:"
      ],
      "metadata": {
        "id": "HuPouZ4bWyPs"
      }
    },
    {
      "cell_type": "markdown",
      "source": [
        "#### 2.2.1 Visualization Utilities:"
      ],
      "metadata": {
        "id": "JxzRVYWcW3S9"
      }
    },
    {
      "cell_type": "code",
      "source": [
        "cell_hover = {  # for row hover use <tr> instead of <td>\n",
        "    'selector': 'td:hover',\n",
        "    'props': [('background-color', '#ffffb3')]\n",
        "}\n",
        "index_names = {\n",
        "    'selector': '.index_name',\n",
        "    'props': 'font-style: italic; color: darkgrey; font-weight:normal;'\n",
        "}\n",
        "headers = {\n",
        "    'selector': 'th:not(.index_name)',\n",
        "    'props': 'background-color: #000000; color: white;'\n",
        "}\n",
        "from IPython.display import HTML\n",
        "\n",
        "def missing_data(data):\n",
        "    total = data.isnull().sum()\n",
        "    percent = (data.isnull().sum()/data.isnull().count()*100)\n",
        "    tt = pd.concat([total, percent], axis=1, keys=['Total', 'Percent'])\n",
        "    types = []\n",
        "    for col in data.columns:\n",
        "        dtype = str(data[col].dtype)\n",
        "        types.append(dtype)\n",
        "    tt['Types'] = types\n",
        "    return(np.transpose(tt))"
      ],
      "metadata": {
        "id": "Qpj1CGE6WxKM"
      },
      "execution_count": 9,
      "outputs": []
    },
    {
      "cell_type": "markdown",
      "source": [
        "#### 2.2.2 Utility Functions:"
      ],
      "metadata": {
        "id": "oc3szHj8W81E"
      }
    },
    {
      "cell_type": "markdown",
      "source": [
        "* Notes for feature engineering: Congestion depends on the following\n",
        "\n",
        "1) Time of the day ( peak time or off peak time)\n",
        "\n",
        "2) Day of the week (is it Sunday, Monday, Tuesday....)\n",
        "\n",
        "3) Is it weekend?\n",
        "\n",
        "4) direction of the flow.\n",
        "\n",
        "Keeping the above things in mind, we need to extract all the above features"
      ],
      "metadata": {
        "id": "p1oosUIkUqJQ"
      }
    },
    {
      "cell_type": "code",
      "source": [
        "def add_datetime_features(df):\n",
        "    df['month']   = df['time'].dt.month\n",
        "    df['day']     = df['time'].dt.day\n",
        "    df['weekday'] = df['time'].dt.weekday\n",
        "    df['weekend'] = (df['time'].dt.weekday >= 5)\n",
        "    df['hour']    = df['time'].dt.hour\n",
        "    df['minute']  = df['time'].dt.minute\n",
        "    df['afternoon'] = df['hour'] >= 12"
      ],
      "metadata": {
        "id": "Qrv2Fp-qWxG2"
      },
      "execution_count": 10,
      "outputs": []
    },
    {
      "cell_type": "markdown",
      "source": [
        "#### 2.2.3 Model Construction Functions:"
      ],
      "metadata": {
        "id": "pgySFtvjbp7D"
      }
    },
    {
      "cell_type": "code",
      "source": [],
      "metadata": {
        "id": "5KzGIqz5WxDE"
      },
      "execution_count": 10,
      "outputs": []
    },
    {
      "cell_type": "code",
      "source": [],
      "metadata": {
        "id": "GTo9n5SzWw93"
      },
      "execution_count": 10,
      "outputs": []
    },
    {
      "cell_type": "markdown",
      "source": [
        "## 3.0 Import Dataset:"
      ],
      "metadata": {
        "id": "FZ6WfcCrWxnF"
      }
    },
    {
      "cell_type": "code",
      "execution_count": 11,
      "metadata": {
        "id": "ZMgLEzYu_9ZY"
      },
      "outputs": [],
      "source": [
        "df_train = pd.read_csv('train.csv', index_col=\"row_id\", parse_dates=['time'])\n",
        "df_test = pd.read_csv('test.csv', index_col=\"row_id\", parse_dates=['time'])"
      ]
    },
    {
      "cell_type": "code",
      "source": [
        "df_train.shape,df_test.shape"
      ],
      "metadata": {
        "colab": {
          "base_uri": "https://localhost:8080/"
        },
        "id": "q8SBuhu3Lj5f",
        "outputId": "a72a86d2-26fe-4b1f-c968-e6c070842e5a"
      },
      "execution_count": 12,
      "outputs": [
        {
          "output_type": "execute_result",
          "data": {
            "text/plain": [
              "((848835, 5), (2340, 4))"
            ]
          },
          "metadata": {},
          "execution_count": 12
        }
      ]
    },
    {
      "cell_type": "code",
      "source": [
        "df_train.sample(5)"
      ],
      "metadata": {
        "colab": {
          "base_uri": "https://localhost:8080/",
          "height": 238
        },
        "id": "dhkKVhkPdAlN",
        "outputId": "d4957278-7f2b-4748-be85-f2785464871c"
      },
      "execution_count": 13,
      "outputs": [
        {
          "output_type": "execute_result",
          "data": {
            "text/plain": [
              "                      time  x  y direction  congestion\n",
              "row_id                                                \n",
              "175256 1991-05-08 15:20:00  0  3        WB          45\n",
              "524922 1991-07-22 11:20:00  2  1        SB          37\n",
              "651648 1991-08-18 15:20:00  1  1        EB          46\n",
              "680838 1991-08-24 21:40:00  1  2        NB          59\n",
              "136445 1991-04-30 06:20:00  0  2        WB          38"
            ],
            "text/html": [
              "\n",
              "  <div id=\"df-85acd21e-d15c-43cc-a2f3-b91e862489e0\" class=\"colab-df-container\">\n",
              "    <div>\n",
              "<style scoped>\n",
              "    .dataframe tbody tr th:only-of-type {\n",
              "        vertical-align: middle;\n",
              "    }\n",
              "\n",
              "    .dataframe tbody tr th {\n",
              "        vertical-align: top;\n",
              "    }\n",
              "\n",
              "    .dataframe thead th {\n",
              "        text-align: right;\n",
              "    }\n",
              "</style>\n",
              "<table border=\"1\" class=\"dataframe\">\n",
              "  <thead>\n",
              "    <tr style=\"text-align: right;\">\n",
              "      <th></th>\n",
              "      <th>time</th>\n",
              "      <th>x</th>\n",
              "      <th>y</th>\n",
              "      <th>direction</th>\n",
              "      <th>congestion</th>\n",
              "    </tr>\n",
              "    <tr>\n",
              "      <th>row_id</th>\n",
              "      <th></th>\n",
              "      <th></th>\n",
              "      <th></th>\n",
              "      <th></th>\n",
              "      <th></th>\n",
              "    </tr>\n",
              "  </thead>\n",
              "  <tbody>\n",
              "    <tr>\n",
              "      <th>175256</th>\n",
              "      <td>1991-05-08 15:20:00</td>\n",
              "      <td>0</td>\n",
              "      <td>3</td>\n",
              "      <td>WB</td>\n",
              "      <td>45</td>\n",
              "    </tr>\n",
              "    <tr>\n",
              "      <th>524922</th>\n",
              "      <td>1991-07-22 11:20:00</td>\n",
              "      <td>2</td>\n",
              "      <td>1</td>\n",
              "      <td>SB</td>\n",
              "      <td>37</td>\n",
              "    </tr>\n",
              "    <tr>\n",
              "      <th>651648</th>\n",
              "      <td>1991-08-18 15:20:00</td>\n",
              "      <td>1</td>\n",
              "      <td>1</td>\n",
              "      <td>EB</td>\n",
              "      <td>46</td>\n",
              "    </tr>\n",
              "    <tr>\n",
              "      <th>680838</th>\n",
              "      <td>1991-08-24 21:40:00</td>\n",
              "      <td>1</td>\n",
              "      <td>2</td>\n",
              "      <td>NB</td>\n",
              "      <td>59</td>\n",
              "    </tr>\n",
              "    <tr>\n",
              "      <th>136445</th>\n",
              "      <td>1991-04-30 06:20:00</td>\n",
              "      <td>0</td>\n",
              "      <td>2</td>\n",
              "      <td>WB</td>\n",
              "      <td>38</td>\n",
              "    </tr>\n",
              "  </tbody>\n",
              "</table>\n",
              "</div>\n",
              "    <div class=\"colab-df-buttons\">\n",
              "\n",
              "  <div class=\"colab-df-container\">\n",
              "    <button class=\"colab-df-convert\" onclick=\"convertToInteractive('df-85acd21e-d15c-43cc-a2f3-b91e862489e0')\"\n",
              "            title=\"Convert this dataframe to an interactive table.\"\n",
              "            style=\"display:none;\">\n",
              "\n",
              "  <svg xmlns=\"http://www.w3.org/2000/svg\" height=\"24px\" viewBox=\"0 -960 960 960\">\n",
              "    <path d=\"M120-120v-720h720v720H120Zm60-500h600v-160H180v160Zm220 220h160v-160H400v160Zm0 220h160v-160H400v160ZM180-400h160v-160H180v160Zm440 0h160v-160H620v160ZM180-180h160v-160H180v160Zm440 0h160v-160H620v160Z\"/>\n",
              "  </svg>\n",
              "    </button>\n",
              "\n",
              "  <style>\n",
              "    .colab-df-container {\n",
              "      display:flex;\n",
              "      gap: 12px;\n",
              "    }\n",
              "\n",
              "    .colab-df-convert {\n",
              "      background-color: #E8F0FE;\n",
              "      border: none;\n",
              "      border-radius: 50%;\n",
              "      cursor: pointer;\n",
              "      display: none;\n",
              "      fill: #1967D2;\n",
              "      height: 32px;\n",
              "      padding: 0 0 0 0;\n",
              "      width: 32px;\n",
              "    }\n",
              "\n",
              "    .colab-df-convert:hover {\n",
              "      background-color: #E2EBFA;\n",
              "      box-shadow: 0px 1px 2px rgba(60, 64, 67, 0.3), 0px 1px 3px 1px rgba(60, 64, 67, 0.15);\n",
              "      fill: #174EA6;\n",
              "    }\n",
              "\n",
              "    .colab-df-buttons div {\n",
              "      margin-bottom: 4px;\n",
              "    }\n",
              "\n",
              "    [theme=dark] .colab-df-convert {\n",
              "      background-color: #3B4455;\n",
              "      fill: #D2E3FC;\n",
              "    }\n",
              "\n",
              "    [theme=dark] .colab-df-convert:hover {\n",
              "      background-color: #434B5C;\n",
              "      box-shadow: 0px 1px 3px 1px rgba(0, 0, 0, 0.15);\n",
              "      filter: drop-shadow(0px 1px 2px rgba(0, 0, 0, 0.3));\n",
              "      fill: #FFFFFF;\n",
              "    }\n",
              "  </style>\n",
              "\n",
              "    <script>\n",
              "      const buttonEl =\n",
              "        document.querySelector('#df-85acd21e-d15c-43cc-a2f3-b91e862489e0 button.colab-df-convert');\n",
              "      buttonEl.style.display =\n",
              "        google.colab.kernel.accessAllowed ? 'block' : 'none';\n",
              "\n",
              "      async function convertToInteractive(key) {\n",
              "        const element = document.querySelector('#df-85acd21e-d15c-43cc-a2f3-b91e862489e0');\n",
              "        const dataTable =\n",
              "          await google.colab.kernel.invokeFunction('convertToInteractive',\n",
              "                                                    [key], {});\n",
              "        if (!dataTable) return;\n",
              "\n",
              "        const docLinkHtml = 'Like what you see? Visit the ' +\n",
              "          '<a target=\"_blank\" href=https://colab.research.google.com/notebooks/data_table.ipynb>data table notebook</a>'\n",
              "          + ' to learn more about interactive tables.';\n",
              "        element.innerHTML = '';\n",
              "        dataTable['output_type'] = 'display_data';\n",
              "        await google.colab.output.renderOutput(dataTable, element);\n",
              "        const docLink = document.createElement('div');\n",
              "        docLink.innerHTML = docLinkHtml;\n",
              "        element.appendChild(docLink);\n",
              "      }\n",
              "    </script>\n",
              "  </div>\n",
              "\n",
              "\n",
              "<div id=\"df-2727c4dc-e159-4988-b388-1129fc4ff1ad\">\n",
              "  <button class=\"colab-df-quickchart\" onclick=\"quickchart('df-2727c4dc-e159-4988-b388-1129fc4ff1ad')\"\n",
              "            title=\"Suggest charts.\"\n",
              "            style=\"display:none;\">\n",
              "\n",
              "<svg xmlns=\"http://www.w3.org/2000/svg\" height=\"24px\"viewBox=\"0 0 24 24\"\n",
              "     width=\"24px\">\n",
              "    <g>\n",
              "        <path d=\"M19 3H5c-1.1 0-2 .9-2 2v14c0 1.1.9 2 2 2h14c1.1 0 2-.9 2-2V5c0-1.1-.9-2-2-2zM9 17H7v-7h2v7zm4 0h-2V7h2v10zm4 0h-2v-4h2v4z\"/>\n",
              "    </g>\n",
              "</svg>\n",
              "  </button>\n",
              "\n",
              "<style>\n",
              "  .colab-df-quickchart {\n",
              "    background-color: #E8F0FE;\n",
              "    border: none;\n",
              "    border-radius: 50%;\n",
              "    cursor: pointer;\n",
              "    display: none;\n",
              "    fill: #1967D2;\n",
              "    height: 32px;\n",
              "    padding: 0 0 0 0;\n",
              "    width: 32px;\n",
              "  }\n",
              "\n",
              "  .colab-df-quickchart:hover {\n",
              "    background-color: #E2EBFA;\n",
              "    box-shadow: 0px 1px 2px rgba(60, 64, 67, 0.3), 0px 1px 3px 1px rgba(60, 64, 67, 0.15);\n",
              "    fill: #174EA6;\n",
              "  }\n",
              "\n",
              "  [theme=dark] .colab-df-quickchart {\n",
              "    background-color: #3B4455;\n",
              "    fill: #D2E3FC;\n",
              "  }\n",
              "\n",
              "  [theme=dark] .colab-df-quickchart:hover {\n",
              "    background-color: #434B5C;\n",
              "    box-shadow: 0px 1px 3px 1px rgba(0, 0, 0, 0.15);\n",
              "    filter: drop-shadow(0px 1px 2px rgba(0, 0, 0, 0.3));\n",
              "    fill: #FFFFFF;\n",
              "  }\n",
              "</style>\n",
              "\n",
              "  <script>\n",
              "    async function quickchart(key) {\n",
              "      const charts = await google.colab.kernel.invokeFunction(\n",
              "          'suggestCharts', [key], {});\n",
              "    }\n",
              "    (() => {\n",
              "      let quickchartButtonEl =\n",
              "        document.querySelector('#df-2727c4dc-e159-4988-b388-1129fc4ff1ad button');\n",
              "      quickchartButtonEl.style.display =\n",
              "        google.colab.kernel.accessAllowed ? 'block' : 'none';\n",
              "    })();\n",
              "  </script>\n",
              "</div>\n",
              "    </div>\n",
              "  </div>\n"
            ]
          },
          "metadata": {},
          "execution_count": 13
        }
      ]
    },
    {
      "cell_type": "markdown",
      "source": [
        "* **Time Range**"
      ],
      "metadata": {
        "id": "jveB8vzbdK1c"
      }
    },
    {
      "cell_type": "code",
      "source": [
        "print(\"TRAIN DATASET\\n\")\n",
        "print(\"Train Starting time: {}\\nTrain Ending time: {}\".format(df_train.time.min(),df_train.time.max()))\n",
        "print(\"\\nTEST DATASET\\n\")\n",
        "print(\"Test Starting time: {}\\nTrain Ending time: {}\".format(df_test.time.min(),df_test.time.max()))"
      ],
      "metadata": {
        "colab": {
          "base_uri": "https://localhost:8080/"
        },
        "id": "X5XkkTI1dKmV",
        "outputId": "36e462e1-f63a-4035-8c93-8e9ef42c91e8"
      },
      "execution_count": 14,
      "outputs": [
        {
          "output_type": "stream",
          "name": "stdout",
          "text": [
            "TRAIN DATASET\n",
            "\n",
            "Train Starting time: 1991-04-01 00:00:00\n",
            "Train Ending time: 1991-09-30 11:40:00\n",
            "\n",
            "TEST DATASET\n",
            "\n",
            "Test Starting time: 1991-09-30 12:00:00\n",
            "Train Ending time: 1991-09-30 23:40:00\n"
          ]
        }
      ]
    },
    {
      "cell_type": "markdown",
      "source": [
        "* **Test for NaN Values**"
      ],
      "metadata": {
        "id": "Xd-nI0GMURXQ"
      }
    },
    {
      "cell_type": "code",
      "source": [
        "print(\"TRAIN DATASET\\n\")\n",
        "print(\"Total NaN Values: {}\".format(df_train.isna().sum().sum()))\n",
        "print(\"Total Null Values: {}\".format(df_train.isnull().sum().sum()))"
      ],
      "metadata": {
        "id": "nzIhZ-5JLsux",
        "colab": {
          "base_uri": "https://localhost:8080/"
        },
        "outputId": "47075df5-9afb-4426-fef8-e2e93f69c1b4"
      },
      "execution_count": 15,
      "outputs": [
        {
          "output_type": "stream",
          "name": "stdout",
          "text": [
            "TRAIN DATASET\n",
            "\n",
            "Total NaN Values: 0\n",
            "Total Null Values: 0\n"
          ]
        }
      ]
    },
    {
      "cell_type": "code",
      "source": [
        "print(\"Test DATASET\\n\")\n",
        "print(\"Total NaN Values: {}\".format(df_test.isna().sum().sum()))\n",
        "print(\"Total Null Values: {}\".format(df_test.isnull().sum().sum()))"
      ],
      "metadata": {
        "colab": {
          "base_uri": "https://localhost:8080/"
        },
        "id": "uDxINZNZULuk",
        "outputId": "c2735a54-f1a1-4d75-8222-1f8ed78d9058"
      },
      "execution_count": 16,
      "outputs": [
        {
          "output_type": "stream",
          "name": "stdout",
          "text": [
            "Test DATASET\n",
            "\n",
            "Total NaN Values: 0\n",
            "Total Null Values: 0\n"
          ]
        }
      ]
    },
    {
      "cell_type": "code",
      "source": [
        "train_df_notarget=df_train.drop(['congestion'], axis = 1)\n",
        "cols = [e for e in df_test.columns]\n",
        "common_df = pd.merge(df_train, df_test, how='inner', on=cols)\n",
        "# depict venn diagram\n",
        "venn2_unweighted(subsets = (len(df_train) , len(df_test) , len(common_df)), set_labels = ('Train', 'Test'), subset_areas = (1, 0.5, 0.1),set_colors = ('silver', 'gold'));"
      ],
      "metadata": {
        "colab": {
          "base_uri": "https://localhost:8080/",
          "height": 379
        },
        "id": "1KbnjaJwUYpy",
        "outputId": "d879af15-b8b6-44e1-9a4a-791c748d2268"
      },
      "execution_count": 17,
      "outputs": [
        {
          "output_type": "display_data",
          "data": {
            "text/plain": [
              "<Figure size 640x480 with 1 Axes>"
            ],
            "image/png": "[encoded data removed]"
          },
          "metadata": {}
        }
      ]
    },
    {
      "cell_type": "code",
      "source": [
        "print(\"==\"*30)\n",
        "print('TRAIN')\n",
        "print(\"==\"*30)\n",
        "s=df_train.describe()\n",
        "display(s.style.set_table_styles([cell_hover, index_names, headers]))\n",
        "print(\"==\"*30)\n",
        "print('TEST')\n",
        "print(\"==\"*30)\n",
        "s=df_test.describe()\n",
        "display(s.style.set_table_styles([cell_hover, index_names, headers]))"
      ],
      "metadata": {
        "colab": {
          "base_uri": "https://localhost:8080/",
          "height": 688
        },
        "id": "9vrU1Nu4U-WT",
        "outputId": "b168f001-cb3c-4823-9941-885c56fdfd5c"
      },
      "execution_count": 18,
      "outputs": [
        {
          "output_type": "stream",
          "name": "stdout",
          "text": [
            "============================================================\n",
            "TRAIN\n",
            "============================================================\n"
          ]
        },
        {
          "output_type": "display_data",
          "data": {
            "text/plain": [
              "<pandas.io.formats.style.Styler at 0x7848a47762c0>"
            ],
            "text/html": [
              "<style type=\"text/css\">\n",
              "#T_1bfcf td:hover {\n",
              "  background-color: #ffffb3;\n",
              "}\n",
              "#T_1bfcf .index_name {\n",
              "  font-style: italic;\n",
              "  color: darkgrey;\n",
              "  font-weight: normal;\n",
              "}\n",
              "#T_1bfcf th:not(.index_name) {\n",
              "  background-color: #000000;\n",
              "  color: white;\n",
              "}\n",
              "</style>\n",
              "<table id=\"T_1bfcf\" class=\"dataframe\">\n",
              "  <thead>\n",
              "    <tr>\n",
              "      <th class=\"blank level0\" >&nbsp;</th>\n",
              "      <th id=\"T_1bfcf_level0_col0\" class=\"col_heading level0 col0\" >x</th>\n",
              "      <th id=\"T_1bfcf_level0_col1\" class=\"col_heading level0 col1\" >y</th>\n",
              "      <th id=\"T_1bfcf_level0_col2\" class=\"col_heading level0 col2\" >congestion</th>\n",
              "    </tr>\n",
              "  </thead>\n",
              "  <tbody>\n",
              "    <tr>\n",
              "      <th id=\"T_1bfcf_level0_row0\" class=\"row_heading level0 row0\" >count</th>\n",
              "      <td id=\"T_1bfcf_row0_col0\" class=\"data row0 col0\" >848835.000000</td>\n",
              "      <td id=\"T_1bfcf_row0_col1\" class=\"data row0 col1\" >848835.000000</td>\n",
              "      <td id=\"T_1bfcf_row0_col2\" class=\"data row0 col2\" >848835.000000</td>\n",
              "    </tr>\n",
              "    <tr>\n",
              "      <th id=\"T_1bfcf_level0_row1\" class=\"row_heading level0 row1\" >mean</th>\n",
              "      <td id=\"T_1bfcf_row1_col0\" class=\"data row1 col0\" >1.138462</td>\n",
              "      <td id=\"T_1bfcf_row1_col1\" class=\"data row1 col1\" >1.630769</td>\n",
              "      <td id=\"T_1bfcf_row1_col2\" class=\"data row1 col2\" >47.815305</td>\n",
              "    </tr>\n",
              "    <tr>\n",
              "      <th id=\"T_1bfcf_level0_row2\" class=\"row_heading level0 row2\" >std</th>\n",
              "      <td id=\"T_1bfcf_row2_col0\" class=\"data row2 col0\" >0.801478</td>\n",
              "      <td id=\"T_1bfcf_row2_col1\" class=\"data row2 col1\" >1.089379</td>\n",
              "      <td id=\"T_1bfcf_row2_col2\" class=\"data row2 col2\" >16.799392</td>\n",
              "    </tr>\n",
              "    <tr>\n",
              "      <th id=\"T_1bfcf_level0_row3\" class=\"row_heading level0 row3\" >min</th>\n",
              "      <td id=\"T_1bfcf_row3_col0\" class=\"data row3 col0\" >0.000000</td>\n",
              "      <td id=\"T_1bfcf_row3_col1\" class=\"data row3 col1\" >0.000000</td>\n",
              "      <td id=\"T_1bfcf_row3_col2\" class=\"data row3 col2\" >0.000000</td>\n",
              "    </tr>\n",
              "    <tr>\n",
              "      <th id=\"T_1bfcf_level0_row4\" class=\"row_heading level0 row4\" >25%</th>\n",
              "      <td id=\"T_1bfcf_row4_col0\" class=\"data row4 col0\" >0.000000</td>\n",
              "      <td id=\"T_1bfcf_row4_col1\" class=\"data row4 col1\" >1.000000</td>\n",
              "      <td id=\"T_1bfcf_row4_col2\" class=\"data row4 col2\" >35.000000</td>\n",
              "    </tr>\n",
              "    <tr>\n",
              "      <th id=\"T_1bfcf_level0_row5\" class=\"row_heading level0 row5\" >50%</th>\n",
              "      <td id=\"T_1bfcf_row5_col0\" class=\"data row5 col0\" >1.000000</td>\n",
              "      <td id=\"T_1bfcf_row5_col1\" class=\"data row5 col1\" >2.000000</td>\n",
              "      <td id=\"T_1bfcf_row5_col2\" class=\"data row5 col2\" >47.000000</td>\n",
              "    </tr>\n",
              "    <tr>\n",
              "      <th id=\"T_1bfcf_level0_row6\" class=\"row_heading level0 row6\" >75%</th>\n",
              "      <td id=\"T_1bfcf_row6_col0\" class=\"data row6 col0\" >2.000000</td>\n",
              "      <td id=\"T_1bfcf_row6_col1\" class=\"data row6 col1\" >3.000000</td>\n",
              "      <td id=\"T_1bfcf_row6_col2\" class=\"data row6 col2\" >60.000000</td>\n",
              "    </tr>\n",
              "    <tr>\n",
              "      <th id=\"T_1bfcf_level0_row7\" class=\"row_heading level0 row7\" >max</th>\n",
              "      <td id=\"T_1bfcf_row7_col0\" class=\"data row7 col0\" >2.000000</td>\n",
              "      <td id=\"T_1bfcf_row7_col1\" class=\"data row7 col1\" >3.000000</td>\n",
              "      <td id=\"T_1bfcf_row7_col2\" class=\"data row7 col2\" >100.000000</td>\n",
              "    </tr>\n",
              "  </tbody>\n",
              "</table>\n"
            ]
          },
          "metadata": {}
        },
        {
          "output_type": "stream",
          "name": "stdout",
          "text": [
            "============================================================\n",
            "TEST\n",
            "============================================================\n"
          ]
        },
        {
          "output_type": "display_data",
          "data": {
            "text/plain": [
              "<pandas.io.formats.style.Styler at 0x7848a47772e0>"
            ],
            "text/html": [
              "<style type=\"text/css\">\n",
              "#T_35533 td:hover {\n",
              "  background-color: #ffffb3;\n",
              "}\n",
              "#T_35533 .index_name {\n",
              "  font-style: italic;\n",
              "  color: darkgrey;\n",
              "  font-weight: normal;\n",
              "}\n",
              "#T_35533 th:not(.index_name) {\n",
              "  background-color: #000000;\n",
              "  color: white;\n",
              "}\n",
              "</style>\n",
              "<table id=\"T_35533\" class=\"dataframe\">\n",
              "  <thead>\n",
              "    <tr>\n",
              "      <th class=\"blank level0\" >&nbsp;</th>\n",
              "      <th id=\"T_35533_level0_col0\" class=\"col_heading level0 col0\" >x</th>\n",
              "      <th id=\"T_35533_level0_col1\" class=\"col_heading level0 col1\" >y</th>\n",
              "    </tr>\n",
              "  </thead>\n",
              "  <tbody>\n",
              "    <tr>\n",
              "      <th id=\"T_35533_level0_row0\" class=\"row_heading level0 row0\" >count</th>\n",
              "      <td id=\"T_35533_row0_col0\" class=\"data row0 col0\" >2340.000000</td>\n",
              "      <td id=\"T_35533_row0_col1\" class=\"data row0 col1\" >2340.000000</td>\n",
              "    </tr>\n",
              "    <tr>\n",
              "      <th id=\"T_35533_level0_row1\" class=\"row_heading level0 row1\" >mean</th>\n",
              "      <td id=\"T_35533_row1_col0\" class=\"data row1 col0\" >1.138462</td>\n",
              "      <td id=\"T_35533_row1_col1\" class=\"data row1 col1\" >1.630769</td>\n",
              "    </tr>\n",
              "    <tr>\n",
              "      <th id=\"T_35533_level0_row2\" class=\"row_heading level0 row2\" >std</th>\n",
              "      <td id=\"T_35533_row2_col0\" class=\"data row2 col0\" >0.801649</td>\n",
              "      <td id=\"T_35533_row2_col1\" class=\"data row2 col1\" >1.089611</td>\n",
              "    </tr>\n",
              "    <tr>\n",
              "      <th id=\"T_35533_level0_row3\" class=\"row_heading level0 row3\" >min</th>\n",
              "      <td id=\"T_35533_row3_col0\" class=\"data row3 col0\" >0.000000</td>\n",
              "      <td id=\"T_35533_row3_col1\" class=\"data row3 col1\" >0.000000</td>\n",
              "    </tr>\n",
              "    <tr>\n",
              "      <th id=\"T_35533_level0_row4\" class=\"row_heading level0 row4\" >25%</th>\n",
              "      <td id=\"T_35533_row4_col0\" class=\"data row4 col0\" >0.000000</td>\n",
              "      <td id=\"T_35533_row4_col1\" class=\"data row4 col1\" >1.000000</td>\n",
              "    </tr>\n",
              "    <tr>\n",
              "      <th id=\"T_35533_level0_row5\" class=\"row_heading level0 row5\" >50%</th>\n",
              "      <td id=\"T_35533_row5_col0\" class=\"data row5 col0\" >1.000000</td>\n",
              "      <td id=\"T_35533_row5_col1\" class=\"data row5 col1\" >2.000000</td>\n",
              "    </tr>\n",
              "    <tr>\n",
              "      <th id=\"T_35533_level0_row6\" class=\"row_heading level0 row6\" >75%</th>\n",
              "      <td id=\"T_35533_row6_col0\" class=\"data row6 col0\" >2.000000</td>\n",
              "      <td id=\"T_35533_row6_col1\" class=\"data row6 col1\" >3.000000</td>\n",
              "    </tr>\n",
              "    <tr>\n",
              "      <th id=\"T_35533_level0_row7\" class=\"row_heading level0 row7\" >max</th>\n",
              "      <td id=\"T_35533_row7_col0\" class=\"data row7 col0\" >2.000000</td>\n",
              "      <td id=\"T_35533_row7_col1\" class=\"data row7 col1\" >3.000000</td>\n",
              "    </tr>\n",
              "  </tbody>\n",
              "</table>\n"
            ]
          },
          "metadata": {}
        }
      ]
    },
    {
      "cell_type": "code",
      "source": [
        "fig, axs = plt.subplots(3,1,figsize=(10,6))\n",
        "sns.histplot(data=df_train, x=\"congestion\", ax=axs[0]);\n",
        "sns.histplot(data=df_train, x=\"x\", ax=axs[1], color=\"crimson\");\n",
        "sns.histplot(data=df_train, x=\"y\", ax=axs[2], color=\"olive\");"
      ],
      "metadata": {
        "colab": {
          "base_uri": "https://localhost:8080/",
          "height": 542
        },
        "id": "nl98oSIQb19G",
        "outputId": "c7a91fe0-caa5-4eed-e853-cc90b4d139f8"
      },
      "execution_count": 19,
      "outputs": [
        {
          "output_type": "display_data",
          "data": {
            "text/plain": [
              "<Figure size 1000x600 with 3 Axes>"
            ],
            "image/png": "[encoded data removed]"
          },
          "metadata": {}
        }
      ]
    },
    {
      "cell_type": "code",
      "source": [
        "plt.scatter(df_train.x,df_train.y);"
      ],
      "metadata": {
        "colab": {
          "base_uri": "https://localhost:8080/",
          "height": 430
        },
        "id": "ZB8xXdSmSaJP",
        "outputId": "c7ce5dd8-dca1-4554-8a50-3c5642150e4f"
      },
      "execution_count": 20,
      "outputs": [
        {
          "output_type": "display_data",
          "data": {
            "text/plain": [
              "<Figure size 640x480 with 1 Axes>"
            ],
            "image/png": "[encoded data removed]"
          },
          "metadata": {}
        }
      ]
    },
    {
      "cell_type": "code",
      "source": [
        "df_train.info()"
      ],
      "metadata": {
        "id": "ekKswHZRcqDl",
        "colab": {
          "base_uri": "https://localhost:8080/"
        },
        "outputId": "7545129e-3577-4d99-a556-418ec6c392b7"
      },
      "execution_count": 21,
      "outputs": [
        {
          "output_type": "stream",
          "name": "stdout",
          "text": [
            "<class 'pandas.core.frame.DataFrame'>\n",
            "Int64Index: 848835 entries, 0 to 848834\n",
            "Data columns (total 5 columns):\n",
            " #   Column      Non-Null Count   Dtype         \n",
            "---  ------      --------------   -----         \n",
            " 0   time        848835 non-null  datetime64[ns]\n",
            " 1   x           848835 non-null  int64         \n",
            " 2   y           848835 non-null  int64         \n",
            " 3   direction   848835 non-null  object        \n",
            " 4   congestion  848835 non-null  int64         \n",
            "dtypes: datetime64[ns](1), int64(3), object(1)\n",
            "memory usage: 38.9+ MB\n"
          ]
        }
      ]
    },
    {
      "cell_type": "code",
      "source": [
        "# import itertools package\n",
        "import itertools\n",
        "from itertools import permutations\n",
        "\n",
        "df_timeseries_train = pd.DataFrame()\n",
        "y_unique = list(df_train.y.unique())\n",
        "x_unique = list(df_train.x.unique())\n",
        "\n",
        "\n",
        "\n",
        "# create empty list to store the\n",
        "# combinations\n",
        "unique_combinations = []\n",
        "\n",
        "for i in range(len(x_unique)):\n",
        "    for j in range(len(y_unique)):\n",
        "        unique_combinations.append((x_unique[i], y_unique[j]))\n",
        "\n",
        "print(unique_combinations)\n",
        "\n",
        "\n",
        "df_grouped = df_train.reset_index().groupby([\"x\",\"y\",\"direction\",\"time\"], as_index=False)[[\"congestion\",\"row_id\"]].agg(\"first\")\n",
        "df_grouped_test = df_test.reset_index().groupby([\"x\",\"y\",\"direction\",\"time\"], as_index=False)[[\"row_id\"]].agg(\"first\")\n",
        "df_grouped_test[\"congestion\"]=np.nan"
      ],
      "metadata": {
        "id": "BzM3VzgPSE_P",
        "colab": {
          "base_uri": "https://localhost:8080/"
        },
        "outputId": "b6575914-1e07-4c50-cc7b-cc184404b614"
      },
      "execution_count": 69,
      "outputs": [
        {
          "output_type": "stream",
          "name": "stdout",
          "text": [
            "[(0, 0), (0, 1), (0, 2), (0, 3), (1, 0), (1, 1), (1, 2), (1, 3), (2, 0), (2, 1), (2, 2), (2, 3)]\n"
          ]
        }
      ]
    },
    {
      "cell_type": "code",
      "source": [
        "list_names = []\n",
        "list_ts = []\n",
        "\n",
        "list_names_test = []\n",
        "list_ts_test = []\n",
        "\n",
        "for num, (a, b) in tqdm(enumerate(unique_combinations)):\n",
        "\n",
        "#  print(f\"X@{a} and Y@{b} has {df_grouped[(df_grouped.x==a)&(df_grouped.y==b)].direction.unique()}\")#df_grouped[(df_grouped.x==a)&(df_grouped.y==b)].direction.unique())#[\"congestion\"]\n",
        "\n",
        "  local_unique_directions = list(df_grouped[(df_grouped.x==a)&(df_grouped.y==b)].direction.unique())\n",
        "\n",
        "  for uniq in local_unique_directions:\n",
        "    name = f\"{a}{b}_{uniq}\"\n",
        "    list_names.append(name)\n",
        "    local_ts = df_grouped[(df_grouped.x==a)&(df_grouped.y==b)&(df_grouped.direction==uniq)][[\"time\",\"congestion\"]]\n",
        "    local_ts.rename({\"congestion\":name}, axis=1, inplace=True)\n",
        "    local_ts.set_index(\"time\", inplace=True)\n",
        "    list_ts.append(local_ts)\n",
        "\n",
        "    local_ts_test = df_grouped_test[(df_grouped_test.x==a)&(df_grouped_test.y==b)&(df_grouped_test.direction==uniq)][[\"time\",\"congestion\"]]\n",
        "    local_ts_test.rename({\"congestion\":name}, axis=1, inplace=True)\n",
        "    local_ts_test.set_index(\"time\", inplace=True)\n",
        "    list_ts_test.append(local_ts_test)\n",
        "\n",
        "\n"
      ],
      "metadata": {
        "colab": {
          "base_uri": "https://localhost:8080/"
        },
        "id": "HuWW8Y47hEps",
        "outputId": "9425686a-85a9-493e-aa79-70a49440d242"
      },
      "execution_count": 73,
      "outputs": [
        {
          "output_type": "stream",
          "name": "stderr",
          "text": [
            "12it [00:03,  3.38it/s]\n"
          ]
        }
      ]
    },
    {
      "cell_type": "code",
      "source": [
        "df_grouped_test"
      ],
      "metadata": {
        "colab": {
          "base_uri": "https://localhost:8080/",
          "height": 424
        },
        "id": "dabe5JKev8c0",
        "outputId": "f6f291c0-3073-4581-b2be-81eabb9d711c"
      },
      "execution_count": 72,
      "outputs": [
        {
          "output_type": "execute_result",
          "data": {
            "text/plain": [
              "      x  y direction                time  row_id  congestion\n",
              "0     0  0        EB 1991-09-30 12:00:00  848835         NaN\n",
              "1     0  0        EB 1991-09-30 12:20:00  848900         NaN\n",
              "2     0  0        EB 1991-09-30 12:40:00  848965         NaN\n",
              "3     0  0        EB 1991-09-30 13:00:00  849030         NaN\n",
              "4     0  0        EB 1991-09-30 13:20:00  849095         NaN\n",
              "...  .. ..       ...                 ...     ...         ...\n",
              "2335  2  3        WB 1991-09-30 22:20:00  850914         NaN\n",
              "2336  2  3        WB 1991-09-30 22:40:00  850979         NaN\n",
              "2337  2  3        WB 1991-09-30 23:00:00  851044         NaN\n",
              "2338  2  3        WB 1991-09-30 23:20:00  851109         NaN\n",
              "2339  2  3        WB 1991-09-30 23:40:00  851174         NaN\n",
              "\n",
              "[2340 rows x 6 columns]"
            ],
            "text/html": [
              "\n",
              "  <div id=\"df-21dcf440-70bb-41ca-878b-9fb9906b6808\" class=\"colab-df-container\">\n",
              "    <div>\n",
              "<style scoped>\n",
              "    .dataframe tbody tr th:only-of-type {\n",
              "        vertical-align: middle;\n",
              "    }\n",
              "\n",
              "    .dataframe tbody tr th {\n",
              "        vertical-align: top;\n",
              "    }\n",
              "\n",
              "    .dataframe thead th {\n",
              "        text-align: right;\n",
              "    }\n",
              "</style>\n",
              "<table border=\"1\" class=\"dataframe\">\n",
              "  <thead>\n",
              "    <tr style=\"text-align: right;\">\n",
              "      <th></th>\n",
              "      <th>x</th>\n",
              "      <th>y</th>\n",
              "      <th>direction</th>\n",
              "      <th>time</th>\n",
              "      <th>row_id</th>\n",
              "      <th>congestion</th>\n",
              "    </tr>\n",
              "  </thead>\n",
              "  <tbody>\n",
              "    <tr>\n",
              "      <th>0</th>\n",
              "      <td>0</td>\n",
              "      <td>0</td>\n",
              "      <td>EB</td>\n",
              "      <td>1991-09-30 12:00:00</td>\n",
              "      <td>848835</td>\n",
              "      <td>NaN</td>\n",
              "    </tr>\n",
              "    <tr>\n",
              "      <th>1</th>\n",
              "      <td>0</td>\n",
              "      <td>0</td>\n",
              "      <td>EB</td>\n",
              "      <td>1991-09-30 12:20:00</td>\n",
              "      <td>848900</td>\n",
              "      <td>NaN</td>\n",
              "    </tr>\n",
              "    <tr>\n",
              "      <th>2</th>\n",
              "      <td>0</td>\n",
              "      <td>0</td>\n",
              "      <td>EB</td>\n",
              "      <td>1991-09-30 12:40:00</td>\n",
              "      <td>848965</td>\n",
              "      <td>NaN</td>\n",
              "    </tr>\n",
              "    <tr>\n",
              "      <th>3</th>\n",
              "      <td>0</td>\n",
              "      <td>0</td>\n",
              "      <td>EB</td>\n",
              "      <td>1991-09-30 13:00:00</td>\n",
              "      <td>849030</td>\n",
              "      <td>NaN</td>\n",
              "    </tr>\n",
              "    <tr>\n",
              "      <th>4</th>\n",
              "      <td>0</td>\n",
              "      <td>0</td>\n",
              "      <td>EB</td>\n",
              "      <td>1991-09-30 13:20:00</td>\n",
              "      <td>849095</td>\n",
              "      <td>NaN</td>\n",
              "    </tr>\n",
              "    <tr>\n",
              "      <th>...</th>\n",
              "      <td>...</td>\n",
              "      <td>...</td>\n",
              "      <td>...</td>\n",
              "      <td>...</td>\n",
              "      <td>...</td>\n",
              "      <td>...</td>\n",
              "    </tr>\n",
              "    <tr>\n",
              "      <th>2335</th>\n",
              "      <td>2</td>\n",
              "      <td>3</td>\n",
              "      <td>WB</td>\n",
              "      <td>1991-09-30 22:20:00</td>\n",
              "      <td>850914</td>\n",
              "      <td>NaN</td>\n",
              "    </tr>\n",
              "    <tr>\n",
              "      <th>2336</th>\n",
              "      <td>2</td>\n",
              "      <td>3</td>\n",
              "      <td>WB</td>\n",
              "      <td>1991-09-30 22:40:00</td>\n",
              "      <td>850979</td>\n",
              "      <td>NaN</td>\n",
              "    </tr>\n",
              "    <tr>\n",
              "      <th>2337</th>\n",
              "      <td>2</td>\n",
              "      <td>3</td>\n",
              "      <td>WB</td>\n",
              "      <td>1991-09-30 23:00:00</td>\n",
              "      <td>851044</td>\n",
              "      <td>NaN</td>\n",
              "    </tr>\n",
              "    <tr>\n",
              "      <th>2338</th>\n",
              "      <td>2</td>\n",
              "      <td>3</td>\n",
              "      <td>WB</td>\n",
              "      <td>1991-09-30 23:20:00</td>\n",
              "      <td>851109</td>\n",
              "      <td>NaN</td>\n",
              "    </tr>\n",
              "    <tr>\n",
              "      <th>2339</th>\n",
              "      <td>2</td>\n",
              "      <td>3</td>\n",
              "      <td>WB</td>\n",
              "      <td>1991-09-30 23:40:00</td>\n",
              "      <td>851174</td>\n",
              "      <td>NaN</td>\n",
              "    </tr>\n",
              "  </tbody>\n",
              "</table>\n",
              "<p>2340 rows × 6 columns</p>\n",
              "</div>\n",
              "    <div class=\"colab-df-buttons\">\n",
              "\n",
              "  <div class=\"colab-df-container\">\n",
              "    <button class=\"colab-df-convert\" onclick=\"convertToInteractive('df-21dcf440-70bb-41ca-878b-9fb9906b6808')\"\n",
              "            title=\"Convert this dataframe to an interactive table.\"\n",
              "            style=\"display:none;\">\n",
              "\n",
              "  <svg xmlns=\"http://www.w3.org/2000/svg\" height=\"24px\" viewBox=\"0 -960 960 960\">\n",
              "    <path d=\"M120-120v-720h720v720H120Zm60-500h600v-160H180v160Zm220 220h160v-160H400v160Zm0 220h160v-160H400v160ZM180-400h160v-160H180v160Zm440 0h160v-160H620v160ZM180-180h160v-160H180v160Zm440 0h160v-160H620v160Z\"/>\n",
              "  </svg>\n",
              "    </button>\n",
              "\n",
              "  <style>\n",
              "    .colab-df-container {\n",
              "      display:flex;\n",
              "      gap: 12px;\n",
              "    }\n",
              "\n",
              "    .colab-df-convert {\n",
              "      background-color: #E8F0FE;\n",
              "      border: none;\n",
              "      border-radius: 50%;\n",
              "      cursor: pointer;\n",
              "      display: none;\n",
              "      fill: #1967D2;\n",
              "      height: 32px;\n",
              "      padding: 0 0 0 0;\n",
              "      width: 32px;\n",
              "    }\n",
              "\n",
              "    .colab-df-convert:hover {\n",
              "      background-color: #E2EBFA;\n",
              "      box-shadow: 0px 1px 2px rgba(60, 64, 67, 0.3), 0px 1px 3px 1px rgba(60, 64, 67, 0.15);\n",
              "      fill: #174EA6;\n",
              "    }\n",
              "\n",
              "    .colab-df-buttons div {\n",
              "      margin-bottom: 4px;\n",
              "    }\n",
              "\n",
              "    [theme=dark] .colab-df-convert {\n",
              "      background-color: #3B4455;\n",
              "      fill: #D2E3FC;\n",
              "    }\n",
              "\n",
              "    [theme=dark] .colab-df-convert:hover {\n",
              "      background-color: #434B5C;\n",
              "      box-shadow: 0px 1px 3px 1px rgba(0, 0, 0, 0.15);\n",
              "      filter: drop-shadow(0px 1px 2px rgba(0, 0, 0, 0.3));\n",
              "      fill: #FFFFFF;\n",
              "    }\n",
              "  </style>\n",
              "\n",
              "    <script>\n",
              "      const buttonEl =\n",
              "        document.querySelector('#df-21dcf440-70bb-41ca-878b-9fb9906b6808 button.colab-df-convert');\n",
              "      buttonEl.style.display =\n",
              "        google.colab.kernel.accessAllowed ? 'block' : 'none';\n",
              "\n",
              "      async function convertToInteractive(key) {\n",
              "        const element = document.querySelector('#df-21dcf440-70bb-41ca-878b-9fb9906b6808');\n",
              "        const dataTable =\n",
              "          await google.colab.kernel.invokeFunction('convertToInteractive',\n",
              "                                                    [key], {});\n",
              "        if (!dataTable) return;\n",
              "\n",
              "        const docLinkHtml = 'Like what you see? Visit the ' +\n",
              "          '<a target=\"_blank\" href=https://colab.research.google.com/notebooks/data_table.ipynb>data table notebook</a>'\n",
              "          + ' to learn more about interactive tables.';\n",
              "        element.innerHTML = '';\n",
              "        dataTable['output_type'] = 'display_data';\n",
              "        await google.colab.output.renderOutput(dataTable, element);\n",
              "        const docLink = document.createElement('div');\n",
              "        docLink.innerHTML = docLinkHtml;\n",
              "        element.appendChild(docLink);\n",
              "      }\n",
              "    </script>\n",
              "  </div>\n",
              "\n",
              "\n",
              "<div id=\"df-15fa41ba-caa9-4dbd-b3c5-c3210ec94bc1\">\n",
              "  <button class=\"colab-df-quickchart\" onclick=\"quickchart('df-15fa41ba-caa9-4dbd-b3c5-c3210ec94bc1')\"\n",
              "            title=\"Suggest charts.\"\n",
              "            style=\"display:none;\">\n",
              "\n",
              "<svg xmlns=\"http://www.w3.org/2000/svg\" height=\"24px\"viewBox=\"0 0 24 24\"\n",
              "     width=\"24px\">\n",
              "    <g>\n",
              "        <path d=\"M19 3H5c-1.1 0-2 .9-2 2v14c0 1.1.9 2 2 2h14c1.1 0 2-.9 2-2V5c0-1.1-.9-2-2-2zM9 17H7v-7h2v7zm4 0h-2V7h2v10zm4 0h-2v-4h2v4z\"/>\n",
              "    </g>\n",
              "</svg>\n",
              "  </button>\n",
              "\n",
              "<style>\n",
              "  .colab-df-quickchart {\n",
              "    background-color: #E8F0FE;\n",
              "    border: none;\n",
              "    border-radius: 50%;\n",
              "    cursor: pointer;\n",
              "    display: none;\n",
              "    fill: #1967D2;\n",
              "    height: 32px;\n",
              "    padding: 0 0 0 0;\n",
              "    width: 32px;\n",
              "  }\n",
              "\n",
              "  .colab-df-quickchart:hover {\n",
              "    background-color: #E2EBFA;\n",
              "    box-shadow: 0px 1px 2px rgba(60, 64, 67, 0.3), 0px 1px 3px 1px rgba(60, 64, 67, 0.15);\n",
              "    fill: #174EA6;\n",
              "  }\n",
              "\n",
              "  [theme=dark] .colab-df-quickchart {\n",
              "    background-color: #3B4455;\n",
              "    fill: #D2E3FC;\n",
              "  }\n",
              "\n",
              "  [theme=dark] .colab-df-quickchart:hover {\n",
              "    background-color: #434B5C;\n",
              "    box-shadow: 0px 1px 3px 1px rgba(0, 0, 0, 0.15);\n",
              "    filter: drop-shadow(0px 1px 2px rgba(0, 0, 0, 0.3));\n",
              "    fill: #FFFFFF;\n",
              "  }\n",
              "</style>\n",
              "\n",
              "  <script>\n",
              "    async function quickchart(key) {\n",
              "      const charts = await google.colab.kernel.invokeFunction(\n",
              "          'suggestCharts', [key], {});\n",
              "    }\n",
              "    (() => {\n",
              "      let quickchartButtonEl =\n",
              "        document.querySelector('#df-15fa41ba-caa9-4dbd-b3c5-c3210ec94bc1 button');\n",
              "      quickchartButtonEl.style.display =\n",
              "        google.colab.kernel.accessAllowed ? 'block' : 'none';\n",
              "    })();\n",
              "  </script>\n",
              "</div>\n",
              "    </div>\n",
              "  </div>\n"
            ]
          },
          "metadata": {},
          "execution_count": 72
        }
      ]
    },
    {
      "cell_type": "code",
      "source": [
        "df_grouped\n",
        "list_names\n",
        "dataframe_ts = pd.DataFrame(index = list_ts[0].index)\n",
        "dataframe_ts_test = pd.DataFrame(index = list_ts_test[0].index)\n",
        "\n",
        "for ts in list_ts:\n",
        "  dataframe_ts = pd.concat([dataframe_ts,ts], axis=1)\n",
        "\n",
        "for ts in list_ts_test:\n",
        "  dataframe_ts_test = pd.concat([dataframe_ts_test,ts], axis=1)"
      ],
      "metadata": {
        "id": "aiUL-uyPSTML"
      },
      "execution_count": 74,
      "outputs": []
    },
    {
      "cell_type": "code",
      "source": [
        "corr = dataframe_ts.corr()\n",
        "\n",
        "# Generate a mask for the upper triangle\n",
        "mask = np.triu(np.ones_like(corr, dtype=bool))\n",
        "\n",
        "# Set up the matplotlib figure\n",
        "f, ax = plt.subplots(figsize=(11, 9))\n",
        "\n",
        "# Generate a custom diverging colormap\n",
        "cmap = sns.diverging_palette(230, 20, as_cmap=True)\n",
        "\n",
        "# Draw the heatmap with the mask and correct aspect ratio\n",
        "sns.heatmap(corr, mask=mask, cmap=cmap, vmax=.3, center=0,\n",
        "            square=True, linewidths=.5, cbar_kws={\"shrink\": .5})\n",
        "plt.grid(linestyle='')"
      ],
      "metadata": {
        "colab": {
          "base_uri": "https://localhost:8080/",
          "height": 779
        },
        "id": "Tevb_bXOcR7Q",
        "outputId": "b13039f1-6dc0-4bd9-b060-89720515e71a"
      },
      "execution_count": 75,
      "outputs": [
        {
          "output_type": "display_data",
          "data": {
            "text/plain": [
              "<Figure size 1100x900 with 2 Axes>"
            ],
            "image/png": "[encoded data removed]"
          },
          "metadata": {}
        }
      ]
    },
    {
      "cell_type": "code",
      "source": [
        "print(dataframe_ts_test.shape)\n",
        "print(dataframe_ts.shape)"
      ],
      "metadata": {
        "id": "4n5yTZ7ReovM",
        "colab": {
          "base_uri": "https://localhost:8080/"
        },
        "outputId": "db3756e5-dfee-4c32-ea51-0b2b5bce6cf8"
      },
      "execution_count": 77,
      "outputs": [
        {
          "output_type": "stream",
          "name": "stdout",
          "text": [
            "(36, 65)\n",
            "(13059, 65)\n"
          ]
        }
      ]
    },
    {
      "cell_type": "code",
      "source": [],
      "metadata": {
        "id": "5BbJR4BhzMp6"
      },
      "execution_count": null,
      "outputs": []
    }
  ]
}