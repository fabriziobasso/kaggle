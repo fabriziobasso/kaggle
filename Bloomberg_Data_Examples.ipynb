{
  "nbformat": 4,
  "nbformat_minor": 0,
  "metadata": {
    "colab": {
      "provenance": [],
      "toc_visible": true,
      "include_colab_link": true
    },
    "kernelspec": {
      "name": "python3",
      "display_name": "Python 3"
    }
  },
  "cells": [
    {
      "cell_type": "markdown",
      "metadata": {
        "id": "view-in-github",
        "colab_type": "text"
      },
      "source": [
        "<a href=\"https://colab.research.google.com/github/fabriziobasso/kaggle/blob/main/Bloomberg_Data_Examples.ipynb\" target=\"_parent\"><img src=\"https://colab.research.google.com/assets/colab-badge.svg\" alt=\"Open In Colab\"/></a>"
      ]
    },
    {
      "cell_type": "code",
      "source": [
        "!pip install blpapi --index-url=https://bcms.bloomberg.com/pip/simple/"
      ],
      "metadata": {
        "id": "ElolI7yR5Xcs",
        "outputId": "9b09f25a-21bf-46e7-d717-99457e20e914",
        "colab": {
          "base_uri": "https://localhost:8080/"
        }
      },
      "execution_count": 1,
      "outputs": [
        {
          "output_type": "stream",
          "name": "stdout",
          "text": [
            "Looking in indexes: https://bcms.bloomberg.com/pip/simple/\n",
            "Requirement already satisfied: blpapi in /usr/local/lib/python3.10/dist-packages (3.23.1)\n"
          ]
        }
      ]
    },
    {
      "cell_type": "code",
      "source": [
        "!pip install xbbg\n",
        "!pip install pdblp"
      ],
      "metadata": {
        "id": "zEDf9SB35p_x",
        "outputId": "2a8d9fbc-b2b1-4e08-e1af-9eb2afa5226f",
        "colab": {
          "base_uri": "https://localhost:8080/"
        }
      },
      "execution_count": 6,
      "outputs": [
        {
          "output_type": "stream",
          "name": "stdout",
          "text": [
            "Requirement already satisfied: xbbg in /usr/local/lib/python3.10/dist-packages (0.7.7)\n",
            "Requirement already satisfied: numpy>=1.15.0 in /usr/local/lib/python3.10/dist-packages (from xbbg) (1.23.5)\n",
            "Requirement already satisfied: pandas>=1.0.0 in /usr/local/lib/python3.10/dist-packages (from xbbg) (1.5.3)\n",
            "Requirement already satisfied: pyarrow>=1.0.1 in /usr/local/lib/python3.10/dist-packages (from xbbg) (10.0.1)\n",
            "Requirement already satisfied: pytz>=2020.4 in /usr/local/lib/python3.10/dist-packages (from xbbg) (2023.4)\n",
            "Requirement already satisfied: ruamel.yaml>=0.15.0 in /usr/local/lib/python3.10/dist-packages (from xbbg) (0.18.6)\n",
            "Requirement already satisfied: pytest in /usr/local/lib/python3.10/dist-packages (from xbbg) (7.4.4)\n",
            "Requirement already satisfied: python-dateutil>=2.8.1 in /usr/local/lib/python3.10/dist-packages (from pandas>=1.0.0->xbbg) (2.8.2)\n",
            "Requirement already satisfied: ruamel.yaml.clib>=0.2.7 in /usr/local/lib/python3.10/dist-packages (from ruamel.yaml>=0.15.0->xbbg) (0.2.8)\n",
            "Requirement already satisfied: iniconfig in /usr/local/lib/python3.10/dist-packages (from pytest->xbbg) (2.0.0)\n",
            "Requirement already satisfied: packaging in /usr/local/lib/python3.10/dist-packages (from pytest->xbbg) (23.2)\n",
            "Requirement already satisfied: pluggy<2.0,>=0.12 in /usr/local/lib/python3.10/dist-packages (from pytest->xbbg) (1.4.0)\n",
            "Requirement already satisfied: exceptiongroup>=1.0.0rc8 in /usr/local/lib/python3.10/dist-packages (from pytest->xbbg) (1.2.0)\n",
            "Requirement already satisfied: tomli>=1.0.0 in /usr/local/lib/python3.10/dist-packages (from pytest->xbbg) (2.0.1)\n",
            "Requirement already satisfied: six>=1.5 in /usr/local/lib/python3.10/dist-packages (from python-dateutil>=2.8.1->pandas>=1.0.0->xbbg) (1.16.0)\n",
            "Collecting pdblp\n",
            "  Downloading pdblp-0.1.8.tar.gz (24 kB)\n",
            "  Preparing metadata (setup.py) ... \u001b[?25l\u001b[?25hdone\n",
            "Requirement already satisfied: pandas>=0.18.0 in /usr/local/lib/python3.10/dist-packages (from pdblp) (1.5.3)\n",
            "Requirement already satisfied: python-dateutil>=2.8.1 in /usr/local/lib/python3.10/dist-packages (from pandas>=0.18.0->pdblp) (2.8.2)\n",
            "Requirement already satisfied: pytz>=2020.1 in /usr/local/lib/python3.10/dist-packages (from pandas>=0.18.0->pdblp) (2023.4)\n",
            "Requirement already satisfied: numpy>=1.21.0 in /usr/local/lib/python3.10/dist-packages (from pandas>=0.18.0->pdblp) (1.23.5)\n",
            "Requirement already satisfied: six>=1.5 in /usr/local/lib/python3.10/dist-packages (from python-dateutil>=2.8.1->pandas>=0.18.0->pdblp) (1.16.0)\n",
            "Building wheels for collected packages: pdblp\n",
            "  Building wheel for pdblp (setup.py) ... \u001b[?25l\u001b[?25hdone\n",
            "  Created wheel for pdblp: filename=pdblp-0.1.8-py3-none-any.whl size=18646 sha256=6570a531ea5782f555ec6d245417b18942912c65d43b63d8fc157c92922df0b1\n",
            "  Stored in directory: /root/.cache/pip/wheels/d4/5d/a3/c5bf685e879e8e4899c73d59048926f1846a08e5d141adcbda\n",
            "Successfully built pdblp\n",
            "Installing collected packages: pdblp\n",
            "Successfully installed pdblp-0.1.8\n"
          ]
        }
      ]
    },
    {
      "cell_type": "code",
      "metadata": {
        "id": "-BYJlOV2-BTp"
      },
      "source": [
        "import pandas as pd\n",
        "import numpy as np\n",
        "\n",
        "from xbbg import blp, pipeline"
      ],
      "execution_count": 3,
      "outputs": []
    },
    {
      "cell_type": "markdown",
      "metadata": {
        "id": "c5LBd3_p_iCF"
      },
      "source": [
        "# Reference Data `BDP` and `BDS`"
      ]
    },
    {
      "cell_type": "code",
      "metadata": {
        "colab": {
          "base_uri": "https://localhost:8080/",
          "height": 35
        },
        "id": "6rIxWjWJTMY7",
        "outputId": "a2cc97ad-1c14-48ef-e14b-98a590734162"
      },
      "source": [
        "blp.__version__"
      ],
      "execution_count": 4,
      "outputs": [
        {
          "output_type": "execute_result",
          "data": {
            "text/plain": [
              "'0.7.7'"
            ],
            "application/vnd.google.colaboratory.intrinsic+json": {
              "type": "string"
            }
          },
          "metadata": {},
          "execution_count": 4
        }
      ]
    },
    {
      "cell_type": "code",
      "metadata": {
        "id": "H48xG1Hd_Twg",
        "colab": {
          "base_uri": "https://localhost:8080/",
          "height": 321
        },
        "outputId": "2b3180a9-0f1d-4249-835c-a603b2f1f6b4"
      },
      "source": [
        "blp.bdp('AAPL US Equity', flds=['Security_Name', 'Last_Price'])"
      ],
      "execution_count": 5,
      "outputs": [
        {
          "output_type": "error",
          "ename": "ConnectionError",
          "evalue": "Cannot connect to Bloomberg",
          "traceback": [
            "\u001b[0;31m---------------------------------------------------------------------------\u001b[0m",
            "\u001b[0;31mConnectionError\u001b[0m                           Traceback (most recent call last)",
            "\u001b[0;32m<ipython-input-5-c052a30987f6>\u001b[0m in \u001b[0;36m<cell line: 1>\u001b[0;34m()\u001b[0m\n\u001b[0;32m----> 1\u001b[0;31m \u001b[0mblp\u001b[0m\u001b[0;34m.\u001b[0m\u001b[0mbdp\u001b[0m\u001b[0;34m(\u001b[0m\u001b[0;34m'AAPL US Equity'\u001b[0m\u001b[0;34m,\u001b[0m \u001b[0mflds\u001b[0m\u001b[0;34m=\u001b[0m\u001b[0;34m[\u001b[0m\u001b[0;34m'Security_Name'\u001b[0m\u001b[0;34m,\u001b[0m \u001b[0;34m'Last_Price'\u001b[0m\u001b[0;34m]\u001b[0m\u001b[0;34m)\u001b[0m\u001b[0;34m\u001b[0m\u001b[0;34m\u001b[0m\u001b[0m\n\u001b[0m",
            "\u001b[0;32m/usr/local/lib/python3.10/dist-packages/xbbg/blp.py\u001b[0m in \u001b[0;36mbdp\u001b[0;34m(tickers, flds, **kwargs)\u001b[0m\n\u001b[1;32m     45\u001b[0m     \u001b[0;32mif\u001b[0m \u001b[0misinstance\u001b[0m\u001b[0;34m(\u001b[0m\u001b[0mflds\u001b[0m\u001b[0;34m,\u001b[0m \u001b[0mstr\u001b[0m\u001b[0;34m)\u001b[0m\u001b[0;34m:\u001b[0m \u001b[0mflds\u001b[0m \u001b[0;34m=\u001b[0m \u001b[0;34m[\u001b[0m\u001b[0mflds\u001b[0m\u001b[0;34m]\u001b[0m\u001b[0;34m\u001b[0m\u001b[0;34m\u001b[0m\u001b[0m\n\u001b[1;32m     46\u001b[0m \u001b[0;34m\u001b[0m\u001b[0m\n\u001b[0;32m---> 47\u001b[0;31m     request = process.create_request(\n\u001b[0m\u001b[1;32m     48\u001b[0m         \u001b[0mservice\u001b[0m\u001b[0;34m=\u001b[0m\u001b[0;34m'//blp/refdata'\u001b[0m\u001b[0;34m,\u001b[0m\u001b[0;34m\u001b[0m\u001b[0;34m\u001b[0m\u001b[0m\n\u001b[1;32m     49\u001b[0m         \u001b[0mrequest\u001b[0m\u001b[0;34m=\u001b[0m\u001b[0;34m'ReferenceDataRequest'\u001b[0m\u001b[0;34m,\u001b[0m\u001b[0;34m\u001b[0m\u001b[0;34m\u001b[0m\u001b[0m\n",
            "\u001b[0;32m/usr/local/lib/python3.10/dist-packages/xbbg/core/process.py\u001b[0m in \u001b[0;36mcreate_request\u001b[0;34m(service, request, settings, ovrds, append, **kwargs)\u001b[0m\n\u001b[1;32m     44\u001b[0m         \u001b[0mBloomberg\u001b[0m \u001b[0mrequest\u001b[0m\u001b[0;34m\u001b[0m\u001b[0;34m\u001b[0m\u001b[0m\n\u001b[1;32m     45\u001b[0m     \"\"\"\n\u001b[0;32m---> 46\u001b[0;31m     \u001b[0msrv\u001b[0m \u001b[0;34m=\u001b[0m \u001b[0mconn\u001b[0m\u001b[0;34m.\u001b[0m\u001b[0mbbg_service\u001b[0m\u001b[0;34m(\u001b[0m\u001b[0mservice\u001b[0m\u001b[0;34m=\u001b[0m\u001b[0mservice\u001b[0m\u001b[0;34m,\u001b[0m \u001b[0;34m**\u001b[0m\u001b[0mkwargs\u001b[0m\u001b[0;34m)\u001b[0m\u001b[0;34m\u001b[0m\u001b[0;34m\u001b[0m\u001b[0m\n\u001b[0m\u001b[1;32m     47\u001b[0m     \u001b[0mreq\u001b[0m \u001b[0;34m=\u001b[0m \u001b[0msrv\u001b[0m\u001b[0;34m.\u001b[0m\u001b[0mcreateRequest\u001b[0m\u001b[0;34m(\u001b[0m\u001b[0mrequest\u001b[0m\u001b[0;34m)\u001b[0m\u001b[0;34m\u001b[0m\u001b[0;34m\u001b[0m\u001b[0m\n\u001b[1;32m     48\u001b[0m \u001b[0;34m\u001b[0m\u001b[0m\n",
            "\u001b[0;32m/usr/local/lib/python3.10/dist-packages/xbbg/core/conn.py\u001b[0m in \u001b[0;36mbbg_service\u001b[0;34m(service, **kwargs)\u001b[0m\n\u001b[1;32m    148\u001b[0m     \u001b[0;32mif\u001b[0m \u001b[0mserv_sym\u001b[0m \u001b[0;32mnot\u001b[0m \u001b[0;32min\u001b[0m \u001b[0mglobals\u001b[0m\u001b[0;34m(\u001b[0m\u001b[0;34m)\u001b[0m\u001b[0;34m:\u001b[0m\u001b[0;34m\u001b[0m\u001b[0;34m\u001b[0m\u001b[0m\n\u001b[1;32m    149\u001b[0m         \u001b[0mlogger\u001b[0m\u001b[0;34m.\u001b[0m\u001b[0mdebug\u001b[0m\u001b[0;34m(\u001b[0m\u001b[0mlog_info\u001b[0m\u001b[0;34m)\u001b[0m\u001b[0;34m\u001b[0m\u001b[0;34m\u001b[0m\u001b[0m\n\u001b[0;32m--> 150\u001b[0;31m         \u001b[0mbbg_session\u001b[0m\u001b[0;34m(\u001b[0m\u001b[0;34m**\u001b[0m\u001b[0mkwargs\u001b[0m\u001b[0;34m)\u001b[0m\u001b[0;34m.\u001b[0m\u001b[0mopenService\u001b[0m\u001b[0;34m(\u001b[0m\u001b[0mservice\u001b[0m\u001b[0;34m)\u001b[0m\u001b[0;34m\u001b[0m\u001b[0;34m\u001b[0m\u001b[0m\n\u001b[0m\u001b[1;32m    151\u001b[0m         \u001b[0mglobals\u001b[0m\u001b[0;34m(\u001b[0m\u001b[0;34m)\u001b[0m\u001b[0;34m[\u001b[0m\u001b[0mserv_sym\u001b[0m\u001b[0;34m]\u001b[0m \u001b[0;34m=\u001b[0m \u001b[0mbbg_session\u001b[0m\u001b[0;34m(\u001b[0m\u001b[0;34m**\u001b[0m\u001b[0mkwargs\u001b[0m\u001b[0;34m)\u001b[0m\u001b[0;34m.\u001b[0m\u001b[0mgetService\u001b[0m\u001b[0;34m(\u001b[0m\u001b[0mservice\u001b[0m\u001b[0;34m)\u001b[0m\u001b[0;34m\u001b[0m\u001b[0;34m\u001b[0m\u001b[0m\n\u001b[1;32m    152\u001b[0m \u001b[0;34m\u001b[0m\u001b[0m\n",
            "\u001b[0;32m/usr/local/lib/python3.10/dist-packages/xbbg/core/conn.py\u001b[0m in \u001b[0;36mbbg_session\u001b[0;34m(**kwargs)\u001b[0m\n\u001b[1;32m    118\u001b[0m \u001b[0;34m\u001b[0m\u001b[0m\n\u001b[1;32m    119\u001b[0m     \u001b[0;32mif\u001b[0m \u001b[0mcon_sym\u001b[0m \u001b[0;32mnot\u001b[0m \u001b[0;32min\u001b[0m \u001b[0mglobals\u001b[0m\u001b[0;34m(\u001b[0m\u001b[0;34m)\u001b[0m\u001b[0;34m:\u001b[0m\u001b[0;34m\u001b[0m\u001b[0;34m\u001b[0m\u001b[0m\n\u001b[0;32m--> 120\u001b[0;31m         \u001b[0mglobals\u001b[0m\u001b[0;34m(\u001b[0m\u001b[0;34m)\u001b[0m\u001b[0;34m[\u001b[0m\u001b[0mcon_sym\u001b[0m\u001b[0;34m]\u001b[0m \u001b[0;34m=\u001b[0m \u001b[0mconnect_bbg\u001b[0m\u001b[0;34m(\u001b[0m\u001b[0;34m**\u001b[0m\u001b[0mkwargs\u001b[0m\u001b[0;34m)\u001b[0m\u001b[0;34m\u001b[0m\u001b[0;34m\u001b[0m\u001b[0m\n\u001b[0m\u001b[1;32m    121\u001b[0m \u001b[0;34m\u001b[0m\u001b[0m\n\u001b[1;32m    122\u001b[0m     \u001b[0;32mreturn\u001b[0m \u001b[0mglobals\u001b[0m\u001b[0;34m(\u001b[0m\u001b[0;34m)\u001b[0m\u001b[0;34m[\u001b[0m\u001b[0mcon_sym\u001b[0m\u001b[0;34m]\u001b[0m\u001b[0;34m\u001b[0m\u001b[0;34m\u001b[0m\u001b[0m\n",
            "\u001b[0;32m/usr/local/lib/python3.10/dist-packages/xbbg/core/conn.py\u001b[0m in \u001b[0;36mconnect_bbg\u001b[0;34m(**kwargs)\u001b[0m\n\u001b[1;32m     95\u001b[0m     \u001b[0mlogger\u001b[0m\u001b[0;34m.\u001b[0m\u001b[0mdebug\u001b[0m\u001b[0;34m(\u001b[0m\u001b[0;34m'Connecting to Bloomberg ...'\u001b[0m\u001b[0;34m)\u001b[0m\u001b[0;34m\u001b[0m\u001b[0;34m\u001b[0m\u001b[0m\n\u001b[1;32m     96\u001b[0m     \u001b[0;32mif\u001b[0m \u001b[0msession\u001b[0m\u001b[0;34m.\u001b[0m\u001b[0mstart\u001b[0m\u001b[0;34m(\u001b[0m\u001b[0;34m)\u001b[0m\u001b[0;34m:\u001b[0m \u001b[0;32mreturn\u001b[0m \u001b[0msession\u001b[0m\u001b[0;34m\u001b[0m\u001b[0;34m\u001b[0m\u001b[0m\n\u001b[0;32m---> 97\u001b[0;31m     \u001b[0;32melse\u001b[0m\u001b[0;34m:\u001b[0m \u001b[0;32mraise\u001b[0m \u001b[0mConnectionError\u001b[0m\u001b[0;34m(\u001b[0m\u001b[0;34m'Cannot connect to Bloomberg'\u001b[0m\u001b[0;34m)\u001b[0m\u001b[0;34m\u001b[0m\u001b[0;34m\u001b[0m\u001b[0m\n\u001b[0m\u001b[1;32m     98\u001b[0m \u001b[0;34m\u001b[0m\u001b[0m\n\u001b[1;32m     99\u001b[0m \u001b[0;34m\u001b[0m\u001b[0m\n",
            "\u001b[0;31mConnectionError\u001b[0m: Cannot connect to Bloomberg"
          ]
        }
      ]
    },
    {
      "cell_type": "code",
      "metadata": {
        "id": "pEya245x_qWa"
      },
      "source": [
        "blp.bdp('6758 JP Equity', flds='Crncy_Adj_Mkt_Cap', Eqy_Fund_Crncy='USD')"
      ],
      "execution_count": null,
      "outputs": []
    },
    {
      "cell_type": "code",
      "metadata": {
        "id": "tyXZPF62Angb"
      },
      "source": [
        "holders = blp.bds('AMZN US Equity', flds='All_Holders_Public_Filings', cache=True)\n",
        "(\n",
        "    holders\n",
        "    .loc[:, ~holders.columns.str.contains(\n",
        "        f'holder_id|portfolio_name|change|number|'\n",
        "        f'metro|percent_of_portfolio|source'\n",
        "    )]\n",
        "    .rename(\n",
        "        index=lambda tkr: tkr.replace(' Equity', ''),\n",
        "        columns={\n",
        "            'holder_name_': 'holder',\n",
        "            'position_': 'position',\n",
        "            'filing_date__': 'filing_dt',\n",
        "            'percent_outstanding': 'pct_out',\n",
        "            'insider_status_': 'insider',\n",
        "        }\n",
        "    )\n",
        ").head()"
      ],
      "execution_count": null,
      "outputs": []
    },
    {
      "cell_type": "code",
      "metadata": {
        "id": "X6_popxkC_ft"
      },
      "source": [
        "blp.dividend('SPY US Equity', start_date='2019')"
      ],
      "execution_count": null,
      "outputs": []
    },
    {
      "cell_type": "code",
      "metadata": {
        "id": "QCr2OoJZDHJE"
      },
      "source": [
        "blp.earning('FB US Equity', Eqy_Fund_Year=2018, Number_Of_Periods=2)"
      ],
      "execution_count": null,
      "outputs": []
    },
    {
      "cell_type": "markdown",
      "metadata": {
        "id": "47tzPYCDDi10"
      },
      "source": [
        "# Historical Data"
      ]
    },
    {
      "cell_type": "markdown",
      "metadata": {
        "id": "AgjNESzWD_VT"
      },
      "source": [
        "Historical data with Excel compatible overrides"
      ]
    },
    {
      "cell_type": "code",
      "metadata": {
        "id": "BXYJi9yfDhvB"
      },
      "source": [
        "blp.bdh(\n",
        "    tickers='SHCOMP Index', flds=['high', 'low', 'last_price'],\n",
        "    start_date='2019-11', end_date='2020', Per='W', Fill='P', Days='A',\n",
        ")"
      ],
      "execution_count": null,
      "outputs": []
    },
    {
      "cell_type": "markdown",
      "metadata": {
        "id": "SE7izShuEFJv"
      },
      "source": [
        "Dividend / split adjustments"
      ]
    },
    {
      "cell_type": "code",
      "metadata": {
        "id": "VK8Dgs9HENnG"
      },
      "source": [
        "pd.concat([\n",
        "    blp.bdh(\n",
        "        'AAPL US Equity', 'Px_Last', '20140605', '20140610',\n",
        "        CshAdjNormal=True, CshAdjAbnormal=True, CapChg=True\n",
        "    ).rename(columns={'Px_Last': 'Px_Adj'}),\n",
        "    blp.bdh(\n",
        "        'AAPL US Equity', 'Px_Last', '20140605', '20140610',\n",
        "        CshAdjNormal=False, CshAdjAbnormal=False, CapChg=False\n",
        "    ).rename(columns={'Px_Last': 'Px_Raw'}),\n",
        "], axis=1)"
      ],
      "execution_count": null,
      "outputs": []
    },
    {
      "cell_type": "markdown",
      "metadata": {
        "id": "6jiuSZWfGp0F"
      },
      "source": [
        "# Intraday Bars"
      ]
    },
    {
      "cell_type": "code",
      "metadata": {
        "id": "TUxTkLe5HMZA"
      },
      "source": [
        "cur_dt = pd.Timestamp('today', tz='America/New_York').date()\n",
        "recent = pd.bdate_range(end=cur_dt, periods=2, tz='America/New_York')\n",
        "pre_dt = max(filter(lambda dd: dd < cur_dt, recent))\n",
        "pre_dt.date()"
      ],
      "execution_count": null,
      "outputs": []
    },
    {
      "cell_type": "code",
      "metadata": {
        "id": "rIB0MtFvGri9"
      },
      "source": [
        "blp.bdib('QQQ US Equity', dt=pre_dt, session='day').tail()"
      ],
      "execution_count": null,
      "outputs": []
    },
    {
      "cell_type": "code",
      "metadata": {
        "id": "NVuSvgmhb-iI"
      },
      "source": [
        "blp.bdib('388 HK Equity', dt=pre_dt, session='am_open_7')"
      ],
      "execution_count": null,
      "outputs": []
    },
    {
      "cell_type": "markdown",
      "metadata": {
        "id": "DP_bqoeYAr30"
      },
      "source": [
        "# Intraday Tick Data"
      ]
    },
    {
      "cell_type": "code",
      "metadata": {
        "id": "h16z0fv7ApPa"
      },
      "source": [
        "blp.bdtick('QQQ US Equity', dt=pre_dt).tail(10)"
      ],
      "execution_count": null,
      "outputs": []
    },
    {
      "cell_type": "markdown",
      "metadata": {
        "id": "EGbQrVbcGjTg"
      },
      "source": [
        "# Equity Screen `BEQS`"
      ]
    },
    {
      "cell_type": "code",
      "metadata": {
        "id": "2Q4CEzWkF0GH"
      },
      "source": [
        "blp.beqs('Core Capital Ratios', typ='GLOBAL').iloc[:5, :6]"
      ],
      "execution_count": null,
      "outputs": []
    },
    {
      "cell_type": "markdown",
      "metadata": {
        "id": "513ExSuJAn7m"
      },
      "source": [
        "# Subscription"
      ]
    },
    {
      "cell_type": "markdown",
      "metadata": {
        "id": "r_F2LaVFzTs-"
      },
      "source": [
        "`blp.live` will yield market data as `dict`"
      ]
    },
    {
      "cell_type": "code",
      "metadata": {
        "id": "IUU5v2ogAL9w"
      },
      "source": [
        "async for snap in blp.live(['ESA Index', 'NQA Index'], max_cnt=2):\n",
        "    print(snap)"
      ],
      "execution_count": null,
      "outputs": []
    },
    {
      "cell_type": "markdown",
      "metadata": {
        "id": "nfE-ygMl9O46"
      },
      "source": [
        "# Pipelines"
      ]
    },
    {
      "cell_type": "code",
      "metadata": {
        "id": "oeoJykcSAjqY"
      },
      "source": [
        "cur_dt = pd.Timestamp('today', tz='America/New_York').date()\n",
        "recent = pd.bdate_range(end=cur_dt, periods=2, tz='America/New_York')\n",
        "pre_dt = max(filter(lambda dd: dd < cur_dt, recent))\n",
        "\n",
        "fx = blp.bdib('JPY Curncy', dt=pre_dt)\n",
        "jp = pd.concat([\n",
        "    blp.bdib(ticker, dt=pre_dt, session='day')\n",
        "    for ticker in ['7974 JP Equity', '9984 JP Equity']\n",
        "], axis=1)\n",
        "jp.tail()"
      ],
      "execution_count": null,
      "outputs": []
    },
    {
      "cell_type": "markdown",
      "metadata": {
        "id": "T9-5WgXj_vBp"
      },
      "source": [
        "Get `close` prices and convert to USD"
      ]
    },
    {
      "cell_type": "code",
      "metadata": {
        "id": "qCDBiBx4-JMk"
      },
      "source": [
        "prices = (\n",
        "    jp\n",
        "    .pipe(pipeline.get_series, col='close')\n",
        "    .pipe(pipeline.apply_fx, fx=fx)\n",
        "    .tz_convert('Asia/Tokyo')\n",
        ")\n",
        "prices.tail()"
      ],
      "execution_count": null,
      "outputs": []
    },
    {
      "cell_type": "markdown",
      "metadata": {
        "id": "WY9v31j7lhcm"
      },
      "source": [
        "## Customized Pipelines"
      ]
    },
    {
      "cell_type": "markdown",
      "metadata": {
        "id": "teA0jx5axwsx"
      },
      "source": [
        "VWAP for intraday bar data"
      ]
    },
    {
      "cell_type": "code",
      "metadata": {
        "id": "Iy5cJP_N_iyk"
      },
      "source": [
        "def vwap(data: pd.DataFrame, fx=None, name=None) -> pd.Series:\n",
        "    return pd.Series({\n",
        "        ticker: (\n",
        "            data[ticker][['close', 'volume']].prod(axis=1).sum()\n",
        "            if fx is None else (\n",
        "                data[ticker].close\n",
        "                .pipe(pipeline.apply_fx, fx)\n",
        "                .close\n",
        "                .mul(data[ticker].volume)\n",
        "                .sum()\n",
        "            )\n",
        "        ) / data[ticker].volume.sum()\n",
        "        for ticker in data.columns.get_level_values(0).unique()\n",
        "    }, name=name)"
      ],
      "execution_count": null,
      "outputs": []
    },
    {
      "cell_type": "markdown",
      "metadata": {
        "id": "aLsq0Gv_xnA-"
      },
      "source": [
        "VWAP in local currency"
      ]
    },
    {
      "cell_type": "code",
      "metadata": {
        "id": "eFZ7BVXKmWbB"
      },
      "source": [
        "jp.pipe(vwap, name=jp.index[-1].date())"
      ],
      "execution_count": null,
      "outputs": []
    },
    {
      "cell_type": "markdown",
      "metadata": {
        "id": "PLKVB7aExpXU"
      },
      "source": [
        "VWAP in USD"
      ]
    },
    {
      "cell_type": "code",
      "metadata": {
        "id": "dJRcosfWw78M"
      },
      "source": [
        "jp.pipe(vwap, fx=fx, name=jp.index[-1].date())"
      ],
      "execution_count": null,
      "outputs": []
    },
    {
      "cell_type": "markdown",
      "metadata": {
        "id": "CwkBOgdwxhGM"
      },
      "source": [
        "Total traded volume as of time in day for past few days"
      ]
    },
    {
      "cell_type": "code",
      "metadata": {
        "id": "ufOqMLr8WoAa"
      },
      "source": [
        "jp_hist = pd.concat([\n",
        "    pd.concat([\n",
        "        blp.bdib(ticker, dt=dt, session='day')\n",
        "        for ticker in ['7974 JP Equity', '9984 JP Equity']\n",
        "    ], axis=1)\n",
        "    for dt in pd.bdate_range(end='today', periods=10)[:-1]\n",
        "], sort=False)\n",
        "unique(jp_hist.index.date)"
      ],
      "execution_count": null,
      "outputs": []
    },
    {
      "cell_type": "code",
      "metadata": {
        "id": "1rjd1Fh6VQR7"
      },
      "source": [
        "def drop_zeros(data: pd.DataFrame) -> pd.DataFrame:\n",
        "    return (\n",
        "        data\n",
        "        .replace(0, np.nan)\n",
        "        .dropna(how='all')\n",
        "        .replace(np.nan, 0)\n",
        "    )"
      ],
      "execution_count": null,
      "outputs": []
    },
    {
      "cell_type": "code",
      "metadata": {
        "id": "pkYreXZepajc"
      },
      "source": [
        "def traded_volume(data: pd.DataFrame, asof: str) -> pd.DataFrame:\n",
        "    return (\n",
        "        data\n",
        "        .pipe(pipeline.get_series, col='volume')\n",
        "        .between_time('0:00', asof)\n",
        "        .resample('B')\n",
        "        .sum()\n",
        "        .pipe(drop_zeros)\n",
        "    )"
      ],
      "execution_count": null,
      "outputs": []
    },
    {
      "cell_type": "code",
      "metadata": {
        "id": "Q8lX043tVQ6Y"
      },
      "source": [
        "jp_hist.pipe(traded_volume, asof='10:00')"
      ],
      "execution_count": null,
      "outputs": []
    },
    {
      "cell_type": "code",
      "metadata": {
        "id": "JmqNerQiTbVW"
      },
      "source": [
        "jp_hist.pipe(traded_volume, asof='11:00')"
      ],
      "execution_count": null,
      "outputs": []
    },
    {
      "cell_type": "code",
      "metadata": {
        "id": "L1qu50oaO6Rv"
      },
      "source": [],
      "execution_count": null,
      "outputs": []
    }
  ]
}