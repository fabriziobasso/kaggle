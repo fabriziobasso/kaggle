{
  "nbformat": 4,
  "nbformat_minor": 0,
  "metadata": {
    "colab": {
      "provenance": [],
      "authorship_tag": "ABX9TyOmOk9PkNw1RTIRzNdNQiZ7",
      "include_colab_link": true
    },
    "kernelspec": {
      "name": "python3",
      "display_name": "Python 3"
    },
    "language_info": {
      "name": "python"
    }
  },
  "cells": [
    {
      "cell_type": "markdown",
      "metadata": {
        "id": "view-in-github",
        "colab_type": "text"
      },
      "source": [
        "<a href=\"https://colab.research.google.com/github/fabriziobasso/kaggle/blob/main/ARNet.ipynb\" target=\"_parent\"><img src=\"https://colab.research.google.com/assets/colab-badge.svg\" alt=\"Open In Colab\"/></a>"
      ]
    },
    {
      "cell_type": "markdown",
      "source": [
        "# Modern Time Series Forecasting: For Predictive Analytics and Anomaly Detection\n",
        "[Link](https://github.com/dataman-git/codes_for_articles/blob/master/02.1_neuralprophet_bike_share_trend_seasonality.ipynb) - Github\n",
        "\n",
        "[Link](https://medium.com/dataman-in-ai/neuralprophet-ii-ar-lagged-and-future-regresors-934dfa57efa3) - Medium\n",
        "\n",
        "\n",
        "In the previous chapter “NeuralProphet (I) — Trend + Seasonality + Holidays”, we show how to build a time series forecasting model with NeuralProphet. We have covered the trend, the seasonality, and the holidays and events components. If you were trained by the ARIMA (Auto-Regressive Integration Moving-Average) school, you may find the GAM framework of Prophet does not explicitly specify the auto-regressive (AR) terms. Prophet uses the trend and seasonal terms to capture what could be captured by the AR terms to some extent. Nevertheless, it would be beneficial to explicitly specify AR terms to increase its predictability.\n",
        "\n",
        "In this chapter, you will learn the neural network framework called AR-Net. You will learn how to model with AR-Net in NeuralProphet. You will also learn how to use the lagged regressors module and the future regressors module. This chapter will build more models by adding new modules to predict the bike-rental time series. We will be able to select the best model among the the models. Finally, this chapter will use the best model to provide multi-step-ahead forecasts. The topics are:\n",
        "\n",
        "1. Understanding the classic AR models\n",
        "2. The Neural Network for AR — The AR-Net\n",
        "3. The AR module of NeuralProphet\n",
        "4. Trend + Seasonality + Holidays + AR\n",
        "5. AR with hidden layers\n",
        "6. Trend + Seasonality + Holidays + AR + Lagged regressors\n",
        "7. Trend + Seasonality + Holidays + AR + Lagged regressors + Future regressors • Model comparison and selection\n",
        "8. Forecasting future periods\n"
      ],
      "metadata": {
        "id": "crWfOEWW5K-q"
      }
    },
    {
      "cell_type": "markdown",
      "source": [
        "### 1.0 Understanding the classical AR models\n",
        "\n",
        "An autoregressive (AR) model uses past values of a variable to predict its future values. It assumes that the current value of a variable is a linear combination of its past values plus an error term. The number of past values in an autoregressive model is called the model of order. An autoregressive model of order p is denoted as AR(p) and expressed as:\n",
        "\n",
        "![ar_fig1.png](data:image/png;base64,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)"
      ],
      "metadata": {
        "id": "Y5aQgi8uc9o1"
      }
    },
    {
      "cell_type": "markdown",
      "source": [
        "Here yt is the value of the time series at time t, yt-1, …, yt-p are the past values, beta_1 — beta_p are the autoregressive coefficients, alpha is a constant term, and epsilon is the white noise error term at time t.\n",
        "\n",
        "The coefficients determine the strength and direction of the relationship between the current value and its past values. The following AR(2) model is an example showing the prediction for yt is 0.8 times yt-1 minus 0.2 times yt-2 plus the constant 0.6. This linear regression style is simple, letting users to do elementary school addition. The model is interpretable because it is not a black box and it can win the trust of users to follow its model predictions for actions.\n",
        "\n",
        "### The Neural Network for AR — The AR-Net\n",
        "\n",
        "An AR model with just a few past terms (low p-order) is easily interpretable. However, in many time series remote terms still influence the current term, which means the above AR equation shall have many past terms (high p-order). When there are many terms in the right hand side of the equation, there could even be interactions between those past terms. The linear assumption becomes too restrictive. A deep-learning framework may be a better choice to capture the complex non-linear interactions of all the past terms. In past two decades, the time-series community has developed various deep-learning frameworks such as LSTM (Long Short-Term Memory), Recurrent Neural Networks (RNN), and Convolutional Neural Networks (CNN) to better describe the long-term dependencies.\n",
        "\n",
        "Triebe, Laptev & Rajagopal (2019) propose a feed-forward neural network approach, AR-Net, to capture the dynamics in the AR terms. Figure (1) illustrates the basic form of AR-Net. It has the input layer for the past terms and the output layer for the target term Yt+1. The target term is a linear combination of the past terms with different weights. Triebe, Laptev & Rajagopal show that the AR-Net model in its basic form can be as interpretable as the classic AR models, and in some cases delivers the same parameters. The AR-Net can scale to high p-orders to estimate long-term dependencies.\n",
        "\n",
        "\n",
        "Figure (1): A neural network model to do the classical AR model\n",
        "In many time series forecasting, we are interested in predicting multiple future steps. The neural-network framework of AR-Net enables it to produce multi-step forecasts. Figure (2) shows the output layer can have multiple future terms, enabling multi-period forecasts. This is a great advantage over the classic AR models, as shown in the above questions, that produce one-step-ahead estimates.\n",
        "\n"
      ],
      "metadata": {
        "id": "1GMl5zOldVq3"
      }
    },
    {
      "cell_type": "code",
      "execution_count": null,
      "metadata": {
        "id": "Nbhcd0PJ5BVa"
      },
      "outputs": [],
      "source": [
        ""
      ]
    }
  ]
}