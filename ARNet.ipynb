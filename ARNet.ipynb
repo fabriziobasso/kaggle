{
  "nbformat": 4,
  "nbformat_minor": 0,
  "metadata": {
    "colab": {
      "provenance": [],
      "authorship_tag": "ABX9TyPPqO2csu89EMO63LZLoU5a",
      "include_colab_link": true
    },
    "kernelspec": {
      "name": "python3",
      "display_name": "Python 3"
    },
    "language_info": {
      "name": "python"
    }
  },
  "cells": [
    {
      "cell_type": "markdown",
      "metadata": {
        "id": "view-in-github",
        "colab_type": "text"
      },
      "source": [
        "<a href=\"https://colab.research.google.com/github/fabriziobasso/kaggle/blob/main/ARNet.ipynb\" target=\"_parent\"><img src=\"https://colab.research.google.com/assets/colab-badge.svg\" alt=\"Open In Colab\"/></a>"
      ]
    },
    {
      "cell_type": "markdown",
      "source": [
        "# Modern Time Series Forecasting: For Predictive Analytics and Anomaly Detection\n",
        "[Link](https://github.com/dataman-git/codes_for_articles/blob/master/02.1_neuralprophet_bike_share_trend_seasonality.ipynb) - Github\n",
        "\n",
        "[Link](https://medium.com/dataman-in-ai/neuralprophet-ii-ar-lagged-and-future-regresors-934dfa57efa3) - Medium\n",
        "\n",
        "\n",
        "In the previous chapter “NeuralProphet (I) — Trend + Seasonality + Holidays”, we show how to build a time series forecasting model with NeuralProphet. We have covered the trend, the seasonality, and the holidays and events components. If you were trained by the ARIMA (Auto-Regressive Integration Moving-Average) school, you may find the GAM framework of Prophet does not explicitly specify the auto-regressive (AR) terms. Prophet uses the trend and seasonal terms to capture what could be captured by the AR terms to some extent. Nevertheless, it would be beneficial to explicitly specify AR terms to increase its predictability.\n",
        "\n",
        "In this chapter, you will learn the neural network framework called AR-Net. You will learn how to model with AR-Net in NeuralProphet. You will also learn how to use the lagged regressors module and the future regressors module. This chapter will build more models by adding new modules to predict the bike-rental time series. We will be able to select the best model among the the models. Finally, this chapter will use the best model to provide multi-step-ahead forecasts. The topics are:\n",
        "\n",
        "1. Understanding the classic AR models\n",
        "2. The Neural Network for AR — The AR-Net\n",
        "3. The AR module of NeuralProphet\n",
        "4. Trend + Seasonality + Holidays + AR\n",
        "5. AR with hidden layers\n",
        "6. Trend + Seasonality + Holidays + AR + Lagged regressors\n",
        "7. Trend + Seasonality + Holidays + AR + Lagged regressors + Future regressors • Model comparison and selection\n",
        "8. Forecasting future periods\n"
      ],
      "metadata": {
        "id": "crWfOEWW5K-q"
      }
    },
    {
      "cell_type": "code",
      "execution_count": null,
      "metadata": {
        "id": "Nbhcd0PJ5BVa"
      },
      "outputs": [],
      "source": []
    }
  ]
}