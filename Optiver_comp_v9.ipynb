{
  "cells": [
    {
      "cell_type": "markdown",
      "metadata": {
        "id": "view-in-github",
        "colab_type": "text"
      },
      "source": [
        "<a href=\"https://colab.research.google.com/github/fabriziobasso/kaggle/blob/main/Optiver_comp_v9.ipynb\" target=\"_parent\"><img src=\"https://colab.research.google.com/assets/colab-badge.svg\" alt=\"Open In Colab\"/></a>"
      ]
    },
    {
      "cell_type": "markdown",
      "metadata": {
        "id": "sC9RQialbkNG"
      },
      "source": [
        "## **1.0 Dataset Description**\n",
        "This dataset contains historic data for the daily ten minute closing auction on the NASDAQ stock exchange. Your challenge is to predict the future price movements of stocks relative to the price future price movement of a synthetic index composed of NASDAQ-listed stocks.\n",
        "\n",
        "This is a forecasting competition using the time series API. The private leaderboard will be determined using real market data gathered after the submission period closes.\n",
        "\n",
        "#### **Files**\n",
        "* **[train/test].csv** The auction data. The test data will be delivered by the API.\n",
        "\n",
        "* **stock_id** - A unique identifier for the stock. Not all stock IDs exist in every time bucket.\n",
        "* **date_id** - A unique identifier for the date. Date IDs are sequential & consistent across all stocks.\n",
        "* **imbalance_size** - The amount unmatched at the current reference price (in USD).\n",
        "* **imbalance_buy_sell_flag** - An indicator reflecting the direction of auction imbalance:\n",
        "  * buy-side imbalance; 1\n",
        "  * sell-side imbalance; -1\n",
        "  * no imbalance; 0\n",
        "* **reference_price** - The price at which paired shares are maximized, the imbalance is minimized and the distance from the bid-ask midpoint is minimized, in that order. Can also be thought of as being equal to the near price bounded between the best bid and ask price.\n",
        "* **matched_size** - The amount that can be matched at the current reference price (in USD).\n",
        "* **far_price** - The crossing price that will maximize the number of shares matched based on auction interest only. This calculation excludes continuous market orders.\n",
        "* **near_price** - The crossing price that will maximize the number of shares matched based auction and continuous market orders.\n",
        "* **[bid/ask]_price** - Price of the most competitive buy/sell level in the non-auction book.\n",
        "* **[bid/ask]_size** - The dollar notional amount on the most competitive buy/sell level in the non-auction book.\n",
        "* **wap** - The weighted average price in the non-auction book.\n",
        "\n",
        "![vwap.png](data:image/png;base64,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)\n",
        "\n",
        "* **seconds_in_bucket** - The number of seconds elapsed since the beginning of the day's closing auction, always starting from 0.\n",
        "* **target** - The 60 second future move in the wap of the stock, less the 60 second future move of the synthetic index. Only provided for the train set.\n",
        " * The synthetic index is a custom weighted index of Nasdaq-listed stocks constructed by Optiver for this competition.\n",
        " * The unit of the target is basis points, which is a common unit of measurement in financial markets. A 1 basis point price move is equivalent to a 0.01% price move.\n",
        " * Where t is the time at the current observation, we can define the target:\n",
        "\n",
        "![bps_target.png](data:image/png;base64,iVBORw0KGgoAAAANSUhEUgAAAbAAAAA1CAYAAAAgRL71AAAAAXNSR0IArs4c6QAAAARnQU1BAACxjwv8YQUAAAAJcEhZcwAAEnQAABJ0Ad5mH3gAAB9USURBVHhe7Z0JuA3lG8C/Uv90iyxZsoRQtCCUpZBCSCpFaVF2WiRcZUshWiylhYpCRda0kiwVUYpKi3aVpFWrStL8399757vmnuace6977nLu/X7PM885Z86cmTkz33zv967ffp5gHA6Hw+FIMPb3Xx0Oh8PhSCicAHM4HA5HQuIEmMPhcDgSEifAHA6Hw5GQOAGWR9i9e7d5+umnzbnnnmvq169vateubXr16mXWrFljzj77bH+r/M1PP/1kTjnlFPPxxx/7axyOzPPqq6+as846S9uTI3/jBFge4YEHHjDJycnm3nvvVaG1bt06U6lSJdOyZUt9zW569+5tDjvsMHPQQQeZf/75x1+bwldffWWaNGliypUrZ0qWLGmOO+44M2jQIEMAa9++fU2VKlVMiRIlTNWqVU2jRo3MH3/8YXbs2GHOOOMMU6pUKV0aN27s7y06S5cu1f/96aef+mvSMnHiRNO2bVtz7LHH6tK+fXtd6KzatWtnHnvsMfPXX3/5W+dvrrnmGnPiiSfqdef6MujhemeVxYsX6/3cb7/9TP/+/f21WSen2hC/GzBggHnvvffMzz//7K9Ni2tH+QjC6B25y+rVq72yZct6r7/+ur8mBREkXunSpb2nnnrKX+N5jzzyiNe8eXP/U3ypWbOm16BBA//TXvbs2eP9/vvv3umnn+4VL17ce/fddz15wPU76TC8u+66i1QM7/HHH9ft4N9//9X3bdq08VauXJm6PhpffPGFl5SUpPsRIe6v/S9vvvmmbnPZZZf5a1JYsmSJrudcCgqiqep/lkGOvyY+zJs3T/f7wgsv+GuyTk60IXjooYe8Aw44wJPBmLdx40Z/7X9x7Sh/4DSwPMCECRNMkSJFdHQapFChQmpKrFatmr/GmE2bNmWLRrZt2zYjQsTUqVPHX7OX/fff3xxyyCE6cpaOyEgHoZoaHHzwwUY6Gn2/c+dO3Q4YwX/00UemRo0aRgRu6vpojBw50nTr1k2P9d133/lr/8vzzz+vrz179tRXy/HHH6+v06ZN09eCwIYNG/RVhIK+xgsZMJkyZcqY8uXL+2uyTk60IUyG48eP1+3RxFii4dpR/sAJsDwApo6tW7dqhySDCn9tCpg7jjrqKO3UMa0tX77cFC1aVE0y8eTDDz9UPxxmqWgUK1ZMt/nzzz/9NSnnPmrUKH3/448/6ivs2rVLfXgs6cE+//e//xkZDWtHJyNt/5u00MktW7ZMzwNzVJDPP/9cXw899FB9LQiIFqGDHNvpxoNffvlFzW9ly5bVJd5kVxviuenRo4cZO3asqVmzph4jmgBz7Sj/4ARYHqBp06Zqc8cOf8QRR6g2MmfOHO3I6ZwYqX755ZfqnH7nnXfUV2UfNAujz+nTp6ttH1t+3bp1tVMICgN+g3+Ah/akk04yd911l/+NMZs3b04VYHQGDz/8sElKSjI333yzv4UxxYsXV/8YHYuFEe/VV1+to+Wgz2H9+vXmvPPO09FwLBiN85+7dOmiQowOmU40jF9//VX/Q/Xq1f01e1m9erWew8CBA/01+Z+NGzfqNQteDzptOnI6ce71ihUr9Nq2atVK7y0afCTz589X7R8NZ+rUqebrr79W3xD3G2gPb7/9tgoSfLIE2uArs9BuZs6caTp16mRatGih2z333HPanuvVq2fuuOMOf8vsaUPw0ksv6XlyTAZ48M033+hrJK4d5SPkpjvyAN27d1fbe3C55JJL/G89b82aNd7111/viTDzRLh5L7/8sv9NCvgWKlas6O3cuVN9B99//7134IEHeg8++KB+z3q+nzBhgiedh9eoUSP1OVkuuOACT0ad3o4dO7zLL7/ckw7Jq1OnjvrmLCNGjPDk4faks9DP7Ec6Hk86RT3WNddco+ulQ/OkM/N++OEH/RwLfBaiYep7Ec56ThdddJF+jgQ/WZEiRTzpkNU/yIJfJDk5Wf0q/DfrVykI8J9F+Ov1tuC3woc4adIkvVdXXHGFJ9qO+qBoI7Vr1/a3TPE9dejQwTvzzDM90cA9EVyeCCf9Hb4oC742EQra7rjm3HcZKPnfet5NN93kDRs2TM9DBINXpUoVTwZIev/x4Ypg9LfMnjZEe6ftygBPP1933XX6/HANwnDtKP/gNLA8gggajbqaN2+emg3RumbPnm3ef/99/Z5Rb+HChdX/JR18qumD0S+mt7feektH12hNjCAPP/xwHVE/88wzug2aGesY6UpHYWrVqmWk49F9YFJhBCsdmbnlllvUL0DoPucQ9BFgVpE2k+qvkI7CnH/++bo/Fjuq5r+wf/wdsfj777/NE088YT755BP9zMgZfwjaaBhci99++039IiJw9dgi5NW0ikkIjcP6VTKLdJQ66u7cubNZuXKlv9bosW6//XZz66236v2Idm45Ddo4Wjf/H3+S5d1331VNCI0dTR0NmnaDaZZrZ6+PdNp6/1atWmVuu+02c/TRR6smfPLJJ6tWhxYPaCv4n0499VRz4YUX6rqFCxeqhgaY/DBnjxkzRs9j+/btumD25vjNmjVLo4HFuw2xHxnY6b1v0KCBrrMm1Wim6OxqR7RnEfyma9euRgaBqrVaXnzxRb0OWD04tiNOqBhz5AqM/NA6wpg8ebKOIp977jl/jacRU3aEapGH0StRooR36aWX6kjUgsbFSLd169behg0bdF+zZs3yv00LUZB8zxK5/yD333+/bkMkpDycngg5/Q/y4HvFihXTETMjZ+nodNQfC8515MiRquFJ56iLdJ46Cj/jjDP8rdLSo0cPPf4HH3zgr/kvnA/agXTg/pq0iCDy36Wlffv23tatW1Vj7dixo6779ttvvXr16uk9+vnnn/XaoIXkBfr27avXIlqkXdOmTfV6WmgP0imnaiXSeXvlypXTbfjOIoIsjXaFpsRxRKB5ffr00e3R2rgeYdgoPqIMw4hnGwL2EWxDLCJc9RjR2nJW29GMGTP8d2lBE0Wr43p269ZN7xHIAM2rW7euJ4MBtTjIgEjXO7KOE2C5iIzKonbWCxYsUAH0yy+/6Gce6qpVq6aGmMuoV18RcGwnI239bKEj5iGV0bWGRRNaHK1TGTRokCfamXaGQ4cOVXNMWAg158Q+EQIySvVkJKnrOZcyZcpoODcdJMdLj23btqlwoBOxC4LiyCOP9KpVq+ZvtRc6FM6rfPny/ppw2C9CMJrpqV+/fv67vfC/q1evru8Jr6ZzBcy0wXOR0bkKhtxGRvpeqVKl1HwYDa5V0ISGWQwBZu8Z91e0sjSdPEKEtnT33Xf7azxv7ty5ej0xYYtmpSbm4EApkl69emkbiWaCi2cbAoQM+wy2o9dee02PgTk0kni0I9Gk/Hd7sabTN954Qz9zTjb9BYEnWp6+x2SKMHPEB2dCzEVI3MVpHWZSwIRCoqd1SGMuwiyEmYSIRXlQdb2FRE8LgRHSQWkUGSYSTBuYZ+y+LJgdMS8SUnzMMcdocinmSEwvRKIRTIFpyELUFhBmzTnbsGYCL1gwYeKQt+anaEi70+3uuecePa5dMP2wT9F8/C33Ih2DnheVSqJBAuqIESPUrIRZLKNg6sG0JR23RmOKNqvrCWwJmpIwrUnn6H/KPTB9cf0JkAiDe0+UH6ZmwOzJfyMpmPtEkId05HqdME1bnn32WTXhYkakbRIwxP/HNFi5cmVtTwRhYKLm2gAmRNrplClTtJ2JhqFmQ3vduLbs1xLPNsSxaPcEegTbEeePyZTrFEl2tSOeSRaeMUyFpCHYCjpUlrHPHm2IZ8sRH5wAywHo9IJ+AEDIrF27VgXRnXfeqcKCCDIeriuvvFL9YYMHD/a3Toku42GnoyXcnt8DEVr4Logc44FDIBEhRhTYk08+qb4IItJ44DkGr/gZ8I3RqZH/9f333+t+eLjo+Hj4S5curQKTVwu+FMCHMGTIEO3IAOHIgpAlehI/XBicH/vn/EgHIMfNwnc7d+7Ujo+Ojf/Lf7FQnQQ6dOigr2Hgx6CjwIeF3yqjkKKA3wa/Ip2e7bTonIP/hf8bPKfcAj8XwiKaAOP60pEjcID/xr2hwgWCh+g7vkOY0B6Azhf/DOtZaB9cS+4R29BGuEe0He7d6NGj9XecCz5boveWLFmibUe0Ov0OwTl8+PA0eYxZbUOcC/vluOPGjdNBUBCui21H+DVzqh0R8cj1wT/Ypk0braxDZCbw3AX/T6w2xP8/55xz9LwdGUAaRKbAzisdqSejdY1oIsqI3RBJxmcZRXsykkoTQVeQwSSFqUcapr8mBfwtF198sZqv+vfvr74H6XQ86UTVRi6dqr9lCtjVMT0QiTh27Fh/bYovCR8WppcWLVqozwszDqYUCxFoRJU1bNhQqxrgZ8AWL4JCzYqYD2WUrNvKw6Xn07hxY42MJJrRIhqbmpgwRwXBzImpDX9GLKg0ggmuQoUK2m7wF1imTZumZjwRotqeuB5ErK1atUr/N+fIeq4RkXVhYJ6RTjDNf//ss8886UxSF0y29v3DDz+s2xBBd+KJJ+p77kvJkiX1PdUYiMS0YPLF7JZbYFYLPnPWh0UEYRDuc9BUynXp2rWrXjt8MyKY1QyJmZlri3mLCDxMXuyftsT9oN2AaOjqWyJakW2nT5+eavrD1EZbwVyHb0k0N69+/foa1dq7d29v/fr1aUyOWW1Dor1oNCXmdHy/tCf8eRbRrPQ7jmHby5gxY7LUjojO5HrYdoOP1L5nwURofXsiePQ3osWlRvBioueZtNA/xkIGttr+7fXPDV555RXtB2644QY1Kdv7HYRnBVMw29AvyYA51G8Zz31FkikBRqM/+OCDtawLDklOpHPnzvpQYxvnM+sRcnQ+eQkeIho+gQM5BQ2wXbt2aR6wRAYfCB0mwQ1BEHr4IiJD+3Ma/BCEQRNgEM0Hc+ONN/rv9jJ16lTtdIH/JqN3fY9/0Yb4w4oVK7Rjcew7eb0NQXrtiPYSCT5F/MwWBhv0lUCnbQOD8MFVqlRJ30eDfoP2aAeV8YR+Gl8ng7GePXuqcI2EwBgGB9b/x+CGdo9gtzAw5P9aPyv3Ff81gwLupSWe+wojUwIMbSJy1MLoK/KG4PgN5pHkBWiIjMrQVnKKJ554QoWmI2dYuHChjqzpACKDWixhAgzHO3UgGeTwYBNxBzzojOZt4MLo0aOj7teRf0ivHYUJsC1btuhghz6StoKVxNZZJKjEDpAYBNnoxFjQX2EJQODFkyFDhmgAC5YINEZy8IJg6alcubI3fPhwf43nbd68WZUUtGvg3LDioGEGo1G5buTX2Zqu8dxXNDLlA8NfI6qy/ykFMtqpJB1EJKo6MfMS2PdxEtetW9dfk/1QTy3y2jiyD/x48kAYEVLqx8go1H8ksIEqDhMmTNAFCFzAd0mNRvLDCC656qqr9DtH/mVf2pFoDOpTxq9HO6IPxEcH9Dk214xgF/LW0gMfHj5BfH3xhFJb5O1Z/1wkMmhTnyl+UEuFChXUv8d0T8D3lDGjfiu5fhZRZtR/vWjRIv0cz31FxRdkGQLVOgg5EkjTa6+91l+TArZjbNoWMt9RV1u1aqWV1LF1YhPF3IiUxheCyogKyfrTTjtNbfYZhREPtnWOgR8IrRDtBxYvXqyhwtjXixYtqu/DRlDZASMdcrAceYdRo0b57xyOfQPfYU7AzBD33Xef/ym+kLZA9x+pgeHvpE/HtxeEbfGNAn1aUlJSaDoA25FTCfHcVzQypYFFVkGnXh7SlDprQUT9Tg0bJepMBJJm+hNOS2TcjBkztAIDEUNUAiDclzptjF6YGwipvGDBAv09cAxCg4kcImS2devWWrPNRvYh6Zs2bapVuQn/ZZ+EoQPrbTQfUVi879ixo37OToiEIjKJ0HRH3oHwaIcjK6Ct5wTUpyStIKNQuSQz24exa9cujfTEWhUJEcuwe/du3Y6o5TCIXoZ47isaWQqjF8mqYbMIiTBQwxE65JZQwoh8Ek6Uz4TWMoEd4eIIQEyRlKohxPfiiy9OEx7LcQhNJTwXwYfgQtBR7DO9UjfkrRAuzP4RpKiwHDe74cITIhx28xwOhyM96LdIBYjGnj17tPQcqQEM8jFx80re2dy5c/2tMg9CJwz2nRE4L0s89xXGPgswcmeQouSikJsUBj4zcp0aNmyYmtiItOUCI2zo4EmcRRMjz4QK6azD9tylSxfdnjp5JEp2795dBRWwDaBxkYyLTZd15E9hO0V7I//EQvIiF4K6a7EgqZiaZeShpLfQQGLZZ7HfItztuToKJvjT8ImQYxZtadu2bVxnP3bkD8j7DE4vEwl9y+uvv64WLBQEBufM6E4idzB5PDPE6rOsVY1tWKJhk9Xjua9o7CcSMlxEpgMXjguFSS5atjqOOh5ezHlW7SbBlmm7Ma/ZJFkEBxn1L7/8spr5gpDUR6UIBByOPsARSdFZEg2ZhJHKCZgNmY4cQcmfDl44zhNhSkJhTgkUpsZH4JKQGHaDmjRv4b9zJDqrVy3332Uvrs3kX8LaEBYnqqEwqE4PijZTnJvKOcOGDfPXRgflA4GH4CP4xELRBQZVBL1h5QIsaVjNsIxRpYRqNSgP9LPBqiL041i8mE6HYL947isqCLB9gek2+Lmt9xUGyWhsY6dOABIhKbZJ8IYN1GBfJA6yLsjvv/+uwRcEQ9jvRPXUUH6mBtm+fbsGaZBvgVMyCEVugdBMzoEpFoAkTsL8wyDZmITH2bNnp7uQJkCoZzQIKiG3Ib08BofD4QiDpHNbQzEM+kSKHhNuTx9KKsidd96p/SGBbLGIFsQhioUGu4mC4K9JKUYsA389BtBPkkBOvxxMNiY0nn7c5q/Fc1/RyJQAIy8CoUL0IFUkuADMwcO6MMivoXAmJ0M+w6JFi7RTJ0ufHBsyroFk37CithyPm9KsWTNNogZuGpUtTjjhBP1M/kXhwoU1/4LtRcJrUiEJ1kCGN+eJsGEfCE8uYnZD7pBoXno+DofDkVnOO+88jayOBoP5devWaZQ3fRsFnqmsQ5J4egnh0QQYULkkGBWIsKH6EgqDhQE80YNBAUP0OBVb6Pss8dxXGJkSYCTkUXKHclFIeS4AAoaq4mFwUamezuR2lKHhz6CxUYaKkjFWS6KK8yN+BfBIKENiE9rQnNDIOO6jjz7qbxG71A0a0ODBg3UCR6YcobRNTkHJn+yqwkFmOwmCJEjWqlVLryfV3Gn0BQEaNqPM/FLlxJE75OV2RJ+V0TB6BvYoFQzoY0GJK/oMyrbRjxYrVkz7b6qgWFAExo8fr+XBCHenT6FvCYLwRDEh6Z9+Fy2K8mWRqVbx3FcY+2xCzEk2bdqkQoiSLFRDQAVFPc3rUJcwI1n3mYUcuxo1anjjxo3ThovqzeiFQQVmh+wGs2yTJk1Um44cIaLxMphAS6aEDBrvwIEDtZEynxSZ+ZTpoWoBNfs4f8y6VCyhTh0LD256YMalHTD/VBjU2uNhQFNnwMUDysI66uVh3i5I2jE5mAwUufbUO2SEm1XIteR+0hFG5oJmFdeOPP3vWLEc0cnTAowGSfHOYDkV7L0ZaZh5gYkTJ2pDjzfM8YVZNehfY6RDcdegJsvDzgOdXfUfMQUENWHgPDApc1w6GEwa9gGn0CkFcunwMBtY0zPnyXsKDVNnM5pJ2oLJBJMD+7Hzo0VCMWQ0c7ZBO6VDZOG3U6ZMUeFr7fAFBebfwifBcxUvqPnHNcZsH08KejvCesX/tq4TRzhZygPLbijfIyMfjcQBohmZbkBG/fo5ryOjUs1Ts0l78eLWW2/VyB15ePw1KeGoJItTBscijV+jM1u0iH/0GrknMurV/LsgnAfhv0wFL52QnqNNoSD6SDoZfc9v2Q5kBKzTmHDuRG7a9dEQgazlnTgW6RxhENVKOR9gencirlgo+UMyPPNhkQxfkHjppZe0XI8NYY4HzOtF2bjy5cv7a+JDQW5H0i8bGfjqfGeUk3JEJ08LMMLtqaM1dOhQTULmYaGSBw0pEeDBYD4hzp0HLV4QYkqdRdICgkyaNEknhbRkZ/1HGflqZZbI6iwWwmLJsqcSi4XzHjVqlL4XLUBfgdxAwmVZ0oN9kgxP/iDXV0bZ/jf/ZenSpbotqRhB7IAieA75HfISqTlHTmZw4JMVaH+EPvOMBuvdxZOC2I4YsFN4QTQ+f40jGnlagJEHQSMhd4xcCPLKEGo0uESBGW8RLMFci6zCjLdbt27V0SkzLlMglGRuitIyYSBCvl+/fqqxJiUlmRtuuOE/uRQkk6Mhop01bdrU9OnTRzsGC/lrjz76qM6MiwBmJmhGhMAIkQkPyfEAzoWcvmCiePHixXV0SqdiYaZd8k4YKQePRUUVRrNB7TEMRuJHHHGEJrnToSCcI4W4hfOnxBi5gZEdttXo7YzFBQEmnERroaishWtEfiYTng4YMMCsWLFCry2VcSjtFlaWaP78+VriCO0GzYOJVKl6w/0G2gazMCNEWrZsqe2fCTYtCI6ZM2eaTp06adtjO55v8kUpihA58WtBa0f8n+TkZLNx40ZXxScjYEd0JBbY4HFsc/vsEgxVJbKKbYjYxAfH+6DfgwhGnNzY7qVDUd8CTnGCQixECxFhyoSWbMP30mnpd/KQqX2eaE8RZJ5oyOp3KFOmjH4PzAeHc9zmAEoHpCG7BOSQ30FRZWDfTKdg5wuKBZNw2vm5iGTCfyGdh36OhFBifIKkaATBn0okLdcvck6q/AzzPkXmWuK3wvdDEW3uFfmVBAThf8L3RLCHBb9Thw4dtD0xgSaTPBJZxu/wQ1lkYKR+tjlz5ui15r4HI9yYK5AJRLnvRJkRWEKUMvefqF3bxiyuHTlikTiqjCMVbPBUJqFEFtoXvi9GbIxAgVErppew+o+MZNGq0N6oYGJ9C/yGETijU8oa4TvDTCmCTn+H6clWXMGvh0kKrQ9fGOYc9sP+LJQXk/aV6qtAO2P0j02fxY6o0RIpQsr5xAJ/HnUwKS0G+HHwhYjw1c+RSEemfg0qvuDrYKFYdMWKFVXjYPRsK8EUBDD1oUWgkVuYqgNNiLqd+Mao5oAGj4WD+2t9TmhA3D/aBG2A9oYGQ4UbNBjaE6RXlxRTG22GahG0F4p2s4gw0eNjWYjUwFw7csRExZgjIWCUycg3Eqp+cCtnzZrlr/G0oggjVxu5ZSHxkW2D+XCMuJmUlPwLkrxF4Omo2ObSRcIU6uyD0TP7C8NOsU5UJLOyEsHFqJUEdnJPGC3zf6gkEMzAD0M6L42kLFu2rIZWszCrLyPwsAR4YMoejo92gPZpl8jrUVBAG4/UIizcd66nBS1NhFfqDLnkSKGFsE1Qg2Nm3aB2hZbENSefh1B3tkdrQ2MPg9B1tifCMBquHTli4QRYAkHeTdhcZpj5EFY8WBYEEAngPLRBMJ/IqNnbtm2bvyYlVBjTDZVRmLFaRscx89foRMiJYVvMjL169fK/2cuCBQv0wacDIHzbCkMqAGBqJKmRDnLevHm6PhacK8mWzDNnF0w/zCFHxxwGeWqiScTM5Kfjw1TGvHb5GcLJCxUqFDWdgmo5VlgBuU8IMHvPMDVyLa25DhAgtDlyMy0UGkAYiFaulRa49pHtLwjthjYSSxi4duSIhRNgCQQluGz5rSAkdzdv3tz/FLv+IwIMm3/Qbk8yJh0cI1zyZ+iYHoyYtA/fA9VQeKWToqoK0KmhvaHF0clYli9frudAlQOSnW1HRsfGaJ7OJ1jjMhr8jv8RpukhPBHSkbBP/oMtNxYNcnkQ1pRGy89wz7kXaOWRLFu2TO899wXQYvB3olnh9+revXuqphT0dU2ePFnbEdV5+B6fVHp1SfFPkYxMdQnaEdeefEYLlgR8qkFcO3LEwvnAEgT8EFTlZ7oE6XQ07JcIKekcdN3EiRP9LVNCpgFfhIwONVqQCC9gyhq57/p7eajNli1bNIqKytD4EMhvYSHyCn8YC8eRUa5GJRK9yD7xnYA85OoPYTv2a8GXApwfPgPpCPQzfgsW8vmYlibokwnCuRE6TQSbdGKmdu3a/jcp33FcfDT8V86Pc7IwUwLnYn0zYTCLApGV5C/ZaMr8iggwjWgL+59cXyagtWHw+KS4N40aNTKbN2/W+fn4Dp+qvb9EnZKiwXoWIlLxJXGP2Ab/LPcI/xT3TgZY+jt8brRTIiJF6KmvjUhjwAfFFEiiCelni2tHjpjIDXIkAPim8C1QpJNptqtWrao1EIkcwwwSBJNGtPqP8tB68+fPV9s/5YWoHYmJCA3Kfs8xMIlgnmEkjqkHLY3RObUpiWC0fo21a9eqzwxfR3DkzWia0SvmqCCUwcJcgxkyFmh7+GbYN9FpXbp08b/xvGnTpmktN0yhNGF8MUSrUbUAcyo1IlmPRhDN/wKU6kGDyK/gP6KNoDGjZRFVyL0PQhkm6s5Z0Iy6du3qiVDTsmRo71xXNHIiXWkvycnJWtOU/dFGuB+2/cSqS4oJD02K6MUePXpo/Tvq8mFZ6N27t7ZT2l8Q144csXACzJEtYOJBSEaGGCNcEYrpVcveFzA3YQ7CuU/HgynMzkoQCR0UsxiEBcU48g6uHTlisc8TWjociQxmWGbwpvTQrFmzjGiy/jcOR8Zx7Sh3cT4wR4GE/DbGbvj26tev7691ODKHa0e5i9PAHA6Hw5GQOA3M4XA4HAmJE2AOh8PhSEicAHM4HA5HQuIEmMPhcDgSEifAHA6Hw5GQOAHmcDgcjoTECTCHw+FwJCROgDkcDocjATHm/zjQH1o3a50HAAAAAElFTkSuQmCC)\n",
        "\n",
        "All size related columns are in USD terms.\n",
        "\n",
        "**All price related columns are converted to a price move relative to the stock wap (weighted average price) at the beginning of the auction period.**\n",
        "\n",
        "* **sample_submission**: A valid sample submission, delivered by the API. See this [notebook](https://www.kaggle.com/code/sohier/optiver-2023-basic-submission-demo) for a very simple example of how to use the sample submission.\n",
        "\n",
        "* **revealed_targets** The first time_id for each date in this file provides the true target values for the entire previous date. All other rows contain mostly null values.\n",
        "\n",
        "* **public_timeseries_testing_util.py**: An optional file intended to make it easier to run custom offline API tests. See the script's docstring for details.\n",
        "\n",
        "* **example_test_files** Data intended to illustrate how the API functions. Includes the same files and columns delivered by the API.\n",
        "\n",
        "* **optiver2023** Files that enable the API. Expect the API to deliver all rows in under five minutes and to reserve less than 0.5 GB of memory."
      ]
    },
    {
      "cell_type": "markdown",
      "metadata": {
        "id": "MvBdXnN2ie1f"
      },
      "source": [
        "#### **Relevant Files**\n",
        "\n",
        "* [Starter Pack v1](https://www.kaggle.com/code/mmmarchetti/the-most-simple-and-dumbest-starter-s-notebook)\n",
        "* [Discussion](https://www.kaggle.com/competitions/optiver-trading-at-the-close/discussion)\n",
        "* [Starter Pack v1](https://www.kaggle.com/code/iqbalsyahakbar/optiver-a-starter-s-notebook/notebook)  \n",
        "* [Discord Chat](https://discord.com/channels/1101210829807956100/onboarding)"
      ]
    },
    {
      "cell_type": "markdown",
      "metadata": {
        "id": "y7wvddu4riye"
      },
      "source": [
        "### 1.1 Install Packages:"
      ]
    },
    {
      "cell_type": "code",
      "execution_count": 1,
      "metadata": {
        "id": "NssaJaAQngVv"
      },
      "outputs": [],
      "source": [
        "%%capture\n",
        "!pip install tensorflow-addons\n",
        "#!pip install shap\n",
        "#!pip install eli5\n",
        "#!pip install tf-nightly\n",
        "#!pip install -U scikit-learn==1.2.0\n",
        "#!pip install catboost\n",
        "#!pip install haversine\n",
        "!pip install pytorch-forecasting\n",
        "!pip install umap-learn\n",
        "#!pip install reverse_geocoder\n",
        "#!pip install --upgrade protobuf\n",
        "!pip install colorama\n",
        "!pip install imbalanced-learn\n",
        "!pip install optuna\n",
        "!pip install optuna-integration\n",
        "#!pip install pygam\n",
        "!pip install keras-tuner --upgrade\n",
        "#!pip install pycaret\n",
        "#!pip install lightning==2.0.1\n",
        "!pip install keras-nlp\n",
        "!pip install MiniSom"
      ]
    },
    {
      "cell_type": "markdown",
      "metadata": {
        "id": "-aEn1w28Dxbh"
      },
      "source": [
        "### **1.2 Packages**"
      ]
    },
    {
      "cell_type": "code",
      "execution_count": 2,
      "metadata": {
        "id": "g1E3-JQp-f4g"
      },
      "outputs": [],
      "source": [
        "#from pytorch_forecasting import Baseline, TemporalFusionTransformer, TimeSeriesDataSet\n",
        "#from pytorch_forecasting.data import GroupNormalizer\n",
        "#from pytorch_forecasting.metrics import SMAPE, PoissonLoss, QuantileLoss\n",
        "#from pytorch_forecasting.models.temporal_fusion_transformer.tuning import optimize_hyperparameters\n",
        "\n",
        "#import pytorch_lightning as pl\n",
        "#from pytorch_lightning.callbacks import EarlyStopping, LearningRateMonitor\n",
        "#from pytorch_lightning.loggers import TensorBoardLogger\n",
        "#import torch"
      ]
    },
    {
      "cell_type": "code",
      "execution_count": 3,
      "metadata": {
        "colab": {
          "base_uri": "https://localhost:8080/",
          "height": 86
        },
        "id": "remwXrYBDxbh",
        "outputId": "1dbdfbb8-96e8-4109-a152-92094c178135"
      },
      "outputs": [
        {
          "output_type": "stream",
          "name": "stdout",
          "text": [
            "Importing started...\n",
            "Using TensorFlow backend\n",
            "Done, All the required modules are imported. Time elapsed: 9.894774675369263 sec\n"
          ]
        },
        {
          "output_type": "display_data",
          "data": {
            "text/plain": [
              "<Figure size 640x480 with 0 Axes>"
            ]
          },
          "metadata": {}
        }
      ],
      "source": [
        "#importing modules\n",
        "\n",
        "import warnings\n",
        "warnings.filterwarnings('ignore')\n",
        "import time\n",
        "t = time.time()\n",
        "\n",
        "print('Importing started...')\n",
        "\n",
        "# basic moduele\n",
        "import os\n",
        "import numpy as np\n",
        "import pandas as pd\n",
        "import re\n",
        "#from scipy import stats\n",
        "from random import randint\n",
        "import random\n",
        "import math\n",
        "import os\n",
        "import gc\n",
        "import pickle\n",
        "from glob import glob\n",
        "from IPython import display as ipd\n",
        "from tqdm import tqdm\n",
        "from datetime import datetime\n",
        "from joblib import dump, load\n",
        "import sklearn as sk\n",
        "from imblearn.over_sampling import SMOTE, RandomOverSampler\n",
        "from functools import partial\n",
        "import itertools\n",
        "import joblib\n",
        "from itertools import combinations\n",
        "import IPython\n",
        "import statsmodels.api as sm\n",
        "import IPython.display\n",
        "\n",
        "# visualization moduels\n",
        "import matplotlib.pyplot as plt\n",
        "import matplotlib as mpl\n",
        "import matplotlib.gridspec as gridspec\n",
        "import matplotlib.patches as mpatches\n",
        "from matplotlib_venn import venn2_unweighted\n",
        "import seaborn as sns\n",
        "import missingno as msno\n",
        "import imblearn\n",
        "import scipy.stats as stats\n",
        "\n",
        "\n",
        "# Palette Setup\n",
        "colors = ['#FB5B68','#FFEB48','#2676A1','#FFBDB0',]\n",
        "colormap_0 = mpl.colors.LinearSegmentedColormap.from_list(\"\",colors)\n",
        "palette_1 = sns.color_palette(\"coolwarm\", as_cmap=True)\n",
        "palette_2 = sns.color_palette(\"YlOrBr\", as_cmap=True)\n",
        "palette_3 = sns.light_palette(\"red\", as_cmap=True)\n",
        "palette_4 = sns.color_palette(\"viridis\", as_cmap=True)\n",
        "palette_5 = sns.color_palette(\"rocket\", as_cmap=True)\n",
        "palette_6 = sns.color_palette(\"GnBu\", as_cmap=True)\n",
        "palette_7 = sns.color_palette(\"tab20c\", as_cmap=False)\n",
        "palette_8 = sns.color_palette(\"Set2\", as_cmap=False)\n",
        "\n",
        "palette_custom = ['#fbb4ae','#b3cde3','#ccebc5','#decbe4','#fed9a6','#ffffcc','#e5d8bd','#fddaec','#f2f2f2']\n",
        "palette_9 = sns.color_palette(palette_custom, as_cmap=False)\n",
        "\n",
        "sns.set_style(\"whitegrid\",{\"grid.linestyle\":\"--\", 'grid.linewidth':0.2, 'grid.alpha':0.5})\n",
        "#sns.set_theme(style=\"ticks\", context=\"notebook\")\n",
        "sns.despine(left=True, bottom=True, top=False, right=False)\n",
        "\n",
        "mpl.rcParams['axes.spines.left'] = True\n",
        "mpl.rcParams['axes.spines.right'] = False\n",
        "mpl.rcParams['axes.spines.top'] = False\n",
        "mpl.rcParams['axes.spines.bottom'] = True\n",
        "\n",
        "# Style Import\n",
        "from colorama import Style, Fore\n",
        "red = Style.BRIGHT + Fore.RED\n",
        "blu = Style.BRIGHT + Fore.BLUE\n",
        "mgt = Style.BRIGHT + Fore.MAGENTA\n",
        "gld = Style.BRIGHT + Fore.YELLOW\n",
        "res = Style.RESET_ALL\n",
        "\n",
        "# preprocessing modules\n",
        "from sklearn.model_selection import (train_test_split,\n",
        "                                     KFold,\n",
        "                                     StratifiedKFold,\n",
        "                                     cross_val_score,\n",
        "                                     GroupKFold,\n",
        "                                     GridSearchCV,\n",
        "                                     RepeatedStratifiedKFold)\n",
        "\n",
        "from sklearn.preprocessing import (LabelEncoder,\n",
        "                                   StandardScaler,\n",
        "                                   MinMaxScaler,\n",
        "                                   OrdinalEncoder,\n",
        "                                   RobustScaler,\n",
        "                                   PowerTransformer,\n",
        "                                   OneHotEncoder,\n",
        "                                   LabelEncoder,\n",
        "                                   OrdinalEncoder,\n",
        "                                   PolynomialFeatures)\n",
        "\n",
        "from sklearn.decomposition import PCA\n",
        "from sklearn.compose import ColumnTransformer\n",
        "\n",
        "from sklearn.feature_selection import SelectFromModel\n",
        "from sklearn.preprocessing import FunctionTransformer\n",
        "\n",
        "\n",
        "# metrics\n",
        "from sklearn.metrics import (mean_squared_error,\n",
        "                             r2_score,\n",
        "                             mean_absolute_error,\n",
        "                             mean_absolute_percentage_error,\n",
        "                             classification_report,\n",
        "                             confusion_matrix,\n",
        "                             ConfusionMatrixDisplay,\n",
        "                             multilabel_confusion_matrix,\n",
        "                             accuracy_score,\n",
        "                             roc_auc_score,\n",
        "                             auc,\n",
        "                             roc_curve,\n",
        "                             log_loss)\n",
        "\n",
        "\n",
        "# modeling algos\n",
        "from sklearn.linear_model import (LogisticRegression,\n",
        "                                  Lasso,\n",
        "                                  ridge_regression,\n",
        "                                  LinearRegression,\n",
        "                                  Ridge,\n",
        "                                  RidgeCV,\n",
        "                                  ElasticNet,\n",
        "                                  BayesianRidge,\n",
        "                                  TweedieRegressor,\n",
        "                                  ARDRegression,\n",
        "                                  PoissonRegressor,\n",
        "                                  GammaRegressor)\n",
        "\n",
        "from sklearn.neighbors import KNeighborsRegressor\n",
        "\n",
        "from sklearn.tree import DecisionTreeRegressor\n",
        "from sklearn.isotonic import IsotonicRegression\n",
        "\n",
        "from sklearn.ensemble import (AdaBoostRegressor,\n",
        "                              RandomForestRegressor,\n",
        "                              RandomForestClassifier,\n",
        "                              VotingRegressor,\n",
        "                              GradientBoostingRegressor,\n",
        "                              StackingRegressor,\n",
        "                              HistGradientBoostingClassifier,\n",
        "                              ExtraTreesClassifier)\n",
        "\n",
        "from sklearn.base import BaseEstimator, TransformerMixin\n",
        "\n",
        "# Other Models\n",
        "#from pygam import LogisticGAM, s, te\n",
        "import xgboost as xgb\n",
        "from xgboost import XGBRegressor, XGBClassifier\n",
        "import lightgbm as lgb\n",
        "from lightgbm import (LGBMRegressor,\n",
        "                      LGBMClassifier,\n",
        "                      early_stopping,\n",
        "                      record_evaluation,\n",
        "                      log_evaluation)\n",
        "\n",
        "#import catboost as cat\n",
        "#from catboost import CatBoost, CatBoostRegressor\n",
        "#from catboost import CatBoostClassifier\n",
        "\n",
        "#from catboost.utils import get_roc_curve\n",
        "\n",
        "from lightgbm import early_stopping\n",
        "# check installed version\n",
        "#import pycaret\n",
        "warnings.filterwarnings(\"ignore\")\n",
        "from minisom import MiniSom\n",
        "\n",
        "from sklearn.base import clone ## sklearn base models for stacked ensemble model\n",
        "from sklearn.calibration import CalibratedClassifierCV, CalibrationDisplay\n",
        "\n",
        "#Interpretiability of the model\n",
        "#import shap\n",
        "#import eli5\n",
        "#from eli5.sklearn import PermutationImportance\n",
        "\n",
        "\n",
        "## miss\n",
        "from sklearn.pipeline import (make_pipeline,\n",
        "                              Pipeline)\n",
        "\n",
        "\n",
        "import tensorflow as tf\n",
        "from tensorflow import keras\n",
        "from tensorflow.keras import layers\n",
        "import tensorflow.keras.backend as K\n",
        "import tensorflow_addons as tfa\n",
        "from keras.utils import FeatureSpace\n",
        "import keras_nlp\n",
        "\n",
        "# Import libraries for Hypertuning\n",
        "import kerastuner as kt\n",
        "from kerastuner.tuners import RandomSearch, GridSearch, BayesianOptimization\n",
        "# Model Tuning tools:\n",
        "import optuna\n",
        "from optuna.integration import TFKerasPruningCallback\n",
        "from optuna.trial import TrialState\n",
        "from optuna.visualization import plot_intermediate_values\n",
        "from optuna.visualization import plot_optimization_history\n",
        "from optuna.visualization import plot_param_importances\n",
        "from optuna.visualization import plot_contour\n",
        "%matplotlib inline\n",
        "SEED = 1984\n",
        "N_SPLITS = 10\n",
        "\n",
        "print('Done, All the required modules are imported. Time elapsed: {} sec'.format(time.time()-t))"
      ]
    },
    {
      "cell_type": "code",
      "execution_count": 4,
      "metadata": {
        "colab": {
          "base_uri": "https://localhost:8080/"
        },
        "id": "xYY4YrwbZES7",
        "outputId": "d57802b2-8624-4db8-fbf2-ad3eead60e18"
      },
      "outputs": [
        {
          "output_type": "stream",
          "name": "stdout",
          "text": [
            "CHECK VERSIONS:\n",
            "sns: 0.12.2\n",
            "mpl: 3.7.1\n",
            "tensorflow: 2.14.0\n",
            "pandas: 1.5.3\n",
            "numpy: 1.23.5\n",
            "scikit-learn: 1.2.2\n",
            "statsmodels: 0.14.0\n",
            "missingno: 0.5.2\n",
            "Inbalance_Learning: 0.10.1\n",
            "XGBoost: 2.0.1\n"
          ]
        }
      ],
      "source": [
        "# Check Versions:\n",
        "print(\"CHECK VERSIONS:\")\n",
        "print(f\"sns: {sns.__version__}\")\n",
        "print(f\"mpl: {mpl.__version__}\")\n",
        "print(f\"tensorflow: {tf.__version__}\")\n",
        "print(f\"pandas: {pd.__version__}\")\n",
        "print(f\"numpy: {np.__version__}\")\n",
        "print(f\"scikit-learn: {sk.__version__}\")\n",
        "print(f\"statsmodels: {sm.__version__}\")\n",
        "print(f\"missingno: {msno.__version__}\")\n",
        "#print(f\"TF-addon: {tfa.__version__}\")\n",
        "print(f\"Inbalance_Learning: {imblearn.__version__}\")\n",
        "print(f\"XGBoost: {xgb.__version__}\")\n",
        "#print(f\"CatBoost: {cat.__version__}\")\n",
        "#print(f\"PyCaret: {pycaret.__version__}\")"
      ]
    },
    {
      "cell_type": "markdown",
      "metadata": {
        "id": "l9qHJWiRoFwz"
      },
      "source": [
        "### **1.3 Utility Functions**"
      ]
    },
    {
      "cell_type": "code",
      "execution_count": 5,
      "metadata": {
        "colab": {
          "base_uri": "https://localhost:8080/"
        },
        "id": "o1jVRmHh5wty",
        "outputId": "306b8d2c-4aba-4052-98bf-e4db3325ce8f"
      },
      "outputs": [
        {
          "output_type": "stream",
          "name": "stdout",
          "text": [
            "CPU times: user 3 µs, sys: 0 ns, total: 3 µs\n",
            "Wall time: 6.68 µs\n"
          ]
        }
      ],
      "source": [
        "def plot_data(a_,b_,df_):\n",
        "  fig, axs = plt.subplots(1,3,figsize=(14,4))\n",
        "  df=df_.copy()\n",
        "  a=a_\n",
        "  b=b_\n",
        "  axs[0].plot(df[a])\n",
        "  axs[0].set_title(a,fontsize=10)\n",
        "  axs[1].plot(df[b])\n",
        "  axs[1].set_title(b,fontsize=10)\n",
        "  axs[2].scatter(df[\"target\"],(df[a].div(df[b]))**2)\n",
        "  axs[2].set_title(\"Scatter {} vs {}\".format(a,b),fontsize=10);\n",
        "  plt.show()\n",
        "\n",
        "def find_parameters(df):\n",
        "\n",
        "  X_ = df[(df[\"far_price\"]>=0.5)|(df[\"far_price\"]<=1.5)][\"near_price\"].values.reshape(-1,1)\n",
        "  y_ = df[(df[\"far_price\"]>=0.5)|(df[\"far_price\"]<=1.5)][\"far_price\"].values.reshape(-1,1)\n",
        "  print(X_.shape,y_.shape)\n",
        "  lr = LinearRegression()\n",
        "\n",
        "  lr.fit(X=X_,y=y_)\n",
        "  print(\"Coeff: {}\\nIntercept: {}\".format(lr.coef_[0][0], lr.intercept_[0]))\n",
        "\n",
        "  return lr.intercept_[0], lr.coef_[0][0]\n",
        "\n",
        "def replace_farprice(df_, intercept, beta):\n",
        "  df  = df_.copy()\n",
        "  arr_0 = df[(df[\"far_price\"]>1.5)|(df[\"far_price\"]<0.5)][\"far_price\"].values\n",
        "  arr_1 = df[(df[\"far_price\"]>1.5)|(df[\"far_price\"]<0.5)][\"near_price\"].values\n",
        "\n",
        "  arr_1 = intercept + beta*arr_1\n",
        "\n",
        "  df[\"far_price\"].replace(arr_0, arr_1, inplace=True)\n",
        "\n",
        "  arr_2_ind = df[(df[\"far_price\"].isna()==True)&(df[\"near_price\"].isna()==False)].index\n",
        "\n",
        "  arr_2 = intercept + beta*df.loc[arr_2_ind,\"near_price\"]\n",
        "\n",
        "  df.loc[arr_2_ind,\"far_price\"] = arr_2\n",
        "\n",
        "  df[\"check_near_far\"] = df[\"near_price\"].div(df[\"far_price\"])\n",
        "\n",
        "  return df\n",
        "\n",
        "def train_col_def(df):\n",
        "\n",
        "  train_col = list(df.columns)\n",
        "  aggregator = [\"stock_id\",\"time_id\",\"date_id\"]\n",
        "  for ag in aggregator:\n",
        "    train_col.remove(ag)\n",
        "\n",
        "  return train_col\n",
        "\n",
        "def fill_nan_df(df):\n",
        "\n",
        "  df_ = df.copy()\n",
        "  print(\"Dataset Original Shape: {}\".format(df_.shape))\n",
        "  # Replace extreme Values in near and far prices:\n",
        "  #alpha, beta = find_parameters(df_)\n",
        "  beta= 2.2491285714921436\n",
        "  alpha= -1.2465923656098574\n",
        "\n",
        "  df_ = replace_farprice(df_, intercept=alpha, beta=beta)\n",
        "\n",
        "#  values = {\"far_price\": df_.loc[:,\"far_price\"].median(), \"near_price\": df_.loc[:,\"near_price\"].median()}\n",
        "#  df_.fillna(value=values,inplace=True)\n",
        "\n",
        "  # Replace NaN for Far+price and Near_Price with reference Price values\n",
        "  df_['far_price'] = df_['far_price'].fillna(df_['reference_price'])\n",
        "  df_['near_price'] = df_['near_price'].fillna(df_['reference_price'])\n",
        "\n",
        "  df_['far_price'] = df_['far_price'].interpolate(limit=1, limit_direction=\"forward\")\n",
        "  df_['near_price'] = df_['near_price'].interpolate(limit=1, limit_direction=\"forward\")\n",
        "\n",
        "  df_[\"check_near_far\"] = df_[\"near_price\"].div(df_[\"far_price\"])\n",
        "\n",
        "\n",
        "  list_cols_fill = [\"imbalance_size\",\"imbalance_buy_sell_flag\",\"wap\",\"reference_price\",\"matched_size\",\"bid_price\",\"ask_price\",\"check_near_far\"]\n",
        "\n",
        "  for data in list_cols_fill:\n",
        "      train_col = train_col_def(df_)\n",
        "      df_reshaped = df_.groupby([\"stock_id\",\"time_id\",\"date_id\"])[train_col].agg(\"first\").unstack(\"stock_id\")\n",
        "      df_reshaped.loc[:,data].fillna(method=\"ffill\",axis=0,inplace=True)\n",
        "      df_ = df_reshaped.stack(level=1).reset_index().dropna(axis=0, thresh=11)\n",
        "\n",
        "  # Add features for company size based on volumes:\n",
        "  df_ = comp_size(df_)\n",
        "\n",
        "  ##### add features transformer here #####\n",
        "  feature_list = [\"ask_size\",\"bid_size\",\"imbalance_size\",\"matched_size\"]\n",
        "  transformer = FunctionTransformer(lambda x: np.log(x + 1))\n",
        "  df_[feature_list] = transformer.transform(df_[feature_list])\n",
        "\n",
        "  # Create additional Features: \"imbalance_size_sign\"\n",
        "  df_[\"imbalance_size_sign\"] = df_[\"imbalance_size\"].multiply(df_[\"imbalance_buy_sell_flag\"])\n",
        "  # Create additional Features:\n",
        "  df_[\"imbalance_size_sign_delta\"] = 0\n",
        "  train_col = train_col_def(df_)\n",
        "  df_reshaped = df_.groupby([\"stock_id\",\"time_id\",\"date_id\"])[train_col].agg(\"first\").unstack(\"stock_id\")\n",
        "  df_reshaped[\"imbalance_size_sign_delta\"] = df_reshaped[\"imbalance_size_sign\"].diff()\n",
        "  df_reshaped[\"imbalance_size_sign_delta\"].fillna(method=\"ffill\",inplace=True)\n",
        "  df_reshaped[\"imbalance_size_sign_delta\"][df_reshaped[(\"seconds_in_bucket\",0)]==0] = 0\n",
        "  #Reshape in the Original Format:\n",
        "  new_df_ = df_reshaped.stack(level=1).reset_index().dropna(axis=0, thresh=10)\n",
        "  new_df_.reset_index(inplace=True, drop=True)\n",
        "  print(\"Dataset Final Shape: {}\".format(new_df_.shape))\n",
        "\n",
        "  return new_df_\n",
        "\n",
        "def get_rsi(close, lookback):\n",
        "    ret = close.diff()\n",
        "\n",
        "    up = ret.apply(lambda x: x if x > 0 else 0)\n",
        "    down = ret.apply(lambda x: -x if x < 0 else 0)\n",
        "\n",
        "    up_series = pd.Series(up)\n",
        "    down_series = pd.Series(down).abs()\n",
        "    up_ewm = up_series.ewm(com = lookback - 1, adjust = False).mean()\n",
        "    down_ewm = down_series.ewm(com = lookback - 1, adjust = False).mean()\n",
        "    rs = up_ewm/down_ewm\n",
        "    rsi = 100 - (100 / (1 + rs))\n",
        "    rsi_df = pd.DataFrame(rsi).rename(columns = {0:'rsi'}).set_index(close.index)\n",
        "    #rsi_df = rsi_df.dropna()\n",
        "    return rsi_df#[3:]\n",
        "\n",
        "### CREATE NEW FEATURES ###\n",
        "def create_new_features(df):\n",
        "  df_=df.copy()\n",
        "  train_col = train_col_def(df_)\n",
        "  try:\n",
        "    train_col.remove(\"dispersion\")\n",
        "  except:\n",
        "    pass\n",
        "  df_resh_ = df_.groupby([\"stock_id\",\"time_id\",\"date_id\"])[train_col].agg(\"first\").unstack(\"stock_id\")\n",
        "  # Add return dispersion\n",
        "  df_resh_[\"dispersion\"] = df_resh_[\"wap\"].std(axis=1)\n",
        "  daily_dispersion=df_resh_.groupby([\"time_id\"])[\"dispersion\"].agg(\"mean\")\n",
        "  df_resh_.drop(\"dispersion\",axis=1,inplace=True)\n",
        "  # Add Equally Weighted Index\n",
        "  df_resh_[\"eq_wgt_index\"] = df_resh_[\"wap\"].mean(axis=1)\n",
        "  daily_eq_wgt=df_resh_.groupby([\"time_id\"])[\"eq_wgt_index\"].agg(\"mean\")\n",
        "  df_resh_.drop(\"eq_wgt_index\",axis=1,inplace=True)\n",
        "\n",
        "  # Reshape and add new features\n",
        "  new_df = df_resh_.stack(level=1).reset_index(drop=False).dropna(axis=0, thresh=10)\n",
        "  new_df = pd.merge(left=new_df, right=daily_dispersion, left_on=\"time_id\", right_on=\"time_id\")\n",
        "  new_df = pd.merge(left=new_df, right=daily_eq_wgt, left_on=\"time_id\", right_on=\"time_id\")\n",
        "\n",
        "  # Add bid-ask spread\n",
        "  new_df[\"bid_ask_spread\"] = new_df[\"ask_price\"]-new_df[\"bid_price\"]\n",
        "\n",
        "  # Add bid-ask_size_spread\n",
        "  new_df[\"bid_ask_size_spread\"] = new_df[\"ask_size\"]-new_df[\"bid_size\"]\n",
        "\n",
        "  train_col = train_col_def(new_df)\n",
        "  df_resh_ = new_df.groupby([\"stock_id\",\"time_id\",\"date_id\"])[train_col].agg(\"first\").unstack(\"stock_id\")\n",
        "\n",
        "  #df_resh_[\"dispersion\"] = df_resh_[\"dispersion\"].shift(55)\n",
        "  df_resh_[\"dispersion\"].fillna(df_resh_[\"dispersion\"].median(),inplace=True)\n",
        "\n",
        "  #reshape to original shape\n",
        "  new_df = df_resh_.stack(level=1).reset_index(drop=False).dropna(axis=0, thresh=10)\n",
        "\n",
        "  return df_resh_ , new_df\n",
        "\n",
        "%time\n",
        "def add_level_prices(df_resh_exp,df_exp):\n",
        "\n",
        "    test_ts = df_resh_exp.copy()\n",
        "    to_merge = test_ts.loc[:,[\"wap\"]]\n",
        "    to_merge_price = test_ts.loc[:,[\"wap\"]]\n",
        "\n",
        "    #display(to_merge_price.head(3))\n",
        "\n",
        "    to_merge.rename({\"wap\":\"rsi\"},axis=1,inplace=True)\n",
        "    to_merge_price.rename({\"wap\":\"cum_price\"},axis=1,inplace=True)\n",
        "\n",
        "    #display(to_merge_price.head(3))\n",
        "\n",
        "    to_merge.fillna(0,inplace=True)\n",
        "    to_merge_price.fillna(1,inplace=True)\n",
        "\n",
        "    #display(to_merge_price.head(3))\n",
        "\n",
        "    to_merge_price = to_merge_price.cumprod()\n",
        "\n",
        "    # Moving Average Features:\n",
        "    to_merge_ma = to_merge_price.rolling(20,min_periods=1).mean()\n",
        "    to_merge_ma = to_merge_price.div(to_merge_ma).subtract(1)\n",
        "    to_merge_ma.fillna(0, inplace=True)\n",
        "    to_merge_ma.rename({\"cum_price\":\"mov_average_st\"},axis=1,inplace=True)\n",
        "\n",
        "    to_merge_ma_lt = to_merge_price.rolling(60,min_periods=1).mean()\n",
        "    to_merge_ma_lt = to_merge_price.div(to_merge_ma_lt).subtract(1)\n",
        "    to_merge_ma_lt.fillna(0, inplace=True)\n",
        "    to_merge_ma_lt.rename({\"cum_price\":\"mov_average_lt\"},axis=1,inplace=True)\n",
        "\n",
        "    #display(to_merge_price.head(3))\n",
        "\n",
        "    for i_ in tqdm(range(200)):\n",
        "      rsi = get_rsi(to_merge_price.loc[:,(\"cum_price\",i_)], 14)\n",
        "      to_merge.loc[:,(\"rsi\",i_)] = rsi\n",
        "      gc.collect()\n",
        "\n",
        "    to_merge.fillna(method=\"ffill\",inplace=True)\n",
        "    to_merge.fillna(method=\"bfill\",inplace=True)\n",
        "\n",
        "    mask = test_ts.loc[:,[\"wap\"]].isna()==False\n",
        "    mask.astype(\"float\").replace({0:np.nan},inplace=True)\n",
        "    to_merge = to_merge*mask.values\n",
        "\n",
        "    # Add new series to old df:\n",
        "    test_ts = pd.merge(left=test_ts, right=to_merge, left_on=\"time_id\", right_on=\"time_id\")\n",
        "    test_ts = pd.merge(left=test_ts, right=to_merge_price, left_on=\"time_id\", right_on=\"time_id\")\n",
        "    test_ts = pd.merge(left=test_ts, right=to_merge_ma, left_on=\"time_id\", right_on=\"time_id\")\n",
        "    test_ts = pd.merge(left=test_ts, right=to_merge_ma_lt, left_on=\"time_id\", right_on=\"time_id\")\n",
        "    gc.collect()\n",
        "\n",
        "    #reshape to original shape\n",
        "    test_ts = test_ts.stack(level=1).reset_index(drop=False).dropna(axis=0, thresh=10)\n",
        "    #new_long_df = pd.merge(left=new_long_df,right=df_exp[[\"date_id\",\"time_id\"]],left_on=\"time_id\", right_on=\"time_id\")\n",
        "    test_ts[\"date_id\"] = df_exp[\"date_id\"]\n",
        "    gc.collect()\n",
        "\n",
        "    return test_ts\n",
        "\n",
        "##### New Functions ####\n",
        "\n",
        "def add_volume_cluster(df_input):\n",
        "  current_directory = os.getcwd()\n",
        "\n",
        "  os.chdir(\"/content/drive/MyDrive/kaggle/Optiver_comp_2023/Models/som_model\")\n",
        "\n",
        "  with open('replace_cluster_dict.pickle', 'rb') as handle:\n",
        "      replace_cluster_dict = pickle.load(handle)\n",
        "\n",
        "  with open('replace_correlationcluster_dict.pickle', 'rb') as handle:\n",
        "      replace_correlationcluster_dict = pickle.load(handle)\n",
        "\n",
        "  os.chdir(current_directory)\n",
        "\n",
        "\n",
        "  df = df_input.copy()\n",
        "\n",
        "  df[\"vol_cluster\"] = df[\"stock_id\"]\n",
        "  df[\"vol_cluster\"].replace(replace_cluster_dict, inplace=True)\n",
        "\n",
        "  df[\"corr_cluster\"] = df[\"stock_id\"]\n",
        "  df[\"corr_cluster\"].replace(replace_correlationcluster_dict, inplace=True)\n",
        "\n",
        "  return df\n",
        "\n",
        "def add_relative_perf(df_input):\n",
        "  df = df_input.copy()\n",
        "\n",
        "  df[\"rel_perf\"] = (df[\"wap\"]).div(df[\"eq_wgt_index\"])\n",
        "\n",
        "  return df\n",
        "\n",
        "def comp_size(train):\n",
        "\n",
        "  volumes_df = train.groupby([\"stock_id\",\"date_id\"])[[\"matched_size\"]].agg(\"sum\").unstack([\"stock_id\"])\n",
        "  mean_vols = volumes_df.mean(axis=0)\n",
        "\n",
        "  df=mean_vols.copy()\n",
        "  size={}\n",
        "\n",
        "  for i_ in tqdm(df[\"matched_size\"].index):\n",
        "    if df[\"matched_size\"][i_]>=1_000_000_000:\n",
        "      size[i_] = 2\n",
        "    elif df[\"matched_size\"][i_]<1_000_000_000 and df[\"matched_size\"][i_]>500_000_000:\n",
        "      size[i_] = 1\n",
        "    else:\n",
        "      size[i_] = 0\n",
        "\n",
        "  train[\"vol_bucket\"]=train[\"stock_id\"].replace(size)\n",
        "\n",
        "  return train\n",
        "\n",
        "def imbalance_features(df_):\n",
        "\n",
        "  df=df_.copy()\n",
        "\n",
        "  # Volume Imbalaces:\n",
        "  df[\"imbalance_buy_sell_flag\"] = df[\"imbalance_buy_sell_flag\"].replace({-1:0,0:1,1:2})\n",
        "  df['imbalance1'] = (df['bid_size'] - df['ask_size']) / (df['bid_size'] + df['ask_size'])\n",
        "  df['imbalance2'] = (df['imbalance_size'] - df['matched_size']) / (df['matched_size'] + df['imbalance_size'])+1\n",
        "  df['imbalance_ratio'] = df['imbalance_size'] / df['matched_size']\n",
        "  # Vol_prices imbalances:\n",
        "  df[\"volume\"] = df['bid_size'] + df['ask_size']\n",
        "  df[\"ask_priceXsize\"] = df[\"ask_price\"] * df[\"ask_size\"]\n",
        "  df[\"bid_priceXsize\"] = df[\"bid_price\"] * df[\"bid_size\"]\n",
        "  df[\"bidask_priceXsize\"] = df[\"bid_priceXsize\"].div(df[\"ask_priceXsize\"])\n",
        "  # Prices imbalances:\n",
        "  prices = ['reference_price','far_price', 'near_price', 'ask_price', 'bid_price', 'wap']\n",
        "\n",
        "  df.drop(labels=\"bid_ask_spread\", inplace=True, axis=1)\n",
        "\n",
        "  for i, price_a in enumerate(prices):\n",
        "      for j, price_b in enumerate(prices):\n",
        "          if i > j:\n",
        "              df[f'{price_a}-{price_b}'] = (df[price_a] - df[price_b]).astype(np.float32)\n",
        "              df[f'{price_a}*{price_b}'] = (df[price_a] * df[price_b]).astype(np.float32)\n",
        "              imbalance_column_name = f'imbalance_{price_a}_{price_b}'\n",
        "              df[imbalance_column_name] = (df[price_a] - df[price_b]) / (df[price_a] + df[price_b])\n",
        "\n",
        "  df.drop(labels=[\"wap-ask_price\",\"wap-reference_price\",\"imbalance_wap_bid_price\",\"ask_price*reference_price\",\n",
        "                  \"bid_price*reference_price\",\"bid_price*ask_price\",\"wap*reference_price\",\"wap*ask_price\",\n",
        "                  \"wap*bid_price\",\"bid_price-reference_price\",\"imbalance_ask_price_reference_price\",\"bid_priceXsize\",\n",
        "                  \"far_price*reference_price\",\"ask_price*far_price\",\"bid_price*far_price\",\"wap*far_price\",\"imbalance_near_price_reference_price\",\n",
        "                  \"wap-near_price\",\"near_price-reference_price\",\"imbalance_bid_price_near_price\",\"imbalance_ask_price_near_price\",\"bid_price-near_price\",\"ask_price-near_price\",\n",
        "                  \"bid_price*near_price\",\"ask_price*near_price\",\"near_price*reference_price\",\"ask_price-far_price\",\"bid_price-far_price\",\"imbalance_ask_price_far_price\",\n",
        "                  \"wap-far_price\",\"imbalance_bid_price_far_price\",\"far_price-reference_price\",\"imbalance_far_price_reference_price\",\"near_price*far_price\",\"imbalance_wap_far_price\",\n",
        "                  \"imbalance_size\",\"bid_price-ask_price\"],\n",
        "          inplace=True,\n",
        "          axis=1)\n",
        "\n",
        "  ##### transformadditional features #####\n",
        "\n",
        "  #[\"dispersion\",\"bidask_priceXsize\",\"wap-bid_price\",\"imbalance_wap_ask_price\",\"imbalance_bid_price_ask_price\"]\n",
        "\n",
        "  df[\"dispersion\"] = np.log(df[\"dispersion\"]*1000+1.0)\n",
        "  df[\"bidask_priceXsize\"] = np.log(df[\"bidask_priceXsize\"])\n",
        "\n",
        "  transformer = FunctionTransformer(lambda x: np.power( x, 0.25))\n",
        "  df[\"wap-bid_price\"] = transformer.transform(df[\"wap-bid_price\"])\n",
        "\n",
        "  transformer = FunctionTransformer(lambda x: np.log(np.reciprocal(0.000001-x)))\n",
        "  df[\"imbalance_wap_ask_price\"] = transformer.transform(df[\"imbalance_wap_ask_price\"])\n",
        "\n",
        "  transformer = FunctionTransformer(lambda x: np.log(np.reciprocal(-x)))\n",
        "  df[\"imbalance_bid_price_ask_price\"] = transformer.transform(df[\"imbalance_bid_price_ask_price\"])\n",
        "\n",
        "  # Add squared values for ask_size and bid_size\n",
        "  #volume_feature = ['ask_size','bid_size']\n",
        "  #df_volume_ = df[volume_feature].copy()\n",
        "\n",
        "  #current_directory = os.getcwd()\n",
        "\n",
        "  #os.chdir(\"/content/drive/MyDrive/kaggle/Optiver_comp_2023/Models/som_model\")\n",
        "\n",
        "  #with open('bid_ask_scaler.pickle', 'rb') as handle:\n",
        "  #    scaler = pickle.load(handle)\n",
        "\n",
        "  #os.chdir(current_directory)\n",
        "\n",
        "\n",
        "  #df_volume = scaler.transform(df_volume_)\n",
        "  #df_volume = pd.DataFrame(data=df_volume, columns=['ask_size_sq','bid_size_sq'])\n",
        "\n",
        "  #df_volume = df_volume**2\n",
        "  #df_volume = np.log(df_volume)\n",
        "\n",
        "  #df = pd.concat([df,df_volume], axis=1)\n",
        "\n",
        "  return df\n",
        "\n",
        "def agg_features_creation(df):\n",
        "  train_ext = add_volume_cluster(df)\n",
        "  #train_ext = comp_size(train_ext)\n",
        "  train_ext = imbalance_features(train_ext)\n",
        "  return train_ext\n",
        "\n",
        "def add_price_lags(df_,n_lags=20):\n",
        "  df = df_.copy()\n",
        "  cols=[\"date_id\",\"time_id\",\"stock_id\"]\n",
        "  cols_rsi=[\"date_id\",\"time_id\",\"stock_id\"]\n",
        "  cum_price_for_lags = df.groupby([\"date_id\",\"time_id\",\"stock_id\"])[[\"cum_price\"]].first().unstack(\"stock_id\")\n",
        "  rsi_for_lags = df.groupby([\"date_id\",\"time_id\",\"stock_id\"])[[\"rsi\"]].first().unstack(\"stock_id\")\n",
        "  all_temp = []\n",
        "  all_temp_rsi = []\n",
        "\n",
        "  gc.collect()\n",
        "\n",
        "  for i in tqdm(range(1,n_lags)):\n",
        "\n",
        "    temp = pd.DataFrame(index=cum_price_for_lags.index,columns=cum_price_for_lags.columns,data=cum_price_for_lags.shift(i).fillna(method=\"bfill\",limit=i).values).rename({\"cum_price\":\"cum_price_dlag{}\".format(i)},axis=1)\n",
        "    all_temp.append(temp)\n",
        "    cols.append(\"cum_price_dlag{}\".format(i))\n",
        "\n",
        "    temp_rsi = pd.DataFrame(index=cum_price_for_lags.index,columns=rsi_for_lags.columns,data=rsi_for_lags.shift(i).fillna(method=\"bfill\",limit=i).values).rename({\"rsi\":\"rsi_dlag{}\".format(i)},axis=1)\n",
        "    all_temp_rsi.append(temp_rsi)\n",
        "    cols_rsi.append(\"rsi_dlag{}\".format(i))\n",
        "    gc.collect()\n",
        "\n",
        "  flag_merged = pd.concat(all_temp, axis=1)\n",
        "  flag_merged = flag_merged.stack(level=1).reset_index().dropna(axis=0, thresh=10)\n",
        "  flag_merged = flag_merged.loc[:,cols]\n",
        "  flag_merged = pd.merge(left=df, right=flag_merged, how=\"left\", left_on=[\"date_id\",\t\"time_id\",\t\"stock_id\"], right_on=[\"date_id\",\t\"time_id\",\t\"stock_id\"], )\n",
        "\n",
        "  rsi_merged = pd.concat(all_temp_rsi, axis=1)\n",
        "  rsi_merged = rsi_merged.stack(level=1).reset_index().dropna(axis=0, thresh=10)\n",
        "  rsi_merged = rsi_merged.loc[:,cols_rsi]\n",
        "  rsi_merged = pd.merge(left=flag_merged, right=rsi_merged, how=\"left\", left_on=[\"date_id\",\t\"time_id\",\t\"stock_id\"], right_on=[\"date_id\",\t\"time_id\",\t\"stock_id\"], )\n",
        "\n",
        "  rsi_merged.rename({\"cum_price\":\"cum_price_dlag0\",\"rsi\":\"rsi_dlag0\"}, axis=1,inplace=True)\n",
        "\n",
        "  current_directory = os.getcwd()\n",
        "  # TREE BASED FEATURES\n",
        "  os.chdir(\"/content/drive/MyDrive/kaggle/Optiver_comp_2023/Models/som_model\")\n",
        "  estimator_v0 = joblib.load(\"tree_feature_model_v0.joblib\")\n",
        "  estimator_v1 = joblib.load(\"tree_feature_model_v1.joblib\")\n",
        "  estimator_v2 = joblib.load(\"tree_feature_model_v2.joblib\")\n",
        "  os.chdir(current_directory)\n",
        "\n",
        "  tree_features_v0 = ['imbalance_wap_reference_price', 'imbalance_size_sign_delta', 'rsi_dlag0','bid_ask_size_spread']\n",
        "  tree_features_v1 = ['imbalance_size_sign', 'matched_size', 'ask_size','bid_size','bid_ask_size_spread']\n",
        "  tree_features_v2 = ['mov_average_st', 'mov_average_lt', 'bid_ask_size_spread','imbalance_wap_reference_price','rsi_dlag0']\n",
        "\n",
        "  rsi_merged[\"tree_feat_v0\"] = estimator_v0.predict(rsi_merged[tree_features_v0])\n",
        "  rsi_merged[\"tree_feat_v1\"] = estimator_v1.predict(rsi_merged[tree_features_v1])\n",
        "  rsi_merged[\"tree_feat_v2\"] = estimator_v2.predict(rsi_merged[tree_features_v2])\n",
        "\n",
        "  # NN BASED FEATURES\n",
        "  os.chdir(\"/content/drive/MyDrive/kaggle/Optiver_comp_2023/Models/som_model\")\n",
        "\n",
        "  with open('encoder_scaler.pickle', 'rb') as handle:\n",
        "      enc_scaler = pickle.load(handle)\n",
        "\n",
        "  os.chdir(folders_nn)\n",
        "  model = keras.models.load_model('enc/encoder')\n",
        "  os.chdir(current_directory)\n",
        "\n",
        "  tabular_features = ['ask_price', 'ask_size','bid_ask_size_spread', 'bid_price', 'bid_size', 'check_near_far',\n",
        "       'dispersion', 'eq_wgt_index', 'far_price','imbalance_size_sign', 'imbalance_size_sign_delta', 'matched_size',\n",
        "       'near_price', 'reference_price', 'target', 'wap', 'imbalance1', 'imbalance2', 'imbalance_ratio', 'volume', 'ask_priceXsize',\n",
        "       'bidask_priceXsize', 'near_price-far_price','imbalance_near_price_far_price', 'ask_price-reference_price',\n",
        "       'imbalance_bid_price_reference_price', 'imbalance_bid_price_ask_price','imbalance_wap_reference_price',\n",
        "       'wap*near_price', 'mov_average_lt','mov_average_st', 'imbalance_wap_near_price', 'imbalance_wap_ask_price',\n",
        "       'wap-bid_price', 'tree_feat_v0']\n",
        "\n",
        "  tabular_features.remove(\"target\")\n",
        "  train_encoding = rsi_merged[tabular_features].copy()\n",
        "  train_encoding = enc_scaler.transform(train_encoding)\n",
        "\n",
        "  enc_features = model.predict(train_encoding,batch_size=1024)\n",
        "\n",
        "  enc_df = pd.DataFrame(data=enc_features,columns=[\"enc_0\",\"enc_1\",\"enc_2\"])\n",
        "\n",
        "  rsi_merged[[\"enc_0\",\"enc_1\",\"enc_2\"]]=enc_df\n",
        "\n",
        "  col_right_order = ['time_id', 'stock_id', 'date_id', 'ask_price', 'ask_size', 'bid_ask_size_spread',\n",
        "                      'bid_price', 'bid_size', 'check_near_far', 'dispersion', 'eq_wgt_index', 'far_price', 'imbalance_buy_sell_flag',\n",
        "                      'imbalance_size_sign', 'imbalance_size_sign_delta', 'matched_size',\n",
        "                      'near_price', 'reference_price', 'seconds_in_bucket',\n",
        "                      'target', 'vol_bucket', 'wap', 'vol_cluster', 'corr_cluster',\n",
        "                      'imbalance1', 'imbalance2', 'imbalance_ratio', 'volume',\n",
        "                      'ask_priceXsize', 'bidask_priceXsize', 'near_price-far_price',\n",
        "                      'imbalance_near_price_far_price', 'ask_price-reference_price',\n",
        "                      'imbalance_bid_price_reference_price', 'imbalance_bid_price_ask_price',\n",
        "                      'imbalance_wap_reference_price', 'wap*near_price','mov_average_lt','mov_average_st',\n",
        "                      'imbalance_wap_near_price', 'imbalance_wap_ask_price', 'wap-bid_price', \"enc_0\",\"enc_1\",\"enc_2\", 'tree_feat_v0','tree_feat_v1',\"tree_feat_v2\",\n",
        "                      'cum_price_dlag0','cum_price_dlag1', 'cum_price_dlag2', 'cum_price_dlag3',\n",
        "                      'cum_price_dlag4', 'cum_price_dlag5', 'cum_price_dlag6',\n",
        "                      'cum_price_dlag7', 'cum_price_dlag8', 'cum_price_dlag9',\n",
        "                      'cum_price_dlag10', 'cum_price_dlag11', 'cum_price_dlag12',\n",
        "                      'cum_price_dlag13', 'cum_price_dlag14', 'cum_price_dlag15',\n",
        "                      'cum_price_dlag16', 'cum_price_dlag17', 'cum_price_dlag18',\n",
        "                      'cum_price_dlag19', 'rsi_dlag0', 'rsi_dlag1', 'rsi_dlag2', 'rsi_dlag3', 'rsi_dlag4',\n",
        "                      'rsi_dlag5', 'rsi_dlag6', 'rsi_dlag7', 'rsi_dlag8', 'rsi_dlag9',\n",
        "                      'rsi_dlag10', 'rsi_dlag11', 'rsi_dlag12', 'rsi_dlag13', 'rsi_dlag14',\n",
        "                      'rsi_dlag15', 'rsi_dlag16', 'rsi_dlag17', 'rsi_dlag18', 'rsi_dlag19']\n",
        "\n",
        "  rsi_merged = rsi_merged[col_right_order]\n",
        "\n",
        "\n",
        "  return rsi_merged\n",
        "\n",
        "\n",
        "########################### AGGREGATE ################################\n",
        "def all_features_creation(df_):\n",
        "  df=df_.copy()\n",
        "\n",
        "  df = fill_nan_df(df)\n",
        "  gc.collect()\n",
        "  print(\"Step I: {}\".format(df.shape))\n",
        "  df_resh_exp, df = create_new_features(df)\n",
        "  gc.collect()\n",
        "  print(\"Step II: {}\".format(df.shape))\n",
        "  df = add_level_prices(df_resh_exp,df)\n",
        "  gc.collect()\n",
        "  print(\"Step III: {}\".format(df.shape))\n",
        "  df = agg_features_creation(df)\n",
        "  gc.collect()\n",
        "  print(\"Step IV: {}\".format(df.shape))\n",
        "  df = add_price_lags(df,n_lags=20)\n",
        "  gc.collect()\n",
        "  print(\"Step V: {}\".format(df.shape))\n",
        "\n",
        "  return df\n",
        "\n",
        "#########################################################\n",
        "\n",
        "def create_train_test(train,test):\n",
        "  train_df = train.copy()\n",
        "  test_df = test.copy()\n",
        "\n",
        "  test_df[\"target\"]=1.0\n",
        "\n",
        "  test_ids = test_df.row_id.unique()\n",
        "  train_ids = train_df.row_id.unique()\n",
        "\n",
        "  join_train_test = pd.concat([train_df, test_df], axis=0, join=\"outer\").drop_duplicates(subset=\"row_id\")\n",
        "  join_train_test.drop(\"row_id\",axis=1,inplace=True)\n",
        "  join_train_test_exp = all_features_creation(join_train_test)\n",
        "\n",
        "  join_train_test_exp[\"row_id\"] = join_train_test_exp[\"date_id\"].astype(str)+\"_\"+join_train_test_exp[\"seconds_in_bucket\"].astype(int).astype(str)+\"_\"+join_train_test_exp[\"stock_id\"].astype(str)\n",
        "  join_train_test[\"row_id\"] = join_train_test[\"date_id\"].astype(str)+\"_\"+join_train_test[\"seconds_in_bucket\"].astype(int).astype(str)+\"_\"+join_train_test[\"stock_id\"].astype(str)\n",
        "\n",
        "  train_df = join_train_test\n",
        "  test_df = join_train_test_exp[join_train_test_exp.row_id.isin(test_ids)].drop(\"target\",axis=1)\n",
        "\n",
        "  return train_df, test_df"
      ]
    },
    {
      "cell_type": "code",
      "source": [
        "def plot_boxplot_and_hist(data, variable):\n",
        "   #figure composed of two matplotlib.Axes objects (ax_box and ax_hist)\n",
        "   f, (ax_box, ax_hist) = plt.subplots( 2, 1, sharex =False, gridspec_kw ={\"height_ratios\": (0.50, 0.85)}, figsize=(8,4))\n",
        "   # assigning a graph to each ax\n",
        "   sns.boxplot( x = data[variable], ax = ax_box)\n",
        "   sns.histplot( data = data, x = variable, ax = ax_hist, bins=40)\n",
        "   # Remove x axis name for the boxplot\n",
        "   ax_box.set( xlabel ='')\n",
        "   ax_box.set_title(variable)\n",
        "   plt.tight_layout()\n",
        "\n",
        "\n",
        "def diagnostic_plots( df, variable):\n",
        "  plt.figure( figsize =(8,3))\n",
        "  plt.subplot( 1, 2, 1)\n",
        "  df[variable].hist( bins = 30)\n",
        "  plt.title( f\" Histogram of {variable}\")\n",
        "  plt.subplot( 1, 2, 2)\n",
        "  stats.probplot( df[ variable], dist =\"norm\", plot = plt)\n",
        "  plt.title( f\" Q-Q plot of {variable}\")\n",
        "  plt.show()\n",
        "  plt.tight_layout()"
      ],
      "metadata": {
        "id": "PP54dcNMfbhc"
      },
      "execution_count": 6,
      "outputs": []
    },
    {
      "cell_type": "markdown",
      "metadata": {
        "id": "STsF4sfaDxbj"
      },
      "source": [
        "### **2.1 Connect Drives**"
      ]
    },
    {
      "cell_type": "markdown",
      "metadata": {
        "id": "0D_HgNN1Dxbj"
      },
      "source": [
        "Verify System:"
      ]
    },
    {
      "cell_type": "code",
      "execution_count": 7,
      "metadata": {
        "colab": {
          "base_uri": "https://localhost:8080/"
        },
        "id": "6nucekKRDxbj",
        "outputId": "876bb1d5-9e90-4e90-e079-2b966f2b6f22"
      },
      "outputs": [
        {
          "output_type": "stream",
          "name": "stdout",
          "text": [
            "/bin/bash: line 1: nvidia-smi: command not found\n"
          ]
        }
      ],
      "source": [
        "gpu_info = !nvidia-smi\n",
        "gpu_info = '\\n'.join(gpu_info)\n",
        "if gpu_info.find('failed') >= 0:\n",
        "  print('Not connected to a GPU')\n",
        "else:\n",
        "  print(gpu_info)"
      ]
    },
    {
      "cell_type": "code",
      "execution_count": 8,
      "metadata": {
        "id": "KUOz47AwSCjv"
      },
      "outputs": [],
      "source": [
        "tf.random.set_seed(0)\n",
        "np.random.seed(0)\n",
        "random.seed(42)\n",
        "\n",
        "SEED = 42\n",
        "def seed_everything(seed=42):\n",
        "    random.seed(seed)\n",
        "    os.environ['PYTHONHASHSEED'] = str(seed)\n",
        "    np.random.seed(seed)\n",
        "    tf.random.set_seed(seed)\n",
        "    tf.compat.v1.set_random_seed(seed)\n",
        "    session_conf = tf.compat.v1.ConfigProto(intra_op_parallelism_threads=1, inter_op_parallelism_threads=1)\n",
        "    sess = tf.compat.v1.Session(graph=tf.compat.v1.get_default_graph(), config=session_conf)\n",
        "    tf.compat.v1.keras.backend.set_session(sess)\n",
        "\n",
        "seed_everything(SEED)"
      ]
    },
    {
      "cell_type": "markdown",
      "metadata": {
        "id": "2xwI9dKRDxbj"
      },
      "source": [
        "Connect to Google Drive:"
      ]
    },
    {
      "cell_type": "code",
      "execution_count": 9,
      "metadata": {
        "id": "XnZHOmpDDxbj"
      },
      "outputs": [],
      "source": [
        "%%capture\n",
        "# Connect to Colab:\n",
        "from google.colab import drive\n",
        "drive.mount('/content/drive')"
      ]
    },
    {
      "cell_type": "code",
      "execution_count": 10,
      "metadata": {
        "colab": {
          "base_uri": "https://localhost:8080/"
        },
        "id": "tcufbAJ7JLTp",
        "outputId": "b61dcfcb-5846-465a-aead-35ea9d5ab552"
      },
      "outputs": [
        {
          "output_type": "stream",
          "name": "stdout",
          "text": [
            "/content/drive/MyDrive/kaggle/Optiver_comp_2023/Data/ already exists\n",
            "/content/drive/MyDrive/kaggle/Optiver_comp_2023/Models already exists\n",
            "/content/drive/MyDrive/kaggle/Optiver_comp_2023/Models/neural_networks/ already exists\n"
          ]
        }
      ],
      "source": [
        "folder_data = \"/content/drive/MyDrive/kaggle/Optiver_comp_2023/Data/\"\n",
        "models_folders = \"/content/drive/MyDrive/kaggle/Optiver_comp_2023/Models\"\n",
        "folders_nn = \"/content/drive/MyDrive/kaggle/Optiver_comp_2023/Models/neural_networks/\"\n",
        "\n",
        "list_directories = [folder_data,models_folders,folders_nn]\n",
        "\n",
        "for path in list_directories:\n",
        "  try:\n",
        "      os.mkdir(path)\n",
        "  except OSError as error:\n",
        "      print(f\"{path} already exists\")\n",
        "\n",
        "\n",
        "os.chdir(folder_data)"
      ]
    },
    {
      "cell_type": "markdown",
      "metadata": {
        "id": "ABJabH9Z5OA9"
      },
      "source": [
        "## 2.0 Create Datasets\n",
        "\n",
        "This Files contains the Functions to create the final version of the dataset starting from the original data provided."
      ]
    },
    {
      "cell_type": "code",
      "execution_count": 11,
      "metadata": {
        "id": "eHHLy-qc7FFc"
      },
      "outputs": [],
      "source": [
        "#train = pd.read_csv(r'train.csv',\n",
        "                    #dtype={\"date_id\":\"str\",\"stock_id\":\"int\",\"seconds_in_bucket\":\"int\"}\n",
        "#                    )#.drop('row_id', axis = 1)\n",
        "#train = train.dropna(axis=0, subset=[\"target\"])\n",
        "revealed_targets = pd.read_csv(\"example_test_files/revealed_targets.csv\", dtype={\"revealed_date_id\":\"str\",\"stock_id\":\"str\"})\n",
        "test = pd.read_csv(\"example_test_files/test.csv\",dtype={\"date_id\":\"int\",\"stock_id\":\"int\",\"seconds_in_bucket\":\"int\"})"
      ]
    },
    {
      "cell_type": "code",
      "source": [
        "#train, test_exp = create_train_test(train,test)"
      ],
      "metadata": {
        "id": "uvENtFL5HaBh"
      },
      "execution_count": 12,
      "outputs": []
    },
    {
      "cell_type": "code",
      "source": [
        "#train.shape, test_exp.shape\n",
        "\n",
        "#test_ids = test.row_id.unique()\n",
        "#test_ids\n",
        "\n",
        "#train[train.row_id.isin(test_ids)].drop(\"target\",axis=1)\n",
        "#test_exp"
      ],
      "metadata": {
        "id": "0xaCx6GSK-LD"
      },
      "execution_count": 13,
      "outputs": []
    },
    {
      "cell_type": "code",
      "source": [
        "gc.collect()"
      ],
      "metadata": {
        "colab": {
          "base_uri": "https://localhost:8080/"
        },
        "id": "0rz4wrQifUxP",
        "outputId": "a6346162-0359-4551-902c-e7d67ce33f54"
      },
      "execution_count": 14,
      "outputs": [
        {
          "output_type": "execute_result",
          "data": {
            "text/plain": [
              "159"
            ]
          },
          "metadata": {},
          "execution_count": 14
        }
      ]
    },
    {
      "cell_type": "markdown",
      "source": [
        "### 2.2 Reload Extended Data:"
      ],
      "metadata": {
        "id": "vDqSK5gVfq4L"
      }
    },
    {
      "cell_type": "code",
      "execution_count": 15,
      "metadata": {
        "id": "PVeKBxPub01P"
      },
      "outputs": [],
      "source": [
        "dict_cat = {cl:\"int32\" for cl in ['time_id', 'stock_id', 'date_id', 'vol_cluster', 'corr_cluster',\"vol_bucket\", \"seconds_in_bucket\",\"imbalance_buy_sell_flag\"]}\n",
        "\n",
        "float_cols =  ['ask_price', 'ask_size', 'bid_ask_size_spread', 'bid_price', 'bid_size', 'check_near_far', 'dispersion', 'eq_wgt_index', 'far_price', 'imbalance_size_sign', 'imbalance_size_sign_delta', 'matched_size', 'near_price', 'reference_price', 'target', 'wap', 'imbalance1', 'imbalance2', 'imbalance_ratio', 'volume',\n",
        "               'ask_priceXsize', 'bidask_priceXsize', 'near_price-far_price', 'imbalance_near_price_far_price', 'ask_price-reference_price', 'imbalance_bid_price_reference_price', 'imbalance_bid_price_ask_price', 'imbalance_wap_reference_price', 'wap*near_price', 'imbalance_wap_near_price', 'imbalance_wap_ask_price',\n",
        "                'wap-bid_price', \"mov_average_st\", \"mov_average_lt\", \"enc_0\",\"enc_1\",\"enc_2\", 'tree_feat_v0','tree_feat_v1', 'tree_feat_v2', 'cum_price_dlag0','cum_price_dlag1', 'cum_price_dlag2', 'cum_price_dlag3', 'cum_price_dlag4', 'cum_price_dlag5', 'cum_price_dlag6', 'cum_price_dlag7', 'cum_price_dlag8', 'cum_price_dlag9', 'cum_price_dlag10', 'cum_price_dlag11', 'cum_price_dlag12', 'cum_price_dlag13', 'cum_price_dlag14',\n",
        "                'cum_price_dlag15', 'cum_price_dlag16', 'cum_price_dlag17', 'cum_price_dlag18', 'cum_price_dlag19', 'rsi_dlag0', 'rsi_dlag1', 'rsi_dlag2', 'rsi_dlag3', 'rsi_dlag4', 'rsi_dlag5', 'rsi_dlag6', 'rsi_dlag7', 'rsi_dlag8', 'rsi_dlag9', 'rsi_dlag10', 'rsi_dlag11', 'rsi_dlag12', 'rsi_dlag13', 'rsi_dlag14', 'rsi_dlag15', 'rsi_dlag16', 'rsi_dlag17', 'rsi_dlag18', 'rsi_dlag19']\n",
        "\n",
        "dict_float = {cl:\"float32\" for cl in float_cols}\n",
        "\n",
        "datatype_dict = {**dict_cat, **dict_float}"
      ]
    },
    {
      "cell_type": "code",
      "execution_count": 16,
      "metadata": {
        "colab": {
          "base_uri": "https://localhost:8080/",
          "height": 227
        },
        "id": "doJ_vQ1lmch3",
        "outputId": "0e4b0fa2-6165-431e-96ef-217789b2a146"
      },
      "outputs": [
        {
          "output_type": "stream",
          "name": "stdout",
          "text": [
            "CPU times: user 1min 54s, sys: 7.87 s, total: 2min 2s\n",
            "Wall time: 2min 42s\n"
          ]
        },
        {
          "output_type": "execute_result",
          "data": {
            "text/plain": [
              "   time_id  stock_id  date_id  ask_price  ask_size  bid_ask_size_spread  \\\n",
              "0        0         0        0   1.000026  9.047119            -1.965797   \n",
              "1        0         1        0   1.000660  9.933342             1.851855   \n",
              "2        0         2        0   1.000298  9.851984            -0.692226   \n",
              "\n",
              "   bid_price   bid_size  check_near_far  dispersion  ...  rsi_dlag10  \\\n",
              "0   0.999812  11.012917             1.0         0.0  ...         0.0   \n",
              "1   0.999896   8.081488             1.0         0.0  ...         0.0   \n",
              "2   0.999403  10.544209             1.0         0.0  ...       100.0   \n",
              "\n",
              "   rsi_dlag11  rsi_dlag12  rsi_dlag13  rsi_dlag14  rsi_dlag15  rsi_dlag16  \\\n",
              "0         0.0         0.0         0.0         0.0         0.0         0.0   \n",
              "1         0.0         0.0         0.0         0.0         0.0         0.0   \n",
              "2       100.0       100.0       100.0       100.0       100.0       100.0   \n",
              "\n",
              "   rsi_dlag17  rsi_dlag18  rsi_dlag19  \n",
              "0         0.0         0.0         0.0  \n",
              "1         0.0         0.0         0.0  \n",
              "2       100.0       100.0       100.0  \n",
              "\n",
              "[3 rows x 88 columns]"
            ],
            "text/html": [
              "\n",
              "  <div id=\"df-6521d74a-e0e5-4b83-bc4a-de7eedd25506\" class=\"colab-df-container\">\n",
              "    <div>\n",
              "<style scoped>\n",
              "    .dataframe tbody tr th:only-of-type {\n",
              "        vertical-align: middle;\n",
              "    }\n",
              "\n",
              "    .dataframe tbody tr th {\n",
              "        vertical-align: top;\n",
              "    }\n",
              "\n",
              "    .dataframe thead th {\n",
              "        text-align: right;\n",
              "    }\n",
              "</style>\n",
              "<table border=\"1\" class=\"dataframe\">\n",
              "  <thead>\n",
              "    <tr style=\"text-align: right;\">\n",
              "      <th></th>\n",
              "      <th>time_id</th>\n",
              "      <th>stock_id</th>\n",
              "      <th>date_id</th>\n",
              "      <th>ask_price</th>\n",
              "      <th>ask_size</th>\n",
              "      <th>bid_ask_size_spread</th>\n",
              "      <th>bid_price</th>\n",
              "      <th>bid_size</th>\n",
              "      <th>check_near_far</th>\n",
              "      <th>dispersion</th>\n",
              "      <th>...</th>\n",
              "      <th>rsi_dlag10</th>\n",
              "      <th>rsi_dlag11</th>\n",
              "      <th>rsi_dlag12</th>\n",
              "      <th>rsi_dlag13</th>\n",
              "      <th>rsi_dlag14</th>\n",
              "      <th>rsi_dlag15</th>\n",
              "      <th>rsi_dlag16</th>\n",
              "      <th>rsi_dlag17</th>\n",
              "      <th>rsi_dlag18</th>\n",
              "      <th>rsi_dlag19</th>\n",
              "    </tr>\n",
              "  </thead>\n",
              "  <tbody>\n",
              "    <tr>\n",
              "      <th>0</th>\n",
              "      <td>0</td>\n",
              "      <td>0</td>\n",
              "      <td>0</td>\n",
              "      <td>1.000026</td>\n",
              "      <td>9.047119</td>\n",
              "      <td>-1.965797</td>\n",
              "      <td>0.999812</td>\n",
              "      <td>11.012917</td>\n",
              "      <td>1.0</td>\n",
              "      <td>0.0</td>\n",
              "      <td>...</td>\n",
              "      <td>0.0</td>\n",
              "      <td>0.0</td>\n",
              "      <td>0.0</td>\n",
              "      <td>0.0</td>\n",
              "      <td>0.0</td>\n",
              "      <td>0.0</td>\n",
              "      <td>0.0</td>\n",
              "      <td>0.0</td>\n",
              "      <td>0.0</td>\n",
              "      <td>0.0</td>\n",
              "    </tr>\n",
              "    <tr>\n",
              "      <th>1</th>\n",
              "      <td>0</td>\n",
              "      <td>1</td>\n",
              "      <td>0</td>\n",
              "      <td>1.000660</td>\n",
              "      <td>9.933342</td>\n",
              "      <td>1.851855</td>\n",
              "      <td>0.999896</td>\n",
              "      <td>8.081488</td>\n",
              "      <td>1.0</td>\n",
              "      <td>0.0</td>\n",
              "      <td>...</td>\n",
              "      <td>0.0</td>\n",
              "      <td>0.0</td>\n",
              "      <td>0.0</td>\n",
              "      <td>0.0</td>\n",
              "      <td>0.0</td>\n",
              "      <td>0.0</td>\n",
              "      <td>0.0</td>\n",
              "      <td>0.0</td>\n",
              "      <td>0.0</td>\n",
              "      <td>0.0</td>\n",
              "    </tr>\n",
              "    <tr>\n",
              "      <th>2</th>\n",
              "      <td>0</td>\n",
              "      <td>2</td>\n",
              "      <td>0</td>\n",
              "      <td>1.000298</td>\n",
              "      <td>9.851984</td>\n",
              "      <td>-0.692226</td>\n",
              "      <td>0.999403</td>\n",
              "      <td>10.544209</td>\n",
              "      <td>1.0</td>\n",
              "      <td>0.0</td>\n",
              "      <td>...</td>\n",
              "      <td>100.0</td>\n",
              "      <td>100.0</td>\n",
              "      <td>100.0</td>\n",
              "      <td>100.0</td>\n",
              "      <td>100.0</td>\n",
              "      <td>100.0</td>\n",
              "      <td>100.0</td>\n",
              "      <td>100.0</td>\n",
              "      <td>100.0</td>\n",
              "      <td>100.0</td>\n",
              "    </tr>\n",
              "  </tbody>\n",
              "</table>\n",
              "<p>3 rows × 88 columns</p>\n",
              "</div>\n",
              "    <div class=\"colab-df-buttons\">\n",
              "\n",
              "  <div class=\"colab-df-container\">\n",
              "    <button class=\"colab-df-convert\" onclick=\"convertToInteractive('df-6521d74a-e0e5-4b83-bc4a-de7eedd25506')\"\n",
              "            title=\"Convert this dataframe to an interactive table.\"\n",
              "            style=\"display:none;\">\n",
              "\n",
              "  <svg xmlns=\"http://www.w3.org/2000/svg\" height=\"24px\" viewBox=\"0 -960 960 960\">\n",
              "    <path d=\"M120-120v-720h720v720H120Zm60-500h600v-160H180v160Zm220 220h160v-160H400v160Zm0 220h160v-160H400v160ZM180-400h160v-160H180v160Zm440 0h160v-160H620v160ZM180-180h160v-160H180v160Zm440 0h160v-160H620v160Z\"/>\n",
              "  </svg>\n",
              "    </button>\n",
              "\n",
              "  <style>\n",
              "    .colab-df-container {\n",
              "      display:flex;\n",
              "      gap: 12px;\n",
              "    }\n",
              "\n",
              "    .colab-df-convert {\n",
              "      background-color: #E8F0FE;\n",
              "      border: none;\n",
              "      border-radius: 50%;\n",
              "      cursor: pointer;\n",
              "      display: none;\n",
              "      fill: #1967D2;\n",
              "      height: 32px;\n",
              "      padding: 0 0 0 0;\n",
              "      width: 32px;\n",
              "    }\n",
              "\n",
              "    .colab-df-convert:hover {\n",
              "      background-color: #E2EBFA;\n",
              "      box-shadow: 0px 1px 2px rgba(60, 64, 67, 0.3), 0px 1px 3px 1px rgba(60, 64, 67, 0.15);\n",
              "      fill: #174EA6;\n",
              "    }\n",
              "\n",
              "    .colab-df-buttons div {\n",
              "      margin-bottom: 4px;\n",
              "    }\n",
              "\n",
              "    [theme=dark] .colab-df-convert {\n",
              "      background-color: #3B4455;\n",
              "      fill: #D2E3FC;\n",
              "    }\n",
              "\n",
              "    [theme=dark] .colab-df-convert:hover {\n",
              "      background-color: #434B5C;\n",
              "      box-shadow: 0px 1px 3px 1px rgba(0, 0, 0, 0.15);\n",
              "      filter: drop-shadow(0px 1px 2px rgba(0, 0, 0, 0.3));\n",
              "      fill: #FFFFFF;\n",
              "    }\n",
              "  </style>\n",
              "\n",
              "    <script>\n",
              "      const buttonEl =\n",
              "        document.querySelector('#df-6521d74a-e0e5-4b83-bc4a-de7eedd25506 button.colab-df-convert');\n",
              "      buttonEl.style.display =\n",
              "        google.colab.kernel.accessAllowed ? 'block' : 'none';\n",
              "\n",
              "      async function convertToInteractive(key) {\n",
              "        const element = document.querySelector('#df-6521d74a-e0e5-4b83-bc4a-de7eedd25506');\n",
              "        const dataTable =\n",
              "          await google.colab.kernel.invokeFunction('convertToInteractive',\n",
              "                                                    [key], {});\n",
              "        if (!dataTable) return;\n",
              "\n",
              "        const docLinkHtml = 'Like what you see? Visit the ' +\n",
              "          '<a target=\"_blank\" href=https://colab.research.google.com/notebooks/data_table.ipynb>data table notebook</a>'\n",
              "          + ' to learn more about interactive tables.';\n",
              "        element.innerHTML = '';\n",
              "        dataTable['output_type'] = 'display_data';\n",
              "        await google.colab.output.renderOutput(dataTable, element);\n",
              "        const docLink = document.createElement('div');\n",
              "        docLink.innerHTML = docLinkHtml;\n",
              "        element.appendChild(docLink);\n",
              "      }\n",
              "    </script>\n",
              "  </div>\n",
              "\n",
              "\n",
              "<div id=\"df-3f3b15a9-7b49-4d3a-8b4c-2e6a261a4b51\">\n",
              "  <button class=\"colab-df-quickchart\" onclick=\"quickchart('df-3f3b15a9-7b49-4d3a-8b4c-2e6a261a4b51')\"\n",
              "            title=\"Suggest charts\"\n",
              "            style=\"display:none;\">\n",
              "\n",
              "<svg xmlns=\"http://www.w3.org/2000/svg\" height=\"24px\"viewBox=\"0 0 24 24\"\n",
              "     width=\"24px\">\n",
              "    <g>\n",
              "        <path d=\"M19 3H5c-1.1 0-2 .9-2 2v14c0 1.1.9 2 2 2h14c1.1 0 2-.9 2-2V5c0-1.1-.9-2-2-2zM9 17H7v-7h2v7zm4 0h-2V7h2v10zm4 0h-2v-4h2v4z\"/>\n",
              "    </g>\n",
              "</svg>\n",
              "  </button>\n",
              "\n",
              "<style>\n",
              "  .colab-df-quickchart {\n",
              "      --bg-color: #E8F0FE;\n",
              "      --fill-color: #1967D2;\n",
              "      --hover-bg-color: #E2EBFA;\n",
              "      --hover-fill-color: #174EA6;\n",
              "      --disabled-fill-color: #AAA;\n",
              "      --disabled-bg-color: #DDD;\n",
              "  }\n",
              "\n",
              "  [theme=dark] .colab-df-quickchart {\n",
              "      --bg-color: #3B4455;\n",
              "      --fill-color: #D2E3FC;\n",
              "      --hover-bg-color: #434B5C;\n",
              "      --hover-fill-color: #FFFFFF;\n",
              "      --disabled-bg-color: #3B4455;\n",
              "      --disabled-fill-color: #666;\n",
              "  }\n",
              "\n",
              "  .colab-df-quickchart {\n",
              "    background-color: var(--bg-color);\n",
              "    border: none;\n",
              "    border-radius: 50%;\n",
              "    cursor: pointer;\n",
              "    display: none;\n",
              "    fill: var(--fill-color);\n",
              "    height: 32px;\n",
              "    padding: 0;\n",
              "    width: 32px;\n",
              "  }\n",
              "\n",
              "  .colab-df-quickchart:hover {\n",
              "    background-color: var(--hover-bg-color);\n",
              "    box-shadow: 0 1px 2px rgba(60, 64, 67, 0.3), 0 1px 3px 1px rgba(60, 64, 67, 0.15);\n",
              "    fill: var(--button-hover-fill-color);\n",
              "  }\n",
              "\n",
              "  .colab-df-quickchart-complete:disabled,\n",
              "  .colab-df-quickchart-complete:disabled:hover {\n",
              "    background-color: var(--disabled-bg-color);\n",
              "    fill: var(--disabled-fill-color);\n",
              "    box-shadow: none;\n",
              "  }\n",
              "\n",
              "  .colab-df-spinner {\n",
              "    border: 2px solid var(--fill-color);\n",
              "    border-color: transparent;\n",
              "    border-bottom-color: var(--fill-color);\n",
              "    animation:\n",
              "      spin 1s steps(1) infinite;\n",
              "  }\n",
              "\n",
              "  @keyframes spin {\n",
              "    0% {\n",
              "      border-color: transparent;\n",
              "      border-bottom-color: var(--fill-color);\n",
              "      border-left-color: var(--fill-color);\n",
              "    }\n",
              "    20% {\n",
              "      border-color: transparent;\n",
              "      border-left-color: var(--fill-color);\n",
              "      border-top-color: var(--fill-color);\n",
              "    }\n",
              "    30% {\n",
              "      border-color: transparent;\n",
              "      border-left-color: var(--fill-color);\n",
              "      border-top-color: var(--fill-color);\n",
              "      border-right-color: var(--fill-color);\n",
              "    }\n",
              "    40% {\n",
              "      border-color: transparent;\n",
              "      border-right-color: var(--fill-color);\n",
              "      border-top-color: var(--fill-color);\n",
              "    }\n",
              "    60% {\n",
              "      border-color: transparent;\n",
              "      border-right-color: var(--fill-color);\n",
              "    }\n",
              "    80% {\n",
              "      border-color: transparent;\n",
              "      border-right-color: var(--fill-color);\n",
              "      border-bottom-color: var(--fill-color);\n",
              "    }\n",
              "    90% {\n",
              "      border-color: transparent;\n",
              "      border-bottom-color: var(--fill-color);\n",
              "    }\n",
              "  }\n",
              "</style>\n",
              "\n",
              "  <script>\n",
              "    async function quickchart(key) {\n",
              "      const quickchartButtonEl =\n",
              "        document.querySelector('#' + key + ' button');\n",
              "      quickchartButtonEl.disabled = true;  // To prevent multiple clicks.\n",
              "      quickchartButtonEl.classList.add('colab-df-spinner');\n",
              "      try {\n",
              "        const charts = await google.colab.kernel.invokeFunction(\n",
              "            'suggestCharts', [key], {});\n",
              "      } catch (error) {\n",
              "        console.error('Error during call to suggestCharts:', error);\n",
              "      }\n",
              "      quickchartButtonEl.classList.remove('colab-df-spinner');\n",
              "      quickchartButtonEl.classList.add('colab-df-quickchart-complete');\n",
              "    }\n",
              "    (() => {\n",
              "      let quickchartButtonEl =\n",
              "        document.querySelector('#df-3f3b15a9-7b49-4d3a-8b4c-2e6a261a4b51 button');\n",
              "      quickchartButtonEl.style.display =\n",
              "        google.colab.kernel.accessAllowed ? 'block' : 'none';\n",
              "    })();\n",
              "  </script>\n",
              "</div>\n",
              "    </div>\n",
              "  </div>\n"
            ]
          },
          "metadata": {},
          "execution_count": 16
        }
      ],
      "source": [
        "%%time\n",
        "train=pd.read_csv(\"train_extended.csv\", dtype = datatype_dict)\n",
        "train.head(3)"
      ]
    },
    {
      "cell_type": "code",
      "execution_count": 17,
      "metadata": {
        "id": "fY0n4uwtOxhG"
      },
      "outputs": [],
      "source": [
        "cat_cols = [c for c in train.columns if train[c].dtypes==\"int32\"]\n",
        "float_cols = [c for c in train.columns if train[c].dtypes==\"float32\"]"
      ]
    },
    {
      "cell_type": "code",
      "execution_count": 18,
      "metadata": {
        "colab": {
          "base_uri": "https://localhost:8080/"
        },
        "id": "sUE5YU8niZ0Q",
        "outputId": "1f31701f-2d69-4db8-ad5a-5b2addc59968"
      },
      "outputs": [
        {
          "output_type": "stream",
          "name": "stdout",
          "text": [
            "<class 'pandas.core.frame.DataFrame'>\n",
            "RangeIndex: 5237892 entries, 0 to 5237891\n",
            "Data columns (total 88 columns):\n",
            " #   Column                               Dtype  \n",
            "---  ------                               -----  \n",
            " 0   time_id                              int32  \n",
            " 1   stock_id                             int32  \n",
            " 2   date_id                              int32  \n",
            " 3   ask_price                            float32\n",
            " 4   ask_size                             float32\n",
            " 5   bid_ask_size_spread                  float32\n",
            " 6   bid_price                            float32\n",
            " 7   bid_size                             float32\n",
            " 8   check_near_far                       float32\n",
            " 9   dispersion                           float32\n",
            " 10  eq_wgt_index                         float32\n",
            " 11  far_price                            float32\n",
            " 12  imbalance_buy_sell_flag              int32  \n",
            " 13  imbalance_size_sign                  float32\n",
            " 14  imbalance_size_sign_delta            float32\n",
            " 15  matched_size                         float32\n",
            " 16  near_price                           float32\n",
            " 17  reference_price                      float32\n",
            " 18  seconds_in_bucket                    int32  \n",
            " 19  target                               float32\n",
            " 20  vol_bucket                           int32  \n",
            " 21  wap                                  float32\n",
            " 22  vol_cluster                          int32  \n",
            " 23  corr_cluster                         int32  \n",
            " 24  imbalance1                           float32\n",
            " 25  imbalance2                           float32\n",
            " 26  imbalance_ratio                      float32\n",
            " 27  volume                               float32\n",
            " 28  ask_priceXsize                       float32\n",
            " 29  bidask_priceXsize                    float32\n",
            " 30  near_price-far_price                 float32\n",
            " 31  imbalance_near_price_far_price       float32\n",
            " 32  ask_price-reference_price            float32\n",
            " 33  imbalance_bid_price_reference_price  float32\n",
            " 34  imbalance_bid_price_ask_price        float32\n",
            " 35  imbalance_wap_reference_price        float32\n",
            " 36  wap*near_price                       float32\n",
            " 37  mov_average_lt                       float32\n",
            " 38  mov_average_st                       float32\n",
            " 39  imbalance_wap_near_price             float32\n",
            " 40  imbalance_wap_ask_price              float32\n",
            " 41  wap-bid_price                        float32\n",
            " 42  enc_0                                float32\n",
            " 43  enc_1                                float32\n",
            " 44  enc_2                                float32\n",
            " 45  tree_feat_v0                         float32\n",
            " 46  tree_feat_v1                         float32\n",
            " 47  tree_feat_v2                         float32\n",
            " 48  cum_price_dlag0                      float32\n",
            " 49  cum_price_dlag1                      float32\n",
            " 50  cum_price_dlag2                      float32\n",
            " 51  cum_price_dlag3                      float32\n",
            " 52  cum_price_dlag4                      float32\n",
            " 53  cum_price_dlag5                      float32\n",
            " 54  cum_price_dlag6                      float32\n",
            " 55  cum_price_dlag7                      float32\n",
            " 56  cum_price_dlag8                      float32\n",
            " 57  cum_price_dlag9                      float32\n",
            " 58  cum_price_dlag10                     float32\n",
            " 59  cum_price_dlag11                     float32\n",
            " 60  cum_price_dlag12                     float32\n",
            " 61  cum_price_dlag13                     float32\n",
            " 62  cum_price_dlag14                     float32\n",
            " 63  cum_price_dlag15                     float32\n",
            " 64  cum_price_dlag16                     float32\n",
            " 65  cum_price_dlag17                     float32\n",
            " 66  cum_price_dlag18                     float32\n",
            " 67  cum_price_dlag19                     float32\n",
            " 68  rsi_dlag0                            float32\n",
            " 69  rsi_dlag1                            float32\n",
            " 70  rsi_dlag2                            float32\n",
            " 71  rsi_dlag3                            float32\n",
            " 72  rsi_dlag4                            float32\n",
            " 73  rsi_dlag5                            float32\n",
            " 74  rsi_dlag6                            float32\n",
            " 75  rsi_dlag7                            float32\n",
            " 76  rsi_dlag8                            float32\n",
            " 77  rsi_dlag9                            float32\n",
            " 78  rsi_dlag10                           float32\n",
            " 79  rsi_dlag11                           float32\n",
            " 80  rsi_dlag12                           float32\n",
            " 81  rsi_dlag13                           float32\n",
            " 82  rsi_dlag14                           float32\n",
            " 83  rsi_dlag15                           float32\n",
            " 84  rsi_dlag16                           float32\n",
            " 85  rsi_dlag17                           float32\n",
            " 86  rsi_dlag18                           float32\n",
            " 87  rsi_dlag19                           float32\n",
            "dtypes: float32(80), int32(8)\n",
            "memory usage: 1.7 GB\n"
          ]
        },
        {
          "output_type": "execute_result",
          "data": {
            "text/plain": [
              "0"
            ]
          },
          "metadata": {},
          "execution_count": 18
        }
      ],
      "source": [
        "train.info()\n",
        "gc.collect()"
      ]
    },
    {
      "cell_type": "code",
      "execution_count": 19,
      "metadata": {
        "colab": {
          "base_uri": "https://localhost:8080/"
        },
        "id": "MahR5i-uPQSJ",
        "outputId": "f9f3a6c1-55d4-4bd2-c638-7d9aba2a27f7"
      },
      "outputs": [
        {
          "output_type": "execute_result",
          "data": {
            "text/plain": [
              "Index(['time_id', 'stock_id', 'date_id', 'ask_price', 'ask_size',\n",
              "       'bid_ask_size_spread', 'bid_price', 'bid_size', 'check_near_far',\n",
              "       'dispersion', 'eq_wgt_index', 'far_price', 'imbalance_buy_sell_flag',\n",
              "       'imbalance_size_sign', 'imbalance_size_sign_delta', 'matched_size',\n",
              "       'near_price', 'reference_price', 'seconds_in_bucket', 'target',\n",
              "       'vol_bucket', 'wap', 'vol_cluster', 'corr_cluster', 'imbalance1',\n",
              "       'imbalance2', 'imbalance_ratio', 'volume', 'ask_priceXsize',\n",
              "       'bidask_priceXsize', 'near_price-far_price',\n",
              "       'imbalance_near_price_far_price', 'ask_price-reference_price',\n",
              "       'imbalance_bid_price_reference_price', 'imbalance_bid_price_ask_price',\n",
              "       'imbalance_wap_reference_price', 'wap*near_price', 'mov_average_lt',\n",
              "       'mov_average_st', 'imbalance_wap_near_price', 'imbalance_wap_ask_price',\n",
              "       'wap-bid_price', 'enc_0', 'enc_1', 'enc_2', 'tree_feat_v0',\n",
              "       'tree_feat_v1', 'tree_feat_v2', 'cum_price_dlag0', 'cum_price_dlag1',\n",
              "       'cum_price_dlag2', 'cum_price_dlag3', 'cum_price_dlag4',\n",
              "       'cum_price_dlag5', 'cum_price_dlag6', 'cum_price_dlag7',\n",
              "       'cum_price_dlag8', 'cum_price_dlag9', 'cum_price_dlag10',\n",
              "       'cum_price_dlag11', 'cum_price_dlag12', 'cum_price_dlag13',\n",
              "       'cum_price_dlag14', 'cum_price_dlag15', 'cum_price_dlag16',\n",
              "       'cum_price_dlag17', 'cum_price_dlag18', 'cum_price_dlag19', 'rsi_dlag0',\n",
              "       'rsi_dlag1', 'rsi_dlag2', 'rsi_dlag3', 'rsi_dlag4', 'rsi_dlag5',\n",
              "       'rsi_dlag6', 'rsi_dlag7', 'rsi_dlag8', 'rsi_dlag9', 'rsi_dlag10',\n",
              "       'rsi_dlag11', 'rsi_dlag12', 'rsi_dlag13', 'rsi_dlag14', 'rsi_dlag15',\n",
              "       'rsi_dlag16', 'rsi_dlag17', 'rsi_dlag18', 'rsi_dlag19'],\n",
              "      dtype='object')"
            ]
          },
          "metadata": {},
          "execution_count": 19
        }
      ],
      "source": [
        "train.columns"
      ]
    },
    {
      "cell_type": "markdown",
      "metadata": {
        "id": "xMscdaRl7vS2"
      },
      "source": [
        "### 2.3 Features Correlation:"
      ]
    },
    {
      "cell_type": "code",
      "execution_count": 20,
      "metadata": {
        "colab": {
          "base_uri": "https://localhost:8080/"
        },
        "id": "imorep5H7vS4",
        "outputId": "98cccf02-effc-499d-b63a-745721d872f5"
      },
      "outputs": [
        {
          "output_type": "execute_result",
          "data": {
            "text/plain": [
              "(5237892, 88)"
            ]
          },
          "metadata": {},
          "execution_count": 20
        }
      ],
      "source": [
        "corr = train.corr()\n",
        "train.shape"
      ]
    },
    {
      "cell_type": "code",
      "execution_count": 21,
      "metadata": {
        "colab": {
          "base_uri": "https://localhost:8080/",
          "height": 663
        },
        "id": "tKk9sngi7vS5",
        "outputId": "837c32a4-20b2-4a00-addd-a93acb897c96"
      },
      "outputs": [
        {
          "output_type": "display_data",
          "data": {
            "text/plain": [
              "<Figure size 1800x500 with 1 Axes>"
            ],
            "image/png": "[encoded data removed]"
          },
          "metadata": {}
        }
      ],
      "source": [
        "plt.figure(figsize=(18,5))\n",
        "correlation = corr.target\n",
        "plt.bar(correlation.sort_values()[:-1].index, height=correlation.sort_values()[:-1].values)\n",
        "plt.tick_params(axis=\"x\", labelsize=9, labelrotation=90, labelcolor=\"black\")"
      ]
    },
    {
      "cell_type": "code",
      "execution_count": 22,
      "metadata": {
        "colab": {
          "base_uri": "https://localhost:8080/"
        },
        "id": "efsVkSsx83KW",
        "outputId": "c1db6618-1c9b-478a-ff9b-902b00d1a4bf"
      },
      "outputs": [
        {
          "output_type": "execute_result",
          "data": {
            "text/plain": [
              "16039"
            ]
          },
          "metadata": {},
          "execution_count": 22
        }
      ],
      "source": [
        "gc.collect()"
      ]
    },
    {
      "cell_type": "markdown",
      "source": [
        "### 2.3 Train Test Split"
      ],
      "metadata": {
        "id": "pZUYUYUHjBMk"
      }
    },
    {
      "cell_type": "code",
      "source": [
        "test.date_id.unique()"
      ],
      "metadata": {
        "colab": {
          "base_uri": "https://localhost:8080/"
        },
        "id": "uPjvz1AAjKoi",
        "outputId": "007373d0-ffad-44dc-a1af-dafe40c7e78e"
      },
      "execution_count": 23,
      "outputs": [
        {
          "output_type": "execute_result",
          "data": {
            "text/plain": [
              "array([478, 479, 480])"
            ]
          },
          "metadata": {},
          "execution_count": 23
        }
      ]
    },
    {
      "cell_type": "code",
      "source": [
        "train.head()"
      ],
      "metadata": {
        "colab": {
          "base_uri": "https://localhost:8080/",
          "height": 255
        },
        "id": "B64UtVDXjKlV",
        "outputId": "80a31ff0-0d06-4f1d-d1ec-4fd0c1fbcb78"
      },
      "execution_count": 24,
      "outputs": [
        {
          "output_type": "execute_result",
          "data": {
            "text/plain": [
              "   time_id  stock_id  date_id  ask_price   ask_size  bid_ask_size_spread  \\\n",
              "0        0         0        0   1.000026   9.047119            -1.965797   \n",
              "1        0         1        0   1.000660   9.933342             1.851855   \n",
              "2        0         2        0   1.000298   9.851984            -0.692226   \n",
              "3        0         3        0   1.000214  13.079526             5.327663   \n",
              "4        0         4        0   1.000016   6.075576            -3.634724   \n",
              "\n",
              "   bid_price   bid_size  check_near_far  dispersion  ...  rsi_dlag10  \\\n",
              "0   0.999812  11.012917             1.0         0.0  ...         0.0   \n",
              "1   0.999896   8.081488             1.0         0.0  ...         0.0   \n",
              "2   0.999403  10.544209             1.0         0.0  ...       100.0   \n",
              "3   0.999999   7.751863             1.0         0.0  ...         0.0   \n",
              "4   0.999394   9.710299             1.0         0.0  ...       100.0   \n",
              "\n",
              "   rsi_dlag11  rsi_dlag12  rsi_dlag13  rsi_dlag14  rsi_dlag15  rsi_dlag16  \\\n",
              "0         0.0         0.0         0.0         0.0         0.0         0.0   \n",
              "1         0.0         0.0         0.0         0.0         0.0         0.0   \n",
              "2       100.0       100.0       100.0       100.0       100.0       100.0   \n",
              "3         0.0         0.0         0.0         0.0         0.0         0.0   \n",
              "4       100.0       100.0       100.0       100.0       100.0       100.0   \n",
              "\n",
              "   rsi_dlag17  rsi_dlag18  rsi_dlag19  \n",
              "0         0.0         0.0         0.0  \n",
              "1         0.0         0.0         0.0  \n",
              "2       100.0       100.0       100.0  \n",
              "3         0.0         0.0         0.0  \n",
              "4       100.0       100.0       100.0  \n",
              "\n",
              "[5 rows x 88 columns]"
            ],
            "text/html": [
              "\n",
              "  <div id=\"df-b93cd837-c40e-4c20-b729-6b4934b17e09\" class=\"colab-df-container\">\n",
              "    <div>\n",
              "<style scoped>\n",
              "    .dataframe tbody tr th:only-of-type {\n",
              "        vertical-align: middle;\n",
              "    }\n",
              "\n",
              "    .dataframe tbody tr th {\n",
              "        vertical-align: top;\n",
              "    }\n",
              "\n",
              "    .dataframe thead th {\n",
              "        text-align: right;\n",
              "    }\n",
              "</style>\n",
              "<table border=\"1\" class=\"dataframe\">\n",
              "  <thead>\n",
              "    <tr style=\"text-align: right;\">\n",
              "      <th></th>\n",
              "      <th>time_id</th>\n",
              "      <th>stock_id</th>\n",
              "      <th>date_id</th>\n",
              "      <th>ask_price</th>\n",
              "      <th>ask_size</th>\n",
              "      <th>bid_ask_size_spread</th>\n",
              "      <th>bid_price</th>\n",
              "      <th>bid_size</th>\n",
              "      <th>check_near_far</th>\n",
              "      <th>dispersion</th>\n",
              "      <th>...</th>\n",
              "      <th>rsi_dlag10</th>\n",
              "      <th>rsi_dlag11</th>\n",
              "      <th>rsi_dlag12</th>\n",
              "      <th>rsi_dlag13</th>\n",
              "      <th>rsi_dlag14</th>\n",
              "      <th>rsi_dlag15</th>\n",
              "      <th>rsi_dlag16</th>\n",
              "      <th>rsi_dlag17</th>\n",
              "      <th>rsi_dlag18</th>\n",
              "      <th>rsi_dlag19</th>\n",
              "    </tr>\n",
              "  </thead>\n",
              "  <tbody>\n",
              "    <tr>\n",
              "      <th>0</th>\n",
              "      <td>0</td>\n",
              "      <td>0</td>\n",
              "      <td>0</td>\n",
              "      <td>1.000026</td>\n",
              "      <td>9.047119</td>\n",
              "      <td>-1.965797</td>\n",
              "      <td>0.999812</td>\n",
              "      <td>11.012917</td>\n",
              "      <td>1.0</td>\n",
              "      <td>0.0</td>\n",
              "      <td>...</td>\n",
              "      <td>0.0</td>\n",
              "      <td>0.0</td>\n",
              "      <td>0.0</td>\n",
              "      <td>0.0</td>\n",
              "      <td>0.0</td>\n",
              "      <td>0.0</td>\n",
              "      <td>0.0</td>\n",
              "      <td>0.0</td>\n",
              "      <td>0.0</td>\n",
              "      <td>0.0</td>\n",
              "    </tr>\n",
              "    <tr>\n",
              "      <th>1</th>\n",
              "      <td>0</td>\n",
              "      <td>1</td>\n",
              "      <td>0</td>\n",
              "      <td>1.000660</td>\n",
              "      <td>9.933342</td>\n",
              "      <td>1.851855</td>\n",
              "      <td>0.999896</td>\n",
              "      <td>8.081488</td>\n",
              "      <td>1.0</td>\n",
              "      <td>0.0</td>\n",
              "      <td>...</td>\n",
              "      <td>0.0</td>\n",
              "      <td>0.0</td>\n",
              "      <td>0.0</td>\n",
              "      <td>0.0</td>\n",
              "      <td>0.0</td>\n",
              "      <td>0.0</td>\n",
              "      <td>0.0</td>\n",
              "      <td>0.0</td>\n",
              "      <td>0.0</td>\n",
              "      <td>0.0</td>\n",
              "    </tr>\n",
              "    <tr>\n",
              "      <th>2</th>\n",
              "      <td>0</td>\n",
              "      <td>2</td>\n",
              "      <td>0</td>\n",
              "      <td>1.000298</td>\n",
              "      <td>9.851984</td>\n",
              "      <td>-0.692226</td>\n",
              "      <td>0.999403</td>\n",
              "      <td>10.544209</td>\n",
              "      <td>1.0</td>\n",
              "      <td>0.0</td>\n",
              "      <td>...</td>\n",
              "      <td>100.0</td>\n",
              "      <td>100.0</td>\n",
              "      <td>100.0</td>\n",
              "      <td>100.0</td>\n",
              "      <td>100.0</td>\n",
              "      <td>100.0</td>\n",
              "      <td>100.0</td>\n",
              "      <td>100.0</td>\n",
              "      <td>100.0</td>\n",
              "      <td>100.0</td>\n",
              "    </tr>\n",
              "    <tr>\n",
              "      <th>3</th>\n",
              "      <td>0</td>\n",
              "      <td>3</td>\n",
              "      <td>0</td>\n",
              "      <td>1.000214</td>\n",
              "      <td>13.079526</td>\n",
              "      <td>5.327663</td>\n",
              "      <td>0.999999</td>\n",
              "      <td>7.751863</td>\n",
              "      <td>1.0</td>\n",
              "      <td>0.0</td>\n",
              "      <td>...</td>\n",
              "      <td>0.0</td>\n",
              "      <td>0.0</td>\n",
              "      <td>0.0</td>\n",
              "      <td>0.0</td>\n",
              "      <td>0.0</td>\n",
              "      <td>0.0</td>\n",
              "      <td>0.0</td>\n",
              "      <td>0.0</td>\n",
              "      <td>0.0</td>\n",
              "      <td>0.0</td>\n",
              "    </tr>\n",
              "    <tr>\n",
              "      <th>4</th>\n",
              "      <td>0</td>\n",
              "      <td>4</td>\n",
              "      <td>0</td>\n",
              "      <td>1.000016</td>\n",
              "      <td>6.075576</td>\n",
              "      <td>-3.634724</td>\n",
              "      <td>0.999394</td>\n",
              "      <td>9.710299</td>\n",
              "      <td>1.0</td>\n",
              "      <td>0.0</td>\n",
              "      <td>...</td>\n",
              "      <td>100.0</td>\n",
              "      <td>100.0</td>\n",
              "      <td>100.0</td>\n",
              "      <td>100.0</td>\n",
              "      <td>100.0</td>\n",
              "      <td>100.0</td>\n",
              "      <td>100.0</td>\n",
              "      <td>100.0</td>\n",
              "      <td>100.0</td>\n",
              "      <td>100.0</td>\n",
              "    </tr>\n",
              "  </tbody>\n",
              "</table>\n",
              "<p>5 rows × 88 columns</p>\n",
              "</div>\n",
              "    <div class=\"colab-df-buttons\">\n",
              "\n",
              "  <div class=\"colab-df-container\">\n",
              "    <button class=\"colab-df-convert\" onclick=\"convertToInteractive('df-b93cd837-c40e-4c20-b729-6b4934b17e09')\"\n",
              "            title=\"Convert this dataframe to an interactive table.\"\n",
              "            style=\"display:none;\">\n",
              "\n",
              "  <svg xmlns=\"http://www.w3.org/2000/svg\" height=\"24px\" viewBox=\"0 -960 960 960\">\n",
              "    <path d=\"M120-120v-720h720v720H120Zm60-500h600v-160H180v160Zm220 220h160v-160H400v160Zm0 220h160v-160H400v160ZM180-400h160v-160H180v160Zm440 0h160v-160H620v160ZM180-180h160v-160H180v160Zm440 0h160v-160H620v160Z\"/>\n",
              "  </svg>\n",
              "    </button>\n",
              "\n",
              "  <style>\n",
              "    .colab-df-container {\n",
              "      display:flex;\n",
              "      gap: 12px;\n",
              "    }\n",
              "\n",
              "    .colab-df-convert {\n",
              "      background-color: #E8F0FE;\n",
              "      border: none;\n",
              "      border-radius: 50%;\n",
              "      cursor: pointer;\n",
              "      display: none;\n",
              "      fill: #1967D2;\n",
              "      height: 32px;\n",
              "      padding: 0 0 0 0;\n",
              "      width: 32px;\n",
              "    }\n",
              "\n",
              "    .colab-df-convert:hover {\n",
              "      background-color: #E2EBFA;\n",
              "      box-shadow: 0px 1px 2px rgba(60, 64, 67, 0.3), 0px 1px 3px 1px rgba(60, 64, 67, 0.15);\n",
              "      fill: #174EA6;\n",
              "    }\n",
              "\n",
              "    .colab-df-buttons div {\n",
              "      margin-bottom: 4px;\n",
              "    }\n",
              "\n",
              "    [theme=dark] .colab-df-convert {\n",
              "      background-color: #3B4455;\n",
              "      fill: #D2E3FC;\n",
              "    }\n",
              "\n",
              "    [theme=dark] .colab-df-convert:hover {\n",
              "      background-color: #434B5C;\n",
              "      box-shadow: 0px 1px 3px 1px rgba(0, 0, 0, 0.15);\n",
              "      filter: drop-shadow(0px 1px 2px rgba(0, 0, 0, 0.3));\n",
              "      fill: #FFFFFF;\n",
              "    }\n",
              "  </style>\n",
              "\n",
              "    <script>\n",
              "      const buttonEl =\n",
              "        document.querySelector('#df-b93cd837-c40e-4c20-b729-6b4934b17e09 button.colab-df-convert');\n",
              "      buttonEl.style.display =\n",
              "        google.colab.kernel.accessAllowed ? 'block' : 'none';\n",
              "\n",
              "      async function convertToInteractive(key) {\n",
              "        const element = document.querySelector('#df-b93cd837-c40e-4c20-b729-6b4934b17e09');\n",
              "        const dataTable =\n",
              "          await google.colab.kernel.invokeFunction('convertToInteractive',\n",
              "                                                    [key], {});\n",
              "        if (!dataTable) return;\n",
              "\n",
              "        const docLinkHtml = 'Like what you see? Visit the ' +\n",
              "          '<a target=\"_blank\" href=https://colab.research.google.com/notebooks/data_table.ipynb>data table notebook</a>'\n",
              "          + ' to learn more about interactive tables.';\n",
              "        element.innerHTML = '';\n",
              "        dataTable['output_type'] = 'display_data';\n",
              "        await google.colab.output.renderOutput(dataTable, element);\n",
              "        const docLink = document.createElement('div');\n",
              "        docLink.innerHTML = docLinkHtml;\n",
              "        element.appendChild(docLink);\n",
              "      }\n",
              "    </script>\n",
              "  </div>\n",
              "\n",
              "\n",
              "<div id=\"df-b2e39377-1a17-49fa-959e-d32335aff199\">\n",
              "  <button class=\"colab-df-quickchart\" onclick=\"quickchart('df-b2e39377-1a17-49fa-959e-d32335aff199')\"\n",
              "            title=\"Suggest charts\"\n",
              "            style=\"display:none;\">\n",
              "\n",
              "<svg xmlns=\"http://www.w3.org/2000/svg\" height=\"24px\"viewBox=\"0 0 24 24\"\n",
              "     width=\"24px\">\n",
              "    <g>\n",
              "        <path d=\"M19 3H5c-1.1 0-2 .9-2 2v14c0 1.1.9 2 2 2h14c1.1 0 2-.9 2-2V5c0-1.1-.9-2-2-2zM9 17H7v-7h2v7zm4 0h-2V7h2v10zm4 0h-2v-4h2v4z\"/>\n",
              "    </g>\n",
              "</svg>\n",
              "  </button>\n",
              "\n",
              "<style>\n",
              "  .colab-df-quickchart {\n",
              "      --bg-color: #E8F0FE;\n",
              "      --fill-color: #1967D2;\n",
              "      --hover-bg-color: #E2EBFA;\n",
              "      --hover-fill-color: #174EA6;\n",
              "      --disabled-fill-color: #AAA;\n",
              "      --disabled-bg-color: #DDD;\n",
              "  }\n",
              "\n",
              "  [theme=dark] .colab-df-quickchart {\n",
              "      --bg-color: #3B4455;\n",
              "      --fill-color: #D2E3FC;\n",
              "      --hover-bg-color: #434B5C;\n",
              "      --hover-fill-color: #FFFFFF;\n",
              "      --disabled-bg-color: #3B4455;\n",
              "      --disabled-fill-color: #666;\n",
              "  }\n",
              "\n",
              "  .colab-df-quickchart {\n",
              "    background-color: var(--bg-color);\n",
              "    border: none;\n",
              "    border-radius: 50%;\n",
              "    cursor: pointer;\n",
              "    display: none;\n",
              "    fill: var(--fill-color);\n",
              "    height: 32px;\n",
              "    padding: 0;\n",
              "    width: 32px;\n",
              "  }\n",
              "\n",
              "  .colab-df-quickchart:hover {\n",
              "    background-color: var(--hover-bg-color);\n",
              "    box-shadow: 0 1px 2px rgba(60, 64, 67, 0.3), 0 1px 3px 1px rgba(60, 64, 67, 0.15);\n",
              "    fill: var(--button-hover-fill-color);\n",
              "  }\n",
              "\n",
              "  .colab-df-quickchart-complete:disabled,\n",
              "  .colab-df-quickchart-complete:disabled:hover {\n",
              "    background-color: var(--disabled-bg-color);\n",
              "    fill: var(--disabled-fill-color);\n",
              "    box-shadow: none;\n",
              "  }\n",
              "\n",
              "  .colab-df-spinner {\n",
              "    border: 2px solid var(--fill-color);\n",
              "    border-color: transparent;\n",
              "    border-bottom-color: var(--fill-color);\n",
              "    animation:\n",
              "      spin 1s steps(1) infinite;\n",
              "  }\n",
              "\n",
              "  @keyframes spin {\n",
              "    0% {\n",
              "      border-color: transparent;\n",
              "      border-bottom-color: var(--fill-color);\n",
              "      border-left-color: var(--fill-color);\n",
              "    }\n",
              "    20% {\n",
              "      border-color: transparent;\n",
              "      border-left-color: var(--fill-color);\n",
              "      border-top-color: var(--fill-color);\n",
              "    }\n",
              "    30% {\n",
              "      border-color: transparent;\n",
              "      border-left-color: var(--fill-color);\n",
              "      border-top-color: var(--fill-color);\n",
              "      border-right-color: var(--fill-color);\n",
              "    }\n",
              "    40% {\n",
              "      border-color: transparent;\n",
              "      border-right-color: var(--fill-color);\n",
              "      border-top-color: var(--fill-color);\n",
              "    }\n",
              "    60% {\n",
              "      border-color: transparent;\n",
              "      border-right-color: var(--fill-color);\n",
              "    }\n",
              "    80% {\n",
              "      border-color: transparent;\n",
              "      border-right-color: var(--fill-color);\n",
              "      border-bottom-color: var(--fill-color);\n",
              "    }\n",
              "    90% {\n",
              "      border-color: transparent;\n",
              "      border-bottom-color: var(--fill-color);\n",
              "    }\n",
              "  }\n",
              "</style>\n",
              "\n",
              "  <script>\n",
              "    async function quickchart(key) {\n",
              "      const quickchartButtonEl =\n",
              "        document.querySelector('#' + key + ' button');\n",
              "      quickchartButtonEl.disabled = true;  // To prevent multiple clicks.\n",
              "      quickchartButtonEl.classList.add('colab-df-spinner');\n",
              "      try {\n",
              "        const charts = await google.colab.kernel.invokeFunction(\n",
              "            'suggestCharts', [key], {});\n",
              "      } catch (error) {\n",
              "        console.error('Error during call to suggestCharts:', error);\n",
              "      }\n",
              "      quickchartButtonEl.classList.remove('colab-df-spinner');\n",
              "      quickchartButtonEl.classList.add('colab-df-quickchart-complete');\n",
              "    }\n",
              "    (() => {\n",
              "      let quickchartButtonEl =\n",
              "        document.querySelector('#df-b2e39377-1a17-49fa-959e-d32335aff199 button');\n",
              "      quickchartButtonEl.style.display =\n",
              "        google.colab.kernel.accessAllowed ? 'block' : 'none';\n",
              "    })();\n",
              "  </script>\n",
              "</div>\n",
              "    </div>\n",
              "  </div>\n"
            ]
          },
          "metadata": {},
          "execution_count": 24
        }
      ]
    },
    {
      "cell_type": "code",
      "source": [
        "test_df = train[train.date_id.isin(test.date_id.unique())]\n",
        "train_df = train[train.date_id<478]"
      ],
      "metadata": {
        "id": "d8SB6VDJjKhi"
      },
      "execution_count": 25,
      "outputs": []
    },
    {
      "cell_type": "code",
      "source": [
        "test_df.shape,train_df.shape"
      ],
      "metadata": {
        "colab": {
          "base_uri": "https://localhost:8080/"
        },
        "id": "aN8gp4X-fWsw",
        "outputId": "85ab908a-09c8-4ff9-a09b-d75023c90d94"
      },
      "execution_count": 26,
      "outputs": [
        {
          "output_type": "execute_result",
          "data": {
            "text/plain": [
              "((33000, 88), (5204892, 88))"
            ]
          },
          "metadata": {},
          "execution_count": 26
        }
      ]
    },
    {
      "cell_type": "code",
      "source": [
        "test_df.columns"
      ],
      "metadata": {
        "colab": {
          "base_uri": "https://localhost:8080/"
        },
        "id": "JbuBsGApMRtW",
        "outputId": "09f23164-7f85-43fb-c661-f69e183a8938"
      },
      "execution_count": 27,
      "outputs": [
        {
          "output_type": "execute_result",
          "data": {
            "text/plain": [
              "Index(['time_id', 'stock_id', 'date_id', 'ask_price', 'ask_size',\n",
              "       'bid_ask_size_spread', 'bid_price', 'bid_size', 'check_near_far',\n",
              "       'dispersion', 'eq_wgt_index', 'far_price', 'imbalance_buy_sell_flag',\n",
              "       'imbalance_size_sign', 'imbalance_size_sign_delta', 'matched_size',\n",
              "       'near_price', 'reference_price', 'seconds_in_bucket', 'target',\n",
              "       'vol_bucket', 'wap', 'vol_cluster', 'corr_cluster', 'imbalance1',\n",
              "       'imbalance2', 'imbalance_ratio', 'volume', 'ask_priceXsize',\n",
              "       'bidask_priceXsize', 'near_price-far_price',\n",
              "       'imbalance_near_price_far_price', 'ask_price-reference_price',\n",
              "       'imbalance_bid_price_reference_price', 'imbalance_bid_price_ask_price',\n",
              "       'imbalance_wap_reference_price', 'wap*near_price', 'mov_average_lt',\n",
              "       'mov_average_st', 'imbalance_wap_near_price', 'imbalance_wap_ask_price',\n",
              "       'wap-bid_price', 'enc_0', 'enc_1', 'enc_2', 'tree_feat_v0',\n",
              "       'tree_feat_v1', 'tree_feat_v2', 'cum_price_dlag0', 'cum_price_dlag1',\n",
              "       'cum_price_dlag2', 'cum_price_dlag3', 'cum_price_dlag4',\n",
              "       'cum_price_dlag5', 'cum_price_dlag6', 'cum_price_dlag7',\n",
              "       'cum_price_dlag8', 'cum_price_dlag9', 'cum_price_dlag10',\n",
              "       'cum_price_dlag11', 'cum_price_dlag12', 'cum_price_dlag13',\n",
              "       'cum_price_dlag14', 'cum_price_dlag15', 'cum_price_dlag16',\n",
              "       'cum_price_dlag17', 'cum_price_dlag18', 'cum_price_dlag19', 'rsi_dlag0',\n",
              "       'rsi_dlag1', 'rsi_dlag2', 'rsi_dlag3', 'rsi_dlag4', 'rsi_dlag5',\n",
              "       'rsi_dlag6', 'rsi_dlag7', 'rsi_dlag8', 'rsi_dlag9', 'rsi_dlag10',\n",
              "       'rsi_dlag11', 'rsi_dlag12', 'rsi_dlag13', 'rsi_dlag14', 'rsi_dlag15',\n",
              "       'rsi_dlag16', 'rsi_dlag17', 'rsi_dlag18', 'rsi_dlag19'],\n",
              "      dtype='object')"
            ]
          },
          "metadata": {},
          "execution_count": 27
        }
      ]
    },
    {
      "cell_type": "markdown",
      "source": [
        "## 3.0 MODELS"
      ],
      "metadata": {
        "id": "UJnh-2GCi3bv"
      }
    },
    {
      "cell_type": "markdown",
      "source": [
        "### 3.1 Baseline: RidgeRegression"
      ],
      "metadata": {
        "id": "VJh0kBvWi6vY"
      }
    },
    {
      "cell_type": "code",
      "source": [
        "relevant_features = ['ask_price', 'ask_size','bid_ask_size_spread', 'bid_price', 'bid_size', 'check_near_far',\n",
        "                      'dispersion', 'eq_wgt_index', 'far_price', 'imbalance_buy_sell_flag',\n",
        "                      'imbalance_size_sign', 'imbalance_size_sign_delta', 'matched_size',\n",
        "                      'near_price', 'reference_price', 'target',\n",
        "                      'vol_bucket', 'wap', 'vol_cluster', 'corr_cluster', 'imbalance1',\n",
        "                      'imbalance2', 'imbalance_ratio', 'volume', 'ask_priceXsize',\n",
        "                      'bidask_priceXsize', 'near_price-far_price',\n",
        "                      'imbalance_near_price_far_price', 'ask_price-reference_price',\n",
        "                      'imbalance_bid_price_reference_price', 'imbalance_bid_price_ask_price',\n",
        "                      'imbalance_wap_reference_price', 'wap*near_price', 'mov_average_lt',\n",
        "                      'mov_average_st', 'imbalance_wap_near_price', 'imbalance_wap_ask_price',\n",
        "                      'wap-bid_price', 'enc_0', 'enc_1', 'enc_2', 'tree_feat_v0',\n",
        "                      'tree_feat_v1', 'tree_feat_v2',\"rsi_dlag0\"]\n",
        "\n",
        "test_df = test_df[relevant_features]\n",
        "train_df = train_df[relevant_features]\n",
        "\n",
        "X = train_df.drop(\"target\",axis=1)\n",
        "X_test = test_df.drop(\"target\",axis=1)\n",
        "y = train_df[\"target\"]\n",
        "y_test = test_df[\"target\"]\n",
        "\n",
        "X.info()"
      ],
      "metadata": {
        "colab": {
          "base_uri": "https://localhost:8080/"
        },
        "id": "6rVN3jEfhbcC",
        "outputId": "0db6c9e3-3832-44cf-87ef-3de1c63a80be"
      },
      "execution_count": 28,
      "outputs": [
        {
          "output_type": "stream",
          "name": "stdout",
          "text": [
            "<class 'pandas.core.frame.DataFrame'>\n",
            "Int64Index: 5204892 entries, 0 to 5204891\n",
            "Data columns (total 44 columns):\n",
            " #   Column                               Dtype  \n",
            "---  ------                               -----  \n",
            " 0   ask_price                            float32\n",
            " 1   ask_size                             float32\n",
            " 2   bid_ask_size_spread                  float32\n",
            " 3   bid_price                            float32\n",
            " 4   bid_size                             float32\n",
            " 5   check_near_far                       float32\n",
            " 6   dispersion                           float32\n",
            " 7   eq_wgt_index                         float32\n",
            " 8   far_price                            float32\n",
            " 9   imbalance_buy_sell_flag              int32  \n",
            " 10  imbalance_size_sign                  float32\n",
            " 11  imbalance_size_sign_delta            float32\n",
            " 12  matched_size                         float32\n",
            " 13  near_price                           float32\n",
            " 14  reference_price                      float32\n",
            " 15  vol_bucket                           int32  \n",
            " 16  wap                                  float32\n",
            " 17  vol_cluster                          int32  \n",
            " 18  corr_cluster                         int32  \n",
            " 19  imbalance1                           float32\n",
            " 20  imbalance2                           float32\n",
            " 21  imbalance_ratio                      float32\n",
            " 22  volume                               float32\n",
            " 23  ask_priceXsize                       float32\n",
            " 24  bidask_priceXsize                    float32\n",
            " 25  near_price-far_price                 float32\n",
            " 26  imbalance_near_price_far_price       float32\n",
            " 27  ask_price-reference_price            float32\n",
            " 28  imbalance_bid_price_reference_price  float32\n",
            " 29  imbalance_bid_price_ask_price        float32\n",
            " 30  imbalance_wap_reference_price        float32\n",
            " 31  wap*near_price                       float32\n",
            " 32  mov_average_lt                       float32\n",
            " 33  mov_average_st                       float32\n",
            " 34  imbalance_wap_near_price             float32\n",
            " 35  imbalance_wap_ask_price              float32\n",
            " 36  wap-bid_price                        float32\n",
            " 37  enc_0                                float32\n",
            " 38  enc_1                                float32\n",
            " 39  enc_2                                float32\n",
            " 40  tree_feat_v0                         float32\n",
            " 41  tree_feat_v1                         float32\n",
            " 42  tree_feat_v2                         float32\n",
            " 43  rsi_dlag0                            float32\n",
            "dtypes: float32(40), int32(4)\n",
            "memory usage: 913.3 MB\n"
          ]
        }
      ]
    },
    {
      "cell_type": "code",
      "source": [
        "X.corr_cluster.unique()"
      ],
      "metadata": {
        "colab": {
          "base_uri": "https://localhost:8080/"
        },
        "id": "eMb-xq3BlrqD",
        "outputId": "e3c1233a-88aa-4235-f943-47ddd015e412"
      },
      "execution_count": 29,
      "outputs": [
        {
          "output_type": "execute_result",
          "data": {
            "text/plain": [
              "array([3, 2, 0, 4, 1], dtype=int32)"
            ]
          },
          "metadata": {},
          "execution_count": 29
        }
      ]
    },
    {
      "cell_type": "markdown",
      "source": [
        "* **DATA PIPELINE**"
      ],
      "metadata": {
        "id": "hd8mD-cUf0Pq"
      }
    },
    {
      "cell_type": "code",
      "source": [
        "cat_cols = [c for c in X.columns if X[c].dtypes==\"int32\"]\n",
        "num_cols = [c for c in X.columns if X[c].dtypes==\"float32\"]"
      ],
      "metadata": {
        "id": "332b-WUHmmkS"
      },
      "execution_count": 30,
      "outputs": []
    },
    {
      "cell_type": "code",
      "source": [
        "numeric_transformer = Pipeline(\n",
        "                                steps=[(\"scaler\", StandardScaler())]\n",
        "                              )\n",
        "\n",
        "categorical_transformer = Pipeline(\n",
        "                                    steps=[\n",
        "                                        (\"encoder\", OneHotEncoder(handle_unknown=\"ignore\", drop=\"first\"))\n",
        "                                        ])\n",
        "preprocessor = ColumnTransformer(\n",
        "                                  transformers=[\n",
        "                                      (\"num\", numeric_transformer, num_cols),\n",
        "                                      (\"cat\", categorical_transformer, cat_cols),\n",
        "                                  ])\n",
        "\n",
        "# Final Pipeline\n",
        "ridge_reg = Pipeline(\n",
        "                steps=[(\"preprocessor\", preprocessor), (\"ridge\", Ridge())]\n",
        "                )"
      ],
      "metadata": {
        "id": "Eo-qqQ1uiyBD"
      },
      "execution_count": 44,
      "outputs": []
    },
    {
      "cell_type": "code",
      "source": [
        "param_grid = {\n",
        "              \"ridge__alpha\": [0.00001,0.0001,0.001,0.01,0.1,1.0]\n",
        "              }\n",
        "\n",
        "ridge_cv = GridSearchCV(ridge_reg, cv = 5, scoring =\"neg_mean_absolute_error\", param_grid = param_grid, verbose=3)"
      ],
      "metadata": {
        "id": "M0lNoA9uix9v"
      },
      "execution_count": 45,
      "outputs": []
    },
    {
      "cell_type": "code",
      "source": [
        "ridge_cv.fit(X, y)"
      ],
      "metadata": {
        "id": "UBcM_d0Wix6W",
        "colab": {
          "base_uri": "https://localhost:8080/",
          "height": 757
        },
        "outputId": "88ed6e3b-c10f-4cc1-ebd6-3af3c776ad05"
      },
      "execution_count": 46,
      "outputs": [
        {
          "output_type": "stream",
          "name": "stdout",
          "text": [
            "Fitting 5 folds for each of 6 candidates, totalling 30 fits\n",
            "[CV 1/5] END ...............ridge__alpha=1e-05;, score=-5.741 total time=  13.8s\n",
            "[CV 2/5] END ...............ridge__alpha=1e-05;, score=-7.049 total time=  11.7s\n",
            "[CV 3/5] END ...............ridge__alpha=1e-05;, score=-6.401 total time=  11.5s\n",
            "[CV 4/5] END ...............ridge__alpha=1e-05;, score=-6.357 total time=  11.4s\n",
            "[CV 5/5] END ...............ridge__alpha=1e-05;, score=-6.025 total time=  11.6s\n",
            "[CV 1/5] END ..............ridge__alpha=0.0001;, score=-5.741 total time=  11.7s\n",
            "[CV 2/5] END ..............ridge__alpha=0.0001;, score=-7.049 total time=  11.8s\n",
            "[CV 3/5] END ..............ridge__alpha=0.0001;, score=-6.401 total time=  11.5s\n",
            "[CV 4/5] END ..............ridge__alpha=0.0001;, score=-6.357 total time=  11.4s\n",
            "[CV 5/5] END ..............ridge__alpha=0.0001;, score=-6.025 total time=  11.4s\n",
            "[CV 1/5] END ...............ridge__alpha=0.001;, score=-5.741 total time=  11.7s\n",
            "[CV 2/5] END ...............ridge__alpha=0.001;, score=-7.049 total time=  11.7s\n",
            "[CV 3/5] END ...............ridge__alpha=0.001;, score=-6.401 total time=  11.5s\n",
            "[CV 4/5] END ...............ridge__alpha=0.001;, score=-6.357 total time=  11.4s\n",
            "[CV 5/5] END ...............ridge__alpha=0.001;, score=-6.025 total time=  11.5s\n",
            "[CV 1/5] END ................ridge__alpha=0.01;, score=-5.741 total time=  11.7s\n",
            "[CV 2/5] END ................ridge__alpha=0.01;, score=-7.049 total time=  11.7s\n",
            "[CV 3/5] END ................ridge__alpha=0.01;, score=-6.401 total time=  11.5s\n",
            "[CV 4/5] END ................ridge__alpha=0.01;, score=-6.357 total time=  11.5s\n",
            "[CV 5/5] END ................ridge__alpha=0.01;, score=-6.025 total time=  11.4s\n",
            "[CV 1/5] END .................ridge__alpha=0.1;, score=-5.741 total time=  11.7s\n",
            "[CV 2/5] END .................ridge__alpha=0.1;, score=-7.049 total time=  11.7s\n",
            "[CV 3/5] END .................ridge__alpha=0.1;, score=-6.401 total time=  11.4s\n",
            "[CV 4/5] END .................ridge__alpha=0.1;, score=-6.357 total time=  11.4s\n",
            "[CV 5/5] END .................ridge__alpha=0.1;, score=-6.025 total time=  11.5s\n",
            "[CV 1/5] END .................ridge__alpha=1.0;, score=-5.741 total time=  11.6s\n",
            "[CV 2/5] END .................ridge__alpha=1.0;, score=-7.049 total time=  11.7s\n",
            "[CV 3/5] END .................ridge__alpha=1.0;, score=-6.402 total time=  11.5s\n",
            "[CV 4/5] END .................ridge__alpha=1.0;, score=-6.357 total time=  11.5s\n",
            "[CV 5/5] END .................ridge__alpha=1.0;, score=-6.025 total time=  11.4s\n"
          ]
        },
        {
          "output_type": "execute_result",
          "data": {
            "text/plain": [
              "GridSearchCV(cv=5,\n",
              "             estimator=Pipeline(steps=[('preprocessor',\n",
              "                                        ColumnTransformer(transformers=[('num',\n",
              "                                                                         Pipeline(steps=[('scaler',\n",
              "                                                                                          StandardScaler())]),\n",
              "                                                                         ['ask_price',\n",
              "                                                                          'ask_size',\n",
              "                                                                          'bid_ask_size_spread',\n",
              "                                                                          'bid_price',\n",
              "                                                                          'bid_size',\n",
              "                                                                          'check_near_far',\n",
              "                                                                          'dispersion',\n",
              "                                                                          'eq_wgt_index',\n",
              "                                                                          'far_price',\n",
              "                                                                          'imbalance_size_sign',\n",
              "                                                                          'imbalance_size_sign_delta',\n",
              "                                                                          'matched_size',\n",
              "                                                                          'near_price',\n",
              "                                                                          '...\n",
              "                                                                          'imbalance_wap_reference_price',\n",
              "                                                                          'wap*near_price',\n",
              "                                                                          'mov_average_lt',\n",
              "                                                                          'mov_average_st', ...]),\n",
              "                                                                        ('cat',\n",
              "                                                                         Pipeline(steps=[('encoder',\n",
              "                                                                                          OneHotEncoder(drop='first',\n",
              "                                                                                                        handle_unknown='ignore'))]),\n",
              "                                                                         ['imbalance_buy_sell_flag',\n",
              "                                                                          'vol_bucket',\n",
              "                                                                          'vol_cluster',\n",
              "                                                                          'corr_cluster'])])),\n",
              "                                       ('ridge', Ridge())]),\n",
              "             param_grid={'ridge__alpha': [1e-05, 0.0001, 0.001, 0.01, 0.1,\n",
              "                                          1.0]},\n",
              "             scoring='neg_mean_absolute_error', verbose=3)"
            ],
            "text/html": [
              "<style>#sk-container-id-2 {color: black;background-color: white;}#sk-container-id-2 pre{padding: 0;}#sk-container-id-2 div.sk-toggleable {background-color: white;}#sk-container-id-2 label.sk-toggleable__label {cursor: pointer;display: block;width: 100%;margin-bottom: 0;padding: 0.3em;box-sizing: border-box;text-align: center;}#sk-container-id-2 label.sk-toggleable__label-arrow:before {content: \"▸\";float: left;margin-right: 0.25em;color: #696969;}#sk-container-id-2 label.sk-toggleable__label-arrow:hover:before {color: black;}#sk-container-id-2 div.sk-estimator:hover label.sk-toggleable__label-arrow:before {color: black;}#sk-container-id-2 div.sk-toggleable__content {max-height: 0;max-width: 0;overflow: hidden;text-align: left;background-color: #f0f8ff;}#sk-container-id-2 div.sk-toggleable__content pre {margin: 0.2em;color: black;border-radius: 0.25em;background-color: #f0f8ff;}#sk-container-id-2 input.sk-toggleable__control:checked~div.sk-toggleable__content {max-height: 200px;max-width: 100%;overflow: auto;}#sk-container-id-2 input.sk-toggleable__control:checked~label.sk-toggleable__label-arrow:before {content: \"▾\";}#sk-container-id-2 div.sk-estimator input.sk-toggleable__control:checked~label.sk-toggleable__label {background-color: #d4ebff;}#sk-container-id-2 div.sk-label input.sk-toggleable__control:checked~label.sk-toggleable__label {background-color: #d4ebff;}#sk-container-id-2 input.sk-hidden--visually {border: 0;clip: rect(1px 1px 1px 1px);clip: rect(1px, 1px, 1px, 1px);height: 1px;margin: -1px;overflow: hidden;padding: 0;position: absolute;width: 1px;}#sk-container-id-2 div.sk-estimator {font-family: monospace;background-color: #f0f8ff;border: 1px dotted black;border-radius: 0.25em;box-sizing: border-box;margin-bottom: 0.5em;}#sk-container-id-2 div.sk-estimator:hover {background-color: #d4ebff;}#sk-container-id-2 div.sk-parallel-item::after {content: \"\";width: 100%;border-bottom: 1px solid gray;flex-grow: 1;}#sk-container-id-2 div.sk-label:hover label.sk-toggleable__label {background-color: #d4ebff;}#sk-container-id-2 div.sk-serial::before {content: \"\";position: absolute;border-left: 1px solid gray;box-sizing: border-box;top: 0;bottom: 0;left: 50%;z-index: 0;}#sk-container-id-2 div.sk-serial {display: flex;flex-direction: column;align-items: center;background-color: white;padding-right: 0.2em;padding-left: 0.2em;position: relative;}#sk-container-id-2 div.sk-item {position: relative;z-index: 1;}#sk-container-id-2 div.sk-parallel {display: flex;align-items: stretch;justify-content: center;background-color: white;position: relative;}#sk-container-id-2 div.sk-item::before, #sk-container-id-2 div.sk-parallel-item::before {content: \"\";position: absolute;border-left: 1px solid gray;box-sizing: border-box;top: 0;bottom: 0;left: 50%;z-index: -1;}#sk-container-id-2 div.sk-parallel-item {display: flex;flex-direction: column;z-index: 1;position: relative;background-color: white;}#sk-container-id-2 div.sk-parallel-item:first-child::after {align-self: flex-end;width: 50%;}#sk-container-id-2 div.sk-parallel-item:last-child::after {align-self: flex-start;width: 50%;}#sk-container-id-2 div.sk-parallel-item:only-child::after {width: 0;}#sk-container-id-2 div.sk-dashed-wrapped {border: 1px dashed gray;margin: 0 0.4em 0.5em 0.4em;box-sizing: border-box;padding-bottom: 0.4em;background-color: white;}#sk-container-id-2 div.sk-label label {font-family: monospace;font-weight: bold;display: inline-block;line-height: 1.2em;}#sk-container-id-2 div.sk-label-container {text-align: center;}#sk-container-id-2 div.sk-container {/* jupyter's `normalize.less` sets `[hidden] { display: none; }` but bootstrap.min.css set `[hidden] { display: none !important; }` so we also need the `!important` here to be able to override the default hidden behavior on the sphinx rendered scikit-learn.org. See: https://github.com/scikit-learn/scikit-learn/issues/21755 */display: inline-block !important;position: relative;}#sk-container-id-2 div.sk-text-repr-fallback {display: none;}</style><div id=\"sk-container-id-2\" class=\"sk-top-container\"><div class=\"sk-text-repr-fallback\"><pre>GridSearchCV(cv=5,\n",
              "             estimator=Pipeline(steps=[(&#x27;preprocessor&#x27;,\n",
              "                                        ColumnTransformer(transformers=[(&#x27;num&#x27;,\n",
              "                                                                         Pipeline(steps=[(&#x27;scaler&#x27;,\n",
              "                                                                                          StandardScaler())]),\n",
              "                                                                         [&#x27;ask_price&#x27;,\n",
              "                                                                          &#x27;ask_size&#x27;,\n",
              "                                                                          &#x27;bid_ask_size_spread&#x27;,\n",
              "                                                                          &#x27;bid_price&#x27;,\n",
              "                                                                          &#x27;bid_size&#x27;,\n",
              "                                                                          &#x27;check_near_far&#x27;,\n",
              "                                                                          &#x27;dispersion&#x27;,\n",
              "                                                                          &#x27;eq_wgt_index&#x27;,\n",
              "                                                                          &#x27;far_price&#x27;,\n",
              "                                                                          &#x27;imbalance_size_sign&#x27;,\n",
              "                                                                          &#x27;imbalance_size_sign_delta&#x27;,\n",
              "                                                                          &#x27;matched_size&#x27;,\n",
              "                                                                          &#x27;near_price&#x27;,\n",
              "                                                                          &#x27;...\n",
              "                                                                          &#x27;imbalance_wap_reference_price&#x27;,\n",
              "                                                                          &#x27;wap*near_price&#x27;,\n",
              "                                                                          &#x27;mov_average_lt&#x27;,\n",
              "                                                                          &#x27;mov_average_st&#x27;, ...]),\n",
              "                                                                        (&#x27;cat&#x27;,\n",
              "                                                                         Pipeline(steps=[(&#x27;encoder&#x27;,\n",
              "                                                                                          OneHotEncoder(drop=&#x27;first&#x27;,\n",
              "                                                                                                        handle_unknown=&#x27;ignore&#x27;))]),\n",
              "                                                                         [&#x27;imbalance_buy_sell_flag&#x27;,\n",
              "                                                                          &#x27;vol_bucket&#x27;,\n",
              "                                                                          &#x27;vol_cluster&#x27;,\n",
              "                                                                          &#x27;corr_cluster&#x27;])])),\n",
              "                                       (&#x27;ridge&#x27;, Ridge())]),\n",
              "             param_grid={&#x27;ridge__alpha&#x27;: [1e-05, 0.0001, 0.001, 0.01, 0.1,\n",
              "                                          1.0]},\n",
              "             scoring=&#x27;neg_mean_absolute_error&#x27;, verbose=3)</pre><b>In a Jupyter environment, please rerun this cell to show the HTML representation or trust the notebook. <br />On GitHub, the HTML representation is unable to render, please try loading this page with nbviewer.org.</b></div><div class=\"sk-container\" hidden><div class=\"sk-item sk-dashed-wrapped\"><div class=\"sk-label-container\"><div class=\"sk-label sk-toggleable\"><input class=\"sk-toggleable__control sk-hidden--visually\" id=\"sk-estimator-id-9\" type=\"checkbox\" ><label for=\"sk-estimator-id-9\" class=\"sk-toggleable__label sk-toggleable__label-arrow\">GridSearchCV</label><div class=\"sk-toggleable__content\"><pre>GridSearchCV(cv=5,\n",
              "             estimator=Pipeline(steps=[(&#x27;preprocessor&#x27;,\n",
              "                                        ColumnTransformer(transformers=[(&#x27;num&#x27;,\n",
              "                                                                         Pipeline(steps=[(&#x27;scaler&#x27;,\n",
              "                                                                                          StandardScaler())]),\n",
              "                                                                         [&#x27;ask_price&#x27;,\n",
              "                                                                          &#x27;ask_size&#x27;,\n",
              "                                                                          &#x27;bid_ask_size_spread&#x27;,\n",
              "                                                                          &#x27;bid_price&#x27;,\n",
              "                                                                          &#x27;bid_size&#x27;,\n",
              "                                                                          &#x27;check_near_far&#x27;,\n",
              "                                                                          &#x27;dispersion&#x27;,\n",
              "                                                                          &#x27;eq_wgt_index&#x27;,\n",
              "                                                                          &#x27;far_price&#x27;,\n",
              "                                                                          &#x27;imbalance_size_sign&#x27;,\n",
              "                                                                          &#x27;imbalance_size_sign_delta&#x27;,\n",
              "                                                                          &#x27;matched_size&#x27;,\n",
              "                                                                          &#x27;near_price&#x27;,\n",
              "                                                                          &#x27;...\n",
              "                                                                          &#x27;imbalance_wap_reference_price&#x27;,\n",
              "                                                                          &#x27;wap*near_price&#x27;,\n",
              "                                                                          &#x27;mov_average_lt&#x27;,\n",
              "                                                                          &#x27;mov_average_st&#x27;, ...]),\n",
              "                                                                        (&#x27;cat&#x27;,\n",
              "                                                                         Pipeline(steps=[(&#x27;encoder&#x27;,\n",
              "                                                                                          OneHotEncoder(drop=&#x27;first&#x27;,\n",
              "                                                                                                        handle_unknown=&#x27;ignore&#x27;))]),\n",
              "                                                                         [&#x27;imbalance_buy_sell_flag&#x27;,\n",
              "                                                                          &#x27;vol_bucket&#x27;,\n",
              "                                                                          &#x27;vol_cluster&#x27;,\n",
              "                                                                          &#x27;corr_cluster&#x27;])])),\n",
              "                                       (&#x27;ridge&#x27;, Ridge())]),\n",
              "             param_grid={&#x27;ridge__alpha&#x27;: [1e-05, 0.0001, 0.001, 0.01, 0.1,\n",
              "                                          1.0]},\n",
              "             scoring=&#x27;neg_mean_absolute_error&#x27;, verbose=3)</pre></div></div></div><div class=\"sk-parallel\"><div class=\"sk-parallel-item\"><div class=\"sk-item\"><div class=\"sk-label-container\"><div class=\"sk-label sk-toggleable\"><input class=\"sk-toggleable__control sk-hidden--visually\" id=\"sk-estimator-id-10\" type=\"checkbox\" ><label for=\"sk-estimator-id-10\" class=\"sk-toggleable__label sk-toggleable__label-arrow\">estimator: Pipeline</label><div class=\"sk-toggleable__content\"><pre>Pipeline(steps=[(&#x27;preprocessor&#x27;,\n",
              "                 ColumnTransformer(transformers=[(&#x27;num&#x27;,\n",
              "                                                  Pipeline(steps=[(&#x27;scaler&#x27;,\n",
              "                                                                   StandardScaler())]),\n",
              "                                                  [&#x27;ask_price&#x27;, &#x27;ask_size&#x27;,\n",
              "                                                   &#x27;bid_ask_size_spread&#x27;,\n",
              "                                                   &#x27;bid_price&#x27;, &#x27;bid_size&#x27;,\n",
              "                                                   &#x27;check_near_far&#x27;,\n",
              "                                                   &#x27;dispersion&#x27;, &#x27;eq_wgt_index&#x27;,\n",
              "                                                   &#x27;far_price&#x27;,\n",
              "                                                   &#x27;imbalance_size_sign&#x27;,\n",
              "                                                   &#x27;imbalance_size_sign_delta&#x27;,\n",
              "                                                   &#x27;matched_size&#x27;, &#x27;near_price&#x27;,\n",
              "                                                   &#x27;reference_price&#x27;, &#x27;wap&#x27;,\n",
              "                                                   &#x27;imba...\n",
              "                                                   &#x27;ask_price-reference_price&#x27;,\n",
              "                                                   &#x27;imbalance_bid_price_reference_price&#x27;,\n",
              "                                                   &#x27;imbalance_bid_price_ask_price&#x27;,\n",
              "                                                   &#x27;imbalance_wap_reference_price&#x27;,\n",
              "                                                   &#x27;wap*near_price&#x27;,\n",
              "                                                   &#x27;mov_average_lt&#x27;,\n",
              "                                                   &#x27;mov_average_st&#x27;, ...]),\n",
              "                                                 (&#x27;cat&#x27;,\n",
              "                                                  Pipeline(steps=[(&#x27;encoder&#x27;,\n",
              "                                                                   OneHotEncoder(drop=&#x27;first&#x27;,\n",
              "                                                                                 handle_unknown=&#x27;ignore&#x27;))]),\n",
              "                                                  [&#x27;imbalance_buy_sell_flag&#x27;,\n",
              "                                                   &#x27;vol_bucket&#x27;, &#x27;vol_cluster&#x27;,\n",
              "                                                   &#x27;corr_cluster&#x27;])])),\n",
              "                (&#x27;ridge&#x27;, Ridge())])</pre></div></div></div><div class=\"sk-serial\"><div class=\"sk-item\"><div class=\"sk-serial\"><div class=\"sk-item sk-dashed-wrapped\"><div class=\"sk-label-container\"><div class=\"sk-label sk-toggleable\"><input class=\"sk-toggleable__control sk-hidden--visually\" id=\"sk-estimator-id-11\" type=\"checkbox\" ><label for=\"sk-estimator-id-11\" class=\"sk-toggleable__label sk-toggleable__label-arrow\">preprocessor: ColumnTransformer</label><div class=\"sk-toggleable__content\"><pre>ColumnTransformer(transformers=[(&#x27;num&#x27;,\n",
              "                                 Pipeline(steps=[(&#x27;scaler&#x27;, StandardScaler())]),\n",
              "                                 [&#x27;ask_price&#x27;, &#x27;ask_size&#x27;,\n",
              "                                  &#x27;bid_ask_size_spread&#x27;, &#x27;bid_price&#x27;,\n",
              "                                  &#x27;bid_size&#x27;, &#x27;check_near_far&#x27;, &#x27;dispersion&#x27;,\n",
              "                                  &#x27;eq_wgt_index&#x27;, &#x27;far_price&#x27;,\n",
              "                                  &#x27;imbalance_size_sign&#x27;,\n",
              "                                  &#x27;imbalance_size_sign_delta&#x27;, &#x27;matched_size&#x27;,\n",
              "                                  &#x27;near_price&#x27;, &#x27;reference_price&#x27;, &#x27;wap&#x27;,\n",
              "                                  &#x27;imbalance1&#x27;, &#x27;imbalance2&#x27;, &#x27;imbalance_...\n",
              "                                  &#x27;imbalance_near_price_far_price&#x27;,\n",
              "                                  &#x27;ask_price-reference_price&#x27;,\n",
              "                                  &#x27;imbalance_bid_price_reference_price&#x27;,\n",
              "                                  &#x27;imbalance_bid_price_ask_price&#x27;,\n",
              "                                  &#x27;imbalance_wap_reference_price&#x27;,\n",
              "                                  &#x27;wap*near_price&#x27;, &#x27;mov_average_lt&#x27;,\n",
              "                                  &#x27;mov_average_st&#x27;, ...]),\n",
              "                                (&#x27;cat&#x27;,\n",
              "                                 Pipeline(steps=[(&#x27;encoder&#x27;,\n",
              "                                                  OneHotEncoder(drop=&#x27;first&#x27;,\n",
              "                                                                handle_unknown=&#x27;ignore&#x27;))]),\n",
              "                                 [&#x27;imbalance_buy_sell_flag&#x27;, &#x27;vol_bucket&#x27;,\n",
              "                                  &#x27;vol_cluster&#x27;, &#x27;corr_cluster&#x27;])])</pre></div></div></div><div class=\"sk-parallel\"><div class=\"sk-parallel-item\"><div class=\"sk-item\"><div class=\"sk-label-container\"><div class=\"sk-label sk-toggleable\"><input class=\"sk-toggleable__control sk-hidden--visually\" id=\"sk-estimator-id-12\" type=\"checkbox\" ><label for=\"sk-estimator-id-12\" class=\"sk-toggleable__label sk-toggleable__label-arrow\">num</label><div class=\"sk-toggleable__content\"><pre>[&#x27;ask_price&#x27;, &#x27;ask_size&#x27;, &#x27;bid_ask_size_spread&#x27;, &#x27;bid_price&#x27;, &#x27;bid_size&#x27;, &#x27;check_near_far&#x27;, &#x27;dispersion&#x27;, &#x27;eq_wgt_index&#x27;, &#x27;far_price&#x27;, &#x27;imbalance_size_sign&#x27;, &#x27;imbalance_size_sign_delta&#x27;, &#x27;matched_size&#x27;, &#x27;near_price&#x27;, &#x27;reference_price&#x27;, &#x27;wap&#x27;, &#x27;imbalance1&#x27;, &#x27;imbalance2&#x27;, &#x27;imbalance_ratio&#x27;, &#x27;volume&#x27;, &#x27;ask_priceXsize&#x27;, &#x27;bidask_priceXsize&#x27;, &#x27;near_price-far_price&#x27;, &#x27;imbalance_near_price_far_price&#x27;, &#x27;ask_price-reference_price&#x27;, &#x27;imbalance_bid_price_reference_price&#x27;, &#x27;imbalance_bid_price_ask_price&#x27;, &#x27;imbalance_wap_reference_price&#x27;, &#x27;wap*near_price&#x27;, &#x27;mov_average_lt&#x27;, &#x27;mov_average_st&#x27;, &#x27;imbalance_wap_near_price&#x27;, &#x27;imbalance_wap_ask_price&#x27;, &#x27;wap-bid_price&#x27;, &#x27;enc_0&#x27;, &#x27;enc_1&#x27;, &#x27;enc_2&#x27;, &#x27;tree_feat_v0&#x27;, &#x27;tree_feat_v1&#x27;, &#x27;tree_feat_v2&#x27;, &#x27;rsi_dlag0&#x27;]</pre></div></div></div><div class=\"sk-serial\"><div class=\"sk-item\"><div class=\"sk-serial\"><div class=\"sk-item\"><div class=\"sk-estimator sk-toggleable\"><input class=\"sk-toggleable__control sk-hidden--visually\" id=\"sk-estimator-id-13\" type=\"checkbox\" ><label for=\"sk-estimator-id-13\" class=\"sk-toggleable__label sk-toggleable__label-arrow\">StandardScaler</label><div class=\"sk-toggleable__content\"><pre>StandardScaler()</pre></div></div></div></div></div></div></div></div><div class=\"sk-parallel-item\"><div class=\"sk-item\"><div class=\"sk-label-container\"><div class=\"sk-label sk-toggleable\"><input class=\"sk-toggleable__control sk-hidden--visually\" id=\"sk-estimator-id-14\" type=\"checkbox\" ><label for=\"sk-estimator-id-14\" class=\"sk-toggleable__label sk-toggleable__label-arrow\">cat</label><div class=\"sk-toggleable__content\"><pre>[&#x27;imbalance_buy_sell_flag&#x27;, &#x27;vol_bucket&#x27;, &#x27;vol_cluster&#x27;, &#x27;corr_cluster&#x27;]</pre></div></div></div><div class=\"sk-serial\"><div class=\"sk-item\"><div class=\"sk-serial\"><div class=\"sk-item\"><div class=\"sk-estimator sk-toggleable\"><input class=\"sk-toggleable__control sk-hidden--visually\" id=\"sk-estimator-id-15\" type=\"checkbox\" ><label for=\"sk-estimator-id-15\" class=\"sk-toggleable__label sk-toggleable__label-arrow\">OneHotEncoder</label><div class=\"sk-toggleable__content\"><pre>OneHotEncoder(drop=&#x27;first&#x27;, handle_unknown=&#x27;ignore&#x27;)</pre></div></div></div></div></div></div></div></div></div></div><div class=\"sk-item\"><div class=\"sk-estimator sk-toggleable\"><input class=\"sk-toggleable__control sk-hidden--visually\" id=\"sk-estimator-id-16\" type=\"checkbox\" ><label for=\"sk-estimator-id-16\" class=\"sk-toggleable__label sk-toggleable__label-arrow\">Ridge</label><div class=\"sk-toggleable__content\"><pre>Ridge()</pre></div></div></div></div></div></div></div></div></div></div></div></div>"
            ]
          },
          "metadata": {},
          "execution_count": 46
        }
      ]
    },
    {
      "cell_type": "code",
      "source": [
        "# Old Model\n",
        "ridge_cv.best_score_,ridge_cv.best_params_"
      ],
      "metadata": {
        "id": "UoGMDDoxix3L",
        "colab": {
          "base_uri": "https://localhost:8080/"
        },
        "outputId": "d11ac89e-3b54-4e24-b4a3-d861d808083c"
      },
      "execution_count": 47,
      "outputs": [
        {
          "output_type": "execute_result",
          "data": {
            "text/plain": [
              "(-6.314754420853434, {'ridge__alpha': 0.001})"
            ]
          },
          "metadata": {},
          "execution_count": 47
        }
      ]
    },
    {
      "cell_type": "code",
      "source": [
        "# with RSI\n",
        "ridge_cv.best_score_,ridge_cv.best_params_"
      ],
      "metadata": {
        "colab": {
          "base_uri": "https://localhost:8080/"
        },
        "id": "8DGrL3a_Nyc9",
        "outputId": "3eae11ad-c29a-434c-ae1f-4f653d15b065"
      },
      "execution_count": 35,
      "outputs": [
        {
          "output_type": "execute_result",
          "data": {
            "text/plain": [
              "(-6.314754420950701, {'ridge__alpha': 0.001})"
            ]
          },
          "metadata": {},
          "execution_count": 35
        }
      ]
    },
    {
      "cell_type": "code",
      "source": [
        "# Old Model\n",
        "ridge_cv.score(X_test,y_test)"
      ],
      "metadata": {
        "id": "skrbW5-tixz3",
        "colab": {
          "base_uri": "https://localhost:8080/"
        },
        "outputId": "da62fc2d-8bdf-4f44-eee4-75400d6feca3"
      },
      "execution_count": 48,
      "outputs": [
        {
          "output_type": "execute_result",
          "data": {
            "text/plain": [
              "-5.255613186909401"
            ]
          },
          "metadata": {},
          "execution_count": 48
        }
      ]
    },
    {
      "cell_type": "code",
      "source": [
        "# with RSI\n",
        "ridge_cv.score(X_test,y_test)"
      ],
      "metadata": {
        "colab": {
          "base_uri": "https://localhost:8080/"
        },
        "id": "ZIUIHgbmQCZh",
        "outputId": "b7499b27-0bcd-4ad1-d91e-cd076896b595"
      },
      "execution_count": 36,
      "outputs": [
        {
          "output_type": "execute_result",
          "data": {
            "text/plain": [
              "-5.25561318676693"
            ]
          },
          "metadata": {},
          "execution_count": 36
        }
      ]
    },
    {
      "cell_type": "code",
      "source": [
        "current_directory = os.getcwd()\n",
        "\n",
        "os.chdir(\"/content/drive/MyDrive/kaggle/Optiver_comp_2023/Models/sklean_models\")\n",
        "joblib.dump(ridge_cv, \"ridge_reg_v1_rsi.joblib\")\n",
        "os.chdir(current_directory)\n",
        "\n",
        "os.chdir(\"/content/drive/MyDrive/kaggle/Optiver_comp_2023/Models/sklean_models\")\n",
        "estimator = joblib.load(\"ridge_reg_v1_rsi.joblib\")\n",
        "os.chdir(current_directory)"
      ],
      "metadata": {
        "id": "JjRYOnZlixuB"
      },
      "execution_count": 37,
      "outputs": []
    },
    {
      "cell_type": "code",
      "source": [
        "estimator.score(X_test,y_test)"
      ],
      "metadata": {
        "id": "sSNXa8aIixqx",
        "colab": {
          "base_uri": "https://localhost:8080/"
        },
        "outputId": "1fc2d214-5a60-4aef-94cc-6e7ea1d00245"
      },
      "execution_count": 38,
      "outputs": [
        {
          "output_type": "execute_result",
          "data": {
            "text/plain": [
              "-5.25561318676693"
            ]
          },
          "metadata": {},
          "execution_count": 38
        }
      ]
    },
    {
      "cell_type": "code",
      "source": [
        "y_hat = estimator.predict(X_test)"
      ],
      "metadata": {
        "id": "W451UVMNixlQ"
      },
      "execution_count": 39,
      "outputs": []
    },
    {
      "cell_type": "code",
      "source": [
        "plt.scatter(y_hat,y_test)"
      ],
      "metadata": {
        "id": "_FTlcnSbixif",
        "colab": {
          "base_uri": "https://localhost:8080/",
          "height": 447
        },
        "outputId": "62c8d2e9-901d-4c4e-88f2-901d4d131c99"
      },
      "execution_count": 40,
      "outputs": [
        {
          "output_type": "execute_result",
          "data": {
            "text/plain": [
              "<matplotlib.collections.PathCollection at 0x7cdb296c6590>"
            ]
          },
          "metadata": {},
          "execution_count": 40
        },
        {
          "output_type": "display_data",
          "data": {
            "text/plain": [
              "<Figure size 640x480 with 1 Axes>"
            ],
            "image/png": "[encoded data removed]"
          },
          "metadata": {}
        }
      ]
    },
    {
      "cell_type": "code",
      "source": [
        "mean_absolute_error(y_hat,y_test)"
      ],
      "metadata": {
        "id": "WB7LF_MFixfo",
        "colab": {
          "base_uri": "https://localhost:8080/"
        },
        "outputId": "67a2e9c7-1d62-4663-b90c-84ca15f625c2"
      },
      "execution_count": 41,
      "outputs": [
        {
          "output_type": "execute_result",
          "data": {
            "text/plain": [
              "5.25561318676693"
            ]
          },
          "metadata": {},
          "execution_count": 41
        }
      ]
    },
    {
      "cell_type": "code",
      "source": [
        "np.corrcoef(y_hat,y_test)"
      ],
      "metadata": {
        "id": "_R28W48oixcw",
        "colab": {
          "base_uri": "https://localhost:8080/"
        },
        "outputId": "9b0f416c-a76d-429c-e0f2-8c31034cc21c"
      },
      "execution_count": 42,
      "outputs": [
        {
          "output_type": "execute_result",
          "data": {
            "text/plain": [
              "array([[1.        , 0.10227098],\n",
              "       [0.10227098, 1.        ]])"
            ]
          },
          "metadata": {},
          "execution_count": 42
        }
      ]
    },
    {
      "cell_type": "markdown",
      "source": [
        "### **3.2 DecitionTreeRegressor:**"
      ],
      "metadata": {
        "id": "cT2XCkFZTaWz"
      }
    },
    {
      "cell_type": "code",
      "source": [
        "relevant_features = ['ask_price', 'ask_size','bid_ask_size_spread', 'bid_price', 'bid_size', 'check_near_far',\n",
        "                      'dispersion', 'eq_wgt_index', 'far_price', 'imbalance_buy_sell_flag',\n",
        "                      'imbalance_size_sign', 'imbalance_size_sign_delta', 'matched_size',\n",
        "                      'near_price', 'reference_price', 'target',\n",
        "                      'vol_bucket', 'wap', 'vol_cluster', 'corr_cluster', 'imbalance1',\n",
        "                      'imbalance2', 'imbalance_ratio', 'volume', 'ask_priceXsize',\n",
        "                      'bidask_priceXsize', 'near_price-far_price',\n",
        "                      'imbalance_near_price_far_price', 'ask_price-reference_price',\n",
        "                      'imbalance_bid_price_reference_price', 'imbalance_bid_price_ask_price',\n",
        "                      'imbalance_wap_reference_price', 'wap*near_price', 'mov_average_lt',\n",
        "                      'mov_average_st', 'imbalance_wap_near_price', 'imbalance_wap_ask_price',\n",
        "                      'wap-bid_price', 'enc_0', 'enc_1', 'enc_2', 'tree_feat_v0',\n",
        "                      'tree_feat_v1', 'tree_feat_v2',\"rsi_dlag0\"]\n",
        "\n",
        "test_df = test_df[relevant_features]\n",
        "train_df = train_df[relevant_features]\n",
        "\n",
        "X = train_df.drop(\"target\",axis=1)\n",
        "X_test = test_df.drop(\"target\",axis=1)\n",
        "y = train_df[\"target\"]\n",
        "y_test = test_df[\"target\"]\n",
        "\n",
        "X.info()"
      ],
      "metadata": {
        "colab": {
          "base_uri": "https://localhost:8080/"
        },
        "outputId": "b13719cb-0d24-47fd-ce36-b1bc05a072ee",
        "id": "Q7I8vHtLU0Y_"
      },
      "execution_count": 49,
      "outputs": [
        {
          "output_type": "stream",
          "name": "stdout",
          "text": [
            "<class 'pandas.core.frame.DataFrame'>\n",
            "Int64Index: 5204892 entries, 0 to 5204891\n",
            "Data columns (total 44 columns):\n",
            " #   Column                               Dtype  \n",
            "---  ------                               -----  \n",
            " 0   ask_price                            float32\n",
            " 1   ask_size                             float32\n",
            " 2   bid_ask_size_spread                  float32\n",
            " 3   bid_price                            float32\n",
            " 4   bid_size                             float32\n",
            " 5   check_near_far                       float32\n",
            " 6   dispersion                           float32\n",
            " 7   eq_wgt_index                         float32\n",
            " 8   far_price                            float32\n",
            " 9   imbalance_buy_sell_flag              int32  \n",
            " 10  imbalance_size_sign                  float32\n",
            " 11  imbalance_size_sign_delta            float32\n",
            " 12  matched_size                         float32\n",
            " 13  near_price                           float32\n",
            " 14  reference_price                      float32\n",
            " 15  vol_bucket                           int32  \n",
            " 16  wap                                  float32\n",
            " 17  vol_cluster                          int32  \n",
            " 18  corr_cluster                         int32  \n",
            " 19  imbalance1                           float32\n",
            " 20  imbalance2                           float32\n",
            " 21  imbalance_ratio                      float32\n",
            " 22  volume                               float32\n",
            " 23  ask_priceXsize                       float32\n",
            " 24  bidask_priceXsize                    float32\n",
            " 25  near_price-far_price                 float32\n",
            " 26  imbalance_near_price_far_price       float32\n",
            " 27  ask_price-reference_price            float32\n",
            " 28  imbalance_bid_price_reference_price  float32\n",
            " 29  imbalance_bid_price_ask_price        float32\n",
            " 30  imbalance_wap_reference_price        float32\n",
            " 31  wap*near_price                       float32\n",
            " 32  mov_average_lt                       float32\n",
            " 33  mov_average_st                       float32\n",
            " 34  imbalance_wap_near_price             float32\n",
            " 35  imbalance_wap_ask_price              float32\n",
            " 36  wap-bid_price                        float32\n",
            " 37  enc_0                                float32\n",
            " 38  enc_1                                float32\n",
            " 39  enc_2                                float32\n",
            " 40  tree_feat_v0                         float32\n",
            " 41  tree_feat_v1                         float32\n",
            " 42  tree_feat_v2                         float32\n",
            " 43  rsi_dlag0                            float32\n",
            "dtypes: float32(40), int32(4)\n",
            "memory usage: 913.3 MB\n"
          ]
        }
      ]
    },
    {
      "cell_type": "code",
      "source": [
        "X.corr_cluster.unique()"
      ],
      "metadata": {
        "colab": {
          "base_uri": "https://localhost:8080/"
        },
        "outputId": "553d2296-f19d-49e5-d1f8-e0b7255aacda",
        "id": "ftki0-WQU0Y_"
      },
      "execution_count": 50,
      "outputs": [
        {
          "output_type": "execute_result",
          "data": {
            "text/plain": [
              "array([3, 2, 0, 4, 1], dtype=int32)"
            ]
          },
          "metadata": {},
          "execution_count": 50
        }
      ]
    },
    {
      "cell_type": "markdown",
      "source": [
        "* **DATA PIPELINE**"
      ],
      "metadata": {
        "id": "qgVLYJZJU0Y_"
      }
    },
    {
      "cell_type": "code",
      "source": [
        "cat_cols = [c for c in X.columns if X[c].dtypes==\"int32\"]\n",
        "num_cols = [c for c in X.columns if X[c].dtypes==\"float32\"]"
      ],
      "metadata": {
        "id": "9WiB42WyU0ZA"
      },
      "execution_count": 51,
      "outputs": []
    },
    {
      "cell_type": "code",
      "source": [
        "numeric_transformer = Pipeline(\n",
        "                                steps=[(\"scaler\", StandardScaler())]\n",
        "                              )\n",
        "\n",
        "categorical_transformer = Pipeline(\n",
        "                                    steps=[\n",
        "                                        (\"encoder\", OneHotEncoder(handle_unknown=\"ignore\"))\n",
        "                                        ])\n",
        "preprocessor = ColumnTransformer(\n",
        "                                  transformers=[\n",
        "                                      (\"num\", numeric_transformer, num_cols),\n",
        "                                      (\"cat\", categorical_transformer, cat_cols),\n",
        "                                  ])\n",
        "\n",
        "# Final Pipeline\n",
        "dectree_reg = Pipeline(\n",
        "                steps=[(\"preprocessor\", preprocessor), (\"treereg\", DecisionTreeRegressor(criterion=\"absolute_error\"))]\n",
        "                )"
      ],
      "metadata": {
        "id": "6wTNGTw9U0ZA"
      },
      "execution_count": 58,
      "outputs": []
    },
    {
      "cell_type": "code",
      "source": [
        "param_grid = {\n",
        "              \"treereg__max_depth\": [7,8,9],\n",
        "              \"treereg__min_samples_split\": [1000,5000,7500],\n",
        "              \"treereg__min_samples_leaf\":[1000,5000,7500]\n",
        "              }\n",
        "\n",
        "dectree_cv = GridSearchCV(dectree_reg, cv = 5, scoring =\"neg_mean_absolute_error\", param_grid = param_grid, verbose=3)"
      ],
      "metadata": {
        "id": "GZP7TEqLU0ZA"
      },
      "execution_count": 59,
      "outputs": []
    },
    {
      "cell_type": "code",
      "source": [
        "dectree_cv.fit(X, y)"
      ],
      "metadata": {
        "id": "hUT1qnNhixWn",
        "colab": {
          "base_uri": "https://localhost:8080/"
        },
        "outputId": "7f86daae-bbb5-4a37-e08b-c82417023e81"
      },
      "execution_count": null,
      "outputs": [
        {
          "output_type": "stream",
          "name": "stdout",
          "text": [
            "Fitting 5 folds for each of 27 candidates, totalling 135 fits\n"
          ]
        }
      ]
    },
    {
      "cell_type": "code",
      "source": [
        "# Old Model\n",
        "dectree_cv.best_score_,dectree_cv.best_params_"
      ],
      "metadata": {
        "id": "1yv5OP32dRRZ"
      },
      "execution_count": null,
      "outputs": []
    },
    {
      "cell_type": "code",
      "source": [
        "# Old Model\n",
        "dectree_cv.score(X_test,y_test)"
      ],
      "metadata": {
        "id": "gVg7C5S6dRRa"
      },
      "execution_count": null,
      "outputs": []
    },
    {
      "cell_type": "code",
      "source": [
        "current_directory = os.getcwd()\n",
        "\n",
        "os.chdir(\"/content/drive/MyDrive/kaggle/Optiver_comp_2023/Models/sklean_models\")\n",
        "joblib.dump(ridge_cv, \"dectree_reg_v0.joblib\")\n",
        "os.chdir(current_directory)\n",
        "\n",
        "os.chdir(\"/content/drive/MyDrive/kaggle/Optiver_comp_2023/Models/sklean_models\")\n",
        "estimator = joblib.load(\"dectree_reg_v0.joblib\")\n",
        "os.chdir(current_directory)"
      ],
      "metadata": {
        "id": "sgPcxA7NdRRa"
      },
      "execution_count": null,
      "outputs": []
    },
    {
      "cell_type": "code",
      "source": [
        "estimator.score(X_test,y_test)"
      ],
      "metadata": {
        "id": "GrLmqeD0dhn6"
      },
      "execution_count": null,
      "outputs": []
    },
    {
      "cell_type": "code",
      "source": [
        "y_hat = estimator.predict(X_test)"
      ],
      "metadata": {
        "id": "2hITBiTEdhn6"
      },
      "execution_count": null,
      "outputs": []
    },
    {
      "cell_type": "code",
      "source": [
        "plt.scatter(y_hat,y_test)"
      ],
      "metadata": {
        "id": "6Mzgy7oFdhn6"
      },
      "execution_count": null,
      "outputs": []
    },
    {
      "cell_type": "code",
      "source": [],
      "metadata": {
        "id": "up_kh7ZdixTp"
      },
      "execution_count": null,
      "outputs": []
    },
    {
      "cell_type": "code",
      "source": [],
      "metadata": {
        "id": "gkDk3EnmixQh"
      },
      "execution_count": null,
      "outputs": []
    },
    {
      "cell_type": "code",
      "execution_count": null,
      "metadata": {
        "id": "oc1KEsSMWSZN"
      },
      "outputs": [],
      "source": [
        "autoencoder_prellin, latent_model_prellin = model_autoencoder_mult()\n",
        "\n",
        "# Get summary\n",
        "autoencoder_prellin.summary()"
      ]
    },
    {
      "cell_type": "code",
      "execution_count": null,
      "metadata": {
        "id": "-nRT6CWvN--p"
      },
      "outputs": [],
      "source": [
        "lr = tf.keras.callbacks.ReduceLROnPlateau(monitor=\"val_Regression_Output_loss\",\n",
        "                        factor=0.5,\n",
        "                        patience=7,\n",
        "                        verbose=1,\n",
        "                        mode=\"min\")\n",
        "\n",
        "early_stop = tf.keras.callbacks.EarlyStopping(monitor=\"val_Regression_Output_loss\",\n",
        "                            patience=12,\n",
        "                            verbose=1,\n",
        "                            mode=\"min\",\n",
        "                            restore_best_weights=True)\n",
        "\n",
        "\n",
        "checkpoint_filepath = '/checkpoint/'\n",
        "\n",
        "Checkpoint = tf.keras.callbacks.ModelCheckpoint(filepath=checkpoint_filepath,\n",
        "                                                 save_weights_only=True,\n",
        "                                                 monitor=\"val_Regression_Output_loss\",\n",
        "                                                 mode='min',\n",
        "                                                 restore_best_weights=True)\n",
        "\n",
        "# Train the autoencoder with MNIST data\n",
        "history_prellin = autoencoder_prellin.fit(X_t, [X_t, y_t], epochs=120, batch_size=256, callbacks = [early_stop, Checkpoint, lr],\n",
        "                                       shuffle=True, validation_data=(X_v, [X_v, y_v]))"
      ]
    },
    {
      "cell_type": "code",
      "source": [
        "# Plot training and validation loss scores\n",
        "# against the number of epochs.\n",
        "plt.figure(figsize=(10, 7))\n",
        "plt.plot(history_prellin.history['loss'], label='Train')\n",
        "plt.plot(history_prellin.history['val_loss'], label='Validation')\n",
        "plt.ylabel('MSE')\n",
        "plt.xlabel('Epoch')\n",
        "plt.title('Autoencoder Reconstruction Loss', pad=13)\n",
        "plt.legend(loc='upper right')"
      ],
      "metadata": {
        "id": "113kgg-EGUqp"
      },
      "execution_count": null,
      "outputs": []
    },
    {
      "cell_type": "code",
      "source": [
        "os.chdir(folders_nn)\n",
        "autoencoder_prellin.save(f'enc/autoencoder')\n",
        "latent_model_prellin.save(f'enc/encoder')\n",
        "os.chdir(current_directory)"
      ],
      "metadata": {
        "id": "VdCMns1FTPu-"
      },
      "execution_count": null,
      "outputs": []
    },
    {
      "cell_type": "code",
      "execution_count": null,
      "metadata": {
        "id": "_E8E61siYnDh"
      },
      "outputs": [],
      "source": [
        "autoencoder_prellin.load_weights(checkpoint_filepath)\n",
        "\n",
        "os.chdir(folders_nn)\n",
        "autoencoder_prellin.save(f'enc/autoencoder')\n",
        "latent_model_prellin.save(f'enc/encoder')\n",
        "os.chdir(current_directory)"
      ]
    },
    {
      "cell_type": "markdown",
      "source": [
        "#### 5.1.1 Load Best Model and Create Features:"
      ],
      "metadata": {
        "id": "jlASTG8eIvKK"
      }
    },
    {
      "cell_type": "code",
      "source": [
        "os.chdir(\"/content/drive/MyDrive/kaggle/Optiver_comp_2023/Models/som_model\")\n",
        "\n",
        "with open('encoder_scaler.pickle', 'rb') as handle:\n",
        "    enc_scaler = pickle.load(handle)\n",
        "\n",
        "os.chdir(current_directory)"
      ],
      "metadata": {
        "id": "mvXUBmJSI6Fd"
      },
      "execution_count": null,
      "outputs": []
    },
    {
      "cell_type": "code",
      "source": [
        "os.chdir(folders_nn)\n",
        "model = keras.models.load_model('enc/encoder')\n",
        "os.chdir(current_directory)"
      ],
      "metadata": {
        "id": "ANdA0fnBTQ-H"
      },
      "execution_count": null,
      "outputs": []
    },
    {
      "cell_type": "code",
      "source": [
        "tabular_features = ['ask_price', 'ask_size','bid_ask_size_spread', 'bid_price', 'bid_size', 'check_near_far',\n",
        "       'dispersion', 'eq_wgt_index', 'far_price','imbalance_size_sign', 'imbalance_size_sign_delta', 'matched_size',\n",
        "       'near_price', 'reference_price', 'target', 'wap', 'imbalance1', 'imbalance2', 'imbalance_ratio', 'volume', 'ask_priceXsize',\n",
        "       'bidask_priceXsize', 'near_price-far_price','imbalance_near_price_far_price', 'ask_price-reference_price',\n",
        "       'imbalance_bid_price_reference_price', 'imbalance_bid_price_ask_price','imbalance_wap_reference_price',\n",
        "       'wap*near_price', 'mov_average_lt','mov_average_st', 'imbalance_wap_near_price', 'imbalance_wap_ask_price',\n",
        "       'wap-bid_price', 'tree_feat_v0']\n",
        "\n",
        "tabular_features.remove(\"target\")\n",
        "train_encoding = train[tabular_features]\n",
        "train_encoding = enc_scaler.transform(train_encoding)\n",
        "train_encoding.shape"
      ],
      "metadata": {
        "id": "MihXtScgJD1A"
      },
      "execution_count": null,
      "outputs": []
    },
    {
      "cell_type": "code",
      "source": [
        "enc_features = model.predict(train_encoding,batch_size=1024)"
      ],
      "metadata": {
        "id": "AOR1wfMYJvIy"
      },
      "execution_count": null,
      "outputs": []
    },
    {
      "cell_type": "code",
      "source": [
        "enc_df = pd.DataFrame(data=enc_features,columns=[\"enc_0\",\"enc_1\",\"enc_2\"])\n",
        "#enc_df[\"target\"]=train[\"target\"]\n",
        "enc_df.corr()"
      ],
      "metadata": {
        "id": "28DAU00QKO40"
      },
      "execution_count": null,
      "outputs": []
    },
    {
      "cell_type": "code",
      "source": [],
      "metadata": {
        "id": "X6iZWi-DLYNB"
      },
      "execution_count": null,
      "outputs": []
    },
    {
      "cell_type": "code",
      "source": [
        "train[[\"enc_0\",\"enc_1\",\"enc_2\"]] = enc_df"
      ],
      "metadata": {
        "id": "kVfcslYxQGvW"
      },
      "execution_count": null,
      "outputs": []
    },
    {
      "cell_type": "code",
      "source": [
        "train"
      ],
      "metadata": {
        "id": "F-hHQIpBRT75"
      },
      "execution_count": null,
      "outputs": []
    },
    {
      "cell_type": "code",
      "source": [],
      "metadata": {
        "id": "vlbL0pqtRZVn"
      },
      "execution_count": null,
      "outputs": []
    }
  ],
  "metadata": {
    "colab": {
      "machine_shape": "hm",
      "provenance": [],
      "toc_visible": true,
      "authorship_tag": "ABX9TyPh1BxnzTfykzu9MzrEj0Bm",
      "include_colab_link": true
    },
    "kernelspec": {
      "display_name": "Python 3",
      "name": "python3"
    },
    "language_info": {
      "name": "python"
    }
  },
  "nbformat": 4,
  "nbformat_minor": 0
}